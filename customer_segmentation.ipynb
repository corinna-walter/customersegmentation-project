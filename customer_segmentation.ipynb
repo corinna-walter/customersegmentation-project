{
 "cells": [
  {
   "cell_type": "markdown",
   "id": "1515994b-296f-420d-914e-08d5cb705aff",
   "metadata": {},
   "source": [
    "# Customer Segmentation With A Online Transaction Dataset"
   ]
  },
  {
   "cell_type": "markdown",
   "id": "cfcffa8b-2b97-4d1d-a83a-7d390e3ff815",
   "metadata": {},
   "source": [
    "### Table of Contents\n",
    "* [Step 1: Import necessary libraries and modules](#chapter1)\n",
    "* [Step 2: Load the dataset](#chapter2)\n",
    "    * [2.1 Characteristics of online_transactions_cleaned](#section_2_1)\n",
    "    * [2.2 Observation in the statistical values](#section_2_2)\n",
    "    * [2.3 How to handle the canceled orders?](#section_2_3)\n",
    "* [Step 3: Explore the dataset (with SQL Queries)](#chapter3)\n",
    "    * [3.1 What are the top ten most popular geographical locations? ](#section_3_1)\n",
    "    * [3.2 Which country has spent the most...?](#section_3_2)\n",
    "        * [3.2.1  ... by order value](#sub_section_3_2_1)\n",
    "        * [3.2.2  ... by item quantity](#sub_section_3_2_2)\n",
    "    * [3.3 Looking at seasonality](#section_3_3)\n",
    "        * [3.3.1 How many unique invoices per month in 2011?](#sub_section_3_3_1)\n",
    "        * [3.3.2 Which day of the week has the highest number of transactions?](#sub_section_3_3_2)\n",
    "    * [3.4 Which customers have purchased the most?](#section_3_4)\n",
    "    * [3.5 Which customers are recurring customers?](#section_3_5)\n",
    "* [Step 4: Creating Customer Categories...](#chapter4)\n",
    "    * [4.1 ... by frequency](#section_4_1)\n",
    "    * [4.2 ... by sales amount](#section_4_2)\n",
    "* [Step 5: Customer segmentation with K-Means clustering](#chapter5)\n",
    "    * [5.1 Aggregating data at customer level](#section_5_1)\n",
    "    * [5.2 Removing outliers](#section_5_2)\n",
    "    * [5.3 Applying the Elbow Method](#section_5_3)\n",
    "    * [5.4 Implementing K-Means clustering](#section_5_4)\n",
    "    * [5.5 Vizualize the clusters](#section_5_5)\n",
    "    * [5.6 Analysis of the customer clusters](#section_5_6)"
   ]
  },
  {
   "cell_type": "markdown",
   "id": "3a8c2e0f-ac10-482c-9342-6445b263b116",
   "metadata": {},
   "source": [
    "## 1. Import necessary libraries and modules <a id=\"chapter1\"></a>"
   ]
  },
  {
   "cell_type": "code",
   "execution_count": 15,
   "id": "2acb70b0-efee-4d0a-80d1-d2593b740182",
   "metadata": {},
   "outputs": [],
   "source": [
    "import pandas as pd\n",
    "import numpy as np\n",
    "import sqlite3"
   ]
  },
  {
   "cell_type": "code",
   "execution_count": 6,
   "id": "a10d2e3d-7fbf-4c59-bd00-fd07fddf0b88",
   "metadata": {},
   "outputs": [],
   "source": [
    "from datetime import datetime\n",
    "import matplotlib.pyplot as plt\n",
    "import seaborn as sns\n",
    "\n",
    "from sklearn.cluster import KMeans\n",
    "from sklearn.preprocessing import StandardScaler\n",
    "from sklearn.metrics import silhouette_score\n",
    "from scipy import stats\n",
    "\n",
    "# For Windows users: Set the number of threads to 1 to avoid problems with KMeans\n",
    "import os\n",
    "os.environ['OMP_NUM_THREADS'] = '1'\n"
   ]
  },
  {
   "cell_type": "markdown",
   "id": "cd0a860b-f846-46a9-aef7-2c71f206b5f2",
   "metadata": {},
   "source": [
    "## 2. Load the dataset  <a id=\"chapter2\"></a>"
   ]
  },
  {
   "cell_type": "code",
   "execution_count": 18,
   "id": "49788f4f-2609-4b12-9557-abc71d850f1b",
   "metadata": {},
   "outputs": [],
   "source": [
    "# connect to db (cleaned w/ 3 tables)\n",
    "conn = sqlite3.connect(\"data/bootcamp_db\")"
   ]
  },
  {
   "cell_type": "code",
   "execution_count": 19,
   "id": "bb9f4b35-dede-4420-9f10-eefcf8bea050",
   "metadata": {},
   "outputs": [
    {
     "data": {
      "text/plain": [
       "<sqlite3.Connection at 0x25af0659c60>"
      ]
     },
     "execution_count": 19,
     "metadata": {},
     "output_type": "execute_result"
    }
   ],
   "source": [
    "conn"
   ]
  },
  {
   "cell_type": "code",
   "execution_count": 20,
   "id": "15b24c4f-8def-4ce3-b03a-7c642f21f24d",
   "metadata": {},
   "outputs": [
    {
     "name": "stdout",
     "output_type": "stream",
     "text": [
      "List of tables in the database:\n",
      "[('online_transactions',), ('stock_description',), ('online_transactions_cleaned',)]\n"
     ]
    }
   ],
   "source": [
    "# Doublecheck of the db contains 3tables\n",
    "sql_query = \"\"\"SELECT name \n",
    "               FROM sqlite_master \n",
    "               WHERE type='table';\"\"\"\n",
    "\n",
    "cursor = conn.cursor()\n",
    "\n",
    "# executing our sql query\n",
    "cursor.execute(sql_query)\n",
    "\n",
    " \n",
    "# printing all tables list\n",
    "print(f\"List of tables in the database:\\n{cursor.fetchall()}\")"
   ]
  },
  {
   "cell_type": "markdown",
   "id": "67a53574-3189-4132-ac26-739b0582c71c",
   "metadata": {},
   "source": [
    " "
   ]
  },
  {
   "cell_type": "markdown",
   "id": "aeeecc52-6926-46a3-81be-bbdaab4abc1d",
   "metadata": {},
   "source": [
    "\n",
    "The database contains three tables:\n",
    "- online_transactions\n",
    "- stock_description\n",
    "- online_transactions_cleaned\n",
    "\n",
    "In a previous exercise the first two tabels has been explored and joined together. The result ist the third table 'online_transactions_cleaned'."
   ]
  },
  {
   "cell_type": "markdown",
   "id": "0086b75e-82fc-45a7-ad0e-6ebfeb3a5ad5",
   "metadata": {},
   "source": [
    "### 2.1 Characteristics of online_transactions_cleaned' <a id=\"section_2_1\"></a>"
   ]
  },
  {
   "cell_type": "markdown",
   "id": "ca0ed19d-0982-4690-b3fe-b7755b6975d3",
   "metadata": {},
   "source": [
    "In a previous project:\n",
    "-  a left JOIN query has added the description from 'stock_description' to the 'online_transactions' table<br>\n",
    "\n",
    "The left join query has considered:\n",
    "- Filling in UNKNOWN' when description is null \n",
    "- Creating a the column total_amount_spent by price*quantity \n",
    "- Removing rows where the col. stock_code is '?'\n",
    "- Removing rows where the col. stock_code is BANK CHARGES', 'POST', 'D', 'M', 'CRUK'\n",
    "- Removing rows where customer_id is blank\n",
    "\n",
    "The result is the table 'online_transactions_cleaned'<br>\n",
    "\n",
    "In 'online_transactions_cleaned' the duplicates have been already removed"
   ]
  },
  {
   "cell_type": "code",
   "execution_count": 21,
   "id": "d725dffd-ac68-48d5-8dc4-72355f9acfcb",
   "metadata": {},
   "outputs": [],
   "source": [
    "#Create a dataframe from the table online_transactions_cleaned\n",
    "ot_cleaned = pd.read_sql_query(\"\"\"SELECT * FROM online_transactions_cleaned\"\"\", conn)"
   ]
  },
  {
   "cell_type": "code",
   "execution_count": 22,
   "id": "eb52c11c-83fd-4b83-ad25-3d58b67bf35c",
   "metadata": {},
   "outputs": [
    {
     "data": {
      "text/plain": [
       "pandas.core.frame.DataFrame"
      ]
     },
     "execution_count": 22,
     "metadata": {},
     "output_type": "execute_result"
    }
   ],
   "source": [
    "type(ot_cleaned)"
   ]
  },
  {
   "cell_type": "code",
   "execution_count": 23,
   "id": "85554b36-5226-445c-b3cb-6f3dc8f6b8b3",
   "metadata": {},
   "outputs": [
    {
     "data": {
      "text/html": [
       "<div>\n",
       "<style scoped>\n",
       "    .dataframe tbody tr th:only-of-type {\n",
       "        vertical-align: middle;\n",
       "    }\n",
       "\n",
       "    .dataframe tbody tr th {\n",
       "        vertical-align: top;\n",
       "    }\n",
       "\n",
       "    .dataframe thead th {\n",
       "        text-align: right;\n",
       "    }\n",
       "</style>\n",
       "<table border=\"1\" class=\"dataframe\">\n",
       "  <thead>\n",
       "    <tr style=\"text-align: right;\">\n",
       "      <th></th>\n",
       "      <th>invoice</th>\n",
       "      <th>stock_code</th>\n",
       "      <th>description</th>\n",
       "      <th>invoice_date</th>\n",
       "      <th>price</th>\n",
       "      <th>quantity</th>\n",
       "      <th>total_order_value</th>\n",
       "      <th>customer_id</th>\n",
       "      <th>country</th>\n",
       "    </tr>\n",
       "  </thead>\n",
       "  <tbody>\n",
       "    <tr>\n",
       "      <th>0</th>\n",
       "      <td>536370</td>\n",
       "      <td>21791</td>\n",
       "      <td>VINTAGE HEADS AND TAILS CARD GAME</td>\n",
       "      <td>2010-12-01 08:45:00</td>\n",
       "      <td>1.25</td>\n",
       "      <td>24</td>\n",
       "      <td>30.00</td>\n",
       "      <td>u12583</td>\n",
       "      <td>France</td>\n",
       "    </tr>\n",
       "    <tr>\n",
       "      <th>1</th>\n",
       "      <td>536373</td>\n",
       "      <td>82494L</td>\n",
       "      <td>WOODEN FRAME ANTIQUE WHITE</td>\n",
       "      <td>2010-12-01 09:02:00</td>\n",
       "      <td>2.55</td>\n",
       "      <td>6</td>\n",
       "      <td>15.30</td>\n",
       "      <td>u1785</td>\n",
       "      <td>United Kingdom</td>\n",
       "    </tr>\n",
       "    <tr>\n",
       "      <th>2</th>\n",
       "      <td>536378</td>\n",
       "      <td>21929</td>\n",
       "      <td>JUMBO BAG PINK VINTAGE PAISLEY</td>\n",
       "      <td>2010-12-01 09:37:00</td>\n",
       "      <td>1.95</td>\n",
       "      <td>10</td>\n",
       "      <td>19.50</td>\n",
       "      <td>u14688</td>\n",
       "      <td>United Kingdom</td>\n",
       "    </tr>\n",
       "    <tr>\n",
       "      <th>3</th>\n",
       "      <td>536381</td>\n",
       "      <td>37444A</td>\n",
       "      <td>YELLOW BREAKFAST CUP AND SAUCER</td>\n",
       "      <td>2010-12-01 09:41:00</td>\n",
       "      <td>2.95</td>\n",
       "      <td>1</td>\n",
       "      <td>2.95</td>\n",
       "      <td>u15311</td>\n",
       "      <td>United Kingdom</td>\n",
       "    </tr>\n",
       "    <tr>\n",
       "      <th>4</th>\n",
       "      <td>536381</td>\n",
       "      <td>15056BL</td>\n",
       "      <td>EDWARDIAN PARASOL BLACK</td>\n",
       "      <td>2010-12-01 09:41:00</td>\n",
       "      <td>5.95</td>\n",
       "      <td>2</td>\n",
       "      <td>11.90</td>\n",
       "      <td>u15311</td>\n",
       "      <td>United Kingdom</td>\n",
       "    </tr>\n",
       "  </tbody>\n",
       "</table>\n",
       "</div>"
      ],
      "text/plain": [
       "  invoice stock_code                         description         invoice_date  \\\n",
       "0  536370      21791  VINTAGE HEADS AND TAILS CARD GAME   2010-12-01 08:45:00   \n",
       "1  536373     82494L         WOODEN FRAME ANTIQUE WHITE   2010-12-01 09:02:00   \n",
       "2  536378      21929      JUMBO BAG PINK VINTAGE PAISLEY  2010-12-01 09:37:00   \n",
       "3  536381     37444A     YELLOW BREAKFAST CUP AND SAUCER  2010-12-01 09:41:00   \n",
       "4  536381    15056BL             EDWARDIAN PARASOL BLACK  2010-12-01 09:41:00   \n",
       "\n",
       "   price  quantity  total_order_value customer_id         country  \n",
       "0   1.25        24              30.00      u12583          France  \n",
       "1   2.55         6              15.30       u1785  United Kingdom  \n",
       "2   1.95        10              19.50      u14688  United Kingdom  \n",
       "3   2.95         1               2.95      u15311  United Kingdom  \n",
       "4   5.95         2              11.90      u15311  United Kingdom  "
      ]
     },
     "execution_count": 23,
     "metadata": {},
     "output_type": "execute_result"
    }
   ],
   "source": [
    "ot_cleaned.head()"
   ]
  },
  {
   "cell_type": "code",
   "execution_count": 24,
   "id": "9a3b9f95-d96d-4b1c-95dc-053665a2174f",
   "metadata": {},
   "outputs": [
    {
     "data": {
      "text/plain": [
       "(399841, 9)"
      ]
     },
     "execution_count": 24,
     "metadata": {},
     "output_type": "execute_result"
    }
   ],
   "source": [
    "ot_cleaned.shape "
   ]
  },
  {
   "cell_type": "code",
   "execution_count": 25,
   "id": "855ee57e-929d-4795-b29b-e6f0bd200871",
   "metadata": {},
   "outputs": [
    {
     "data": {
      "text/html": [
       "<div>\n",
       "<style scoped>\n",
       "    .dataframe tbody tr th:only-of-type {\n",
       "        vertical-align: middle;\n",
       "    }\n",
       "\n",
       "    .dataframe tbody tr th {\n",
       "        vertical-align: top;\n",
       "    }\n",
       "\n",
       "    .dataframe thead th {\n",
       "        text-align: right;\n",
       "    }\n",
       "</style>\n",
       "<table border=\"1\" class=\"dataframe\">\n",
       "  <thead>\n",
       "    <tr style=\"text-align: right;\">\n",
       "      <th></th>\n",
       "      <th>price</th>\n",
       "      <th>quantity</th>\n",
       "      <th>total_order_value</th>\n",
       "    </tr>\n",
       "  </thead>\n",
       "  <tbody>\n",
       "    <tr>\n",
       "      <th>count</th>\n",
       "      <td>399841.000000</td>\n",
       "      <td>399841.000000</td>\n",
       "      <td>399841.000000</td>\n",
       "    </tr>\n",
       "    <tr>\n",
       "      <th>mean</th>\n",
       "      <td>2.952914</td>\n",
       "      <td>12.224359</td>\n",
       "      <td>20.716904</td>\n",
       "    </tr>\n",
       "    <tr>\n",
       "      <th>std</th>\n",
       "      <td>7.317593</td>\n",
       "      <td>250.788860</td>\n",
       "      <td>425.471765</td>\n",
       "    </tr>\n",
       "    <tr>\n",
       "      <th>min</th>\n",
       "      <td>0.000000</td>\n",
       "      <td>-80995.000000</td>\n",
       "      <td>-168469.600000</td>\n",
       "    </tr>\n",
       "    <tr>\n",
       "      <th>25%</th>\n",
       "      <td>1.250000</td>\n",
       "      <td>2.000000</td>\n",
       "      <td>4.250000</td>\n",
       "    </tr>\n",
       "    <tr>\n",
       "      <th>50%</th>\n",
       "      <td>1.950000</td>\n",
       "      <td>5.000000</td>\n",
       "      <td>11.580000</td>\n",
       "    </tr>\n",
       "    <tr>\n",
       "      <th>75%</th>\n",
       "      <td>3.750000</td>\n",
       "      <td>12.000000</td>\n",
       "      <td>19.500000</td>\n",
       "    </tr>\n",
       "    <tr>\n",
       "      <th>max</th>\n",
       "      <td>1599.260000</td>\n",
       "      <td>80995.000000</td>\n",
       "      <td>168469.600000</td>\n",
       "    </tr>\n",
       "  </tbody>\n",
       "</table>\n",
       "</div>"
      ],
      "text/plain": [
       "               price       quantity  total_order_value\n",
       "count  399841.000000  399841.000000      399841.000000\n",
       "mean        2.952914      12.224359          20.716904\n",
       "std         7.317593     250.788860         425.471765\n",
       "min         0.000000  -80995.000000     -168469.600000\n",
       "25%         1.250000       2.000000           4.250000\n",
       "50%         1.950000       5.000000          11.580000\n",
       "75%         3.750000      12.000000          19.500000\n",
       "max      1599.260000   80995.000000      168469.600000"
      ]
     },
     "execution_count": 25,
     "metadata": {},
     "output_type": "execute_result"
    }
   ],
   "source": [
    "ot_cleaned.describe()"
   ]
  },
  {
   "cell_type": "markdown",
   "id": "7ffa2ac9-371a-44bd-a640-62fded4e90a5",
   "metadata": {},
   "source": [
    "### 2.2 Observation in the statistical values <a id=\"section_2_2\"></a>\n",
    "We can see negative values at the minimum for 'quantitiy' and 'total_order_value'. That's unusual and illogical. The minimum should be at least 0.00\n",
    "Most propably this numbers come form canceled orders. They lead to negative values in 'quantity' and 'price'.\n",
    "The cancelation entries contain a \"C\" in the invoice number and have the negativ numbers. The orginial orders haven't been removed and are still in the table."
   ]
  },
  {
   "cell_type": "code",
   "execution_count": 26,
   "id": "db101d93-5797-43af-b957-bf8220f4b9fd",
   "metadata": {},
   "outputs": [
    {
     "data": {
      "text/html": [
       "<div>\n",
       "<style scoped>\n",
       "    .dataframe tbody tr th:only-of-type {\n",
       "        vertical-align: middle;\n",
       "    }\n",
       "\n",
       "    .dataframe tbody tr th {\n",
       "        vertical-align: top;\n",
       "    }\n",
       "\n",
       "    .dataframe thead th {\n",
       "        text-align: right;\n",
       "    }\n",
       "</style>\n",
       "<table border=\"1\" class=\"dataframe\">\n",
       "  <thead>\n",
       "    <tr style=\"text-align: right;\">\n",
       "      <th></th>\n",
       "      <th>invoice</th>\n",
       "      <th>description</th>\n",
       "      <th>quantity</th>\n",
       "      <th>invoice_date</th>\n",
       "      <th>total_order_value</th>\n",
       "    </tr>\n",
       "  </thead>\n",
       "  <tbody>\n",
       "    <tr>\n",
       "      <th>0</th>\n",
       "      <td>581483</td>\n",
       "      <td>PAPER CRAFT , LITTLE BIRDIE</td>\n",
       "      <td>80995</td>\n",
       "      <td>2011-12-09 09:15:00</td>\n",
       "      <td>168469.6</td>\n",
       "    </tr>\n",
       "    <tr>\n",
       "      <th>1</th>\n",
       "      <td>C581484</td>\n",
       "      <td>PAPER CRAFT , LITTLE BIRDIE</td>\n",
       "      <td>-80995</td>\n",
       "      <td>2011-12-09 09:27:00</td>\n",
       "      <td>-168469.6</td>\n",
       "    </tr>\n",
       "  </tbody>\n",
       "</table>\n",
       "</div>"
      ],
      "text/plain": [
       "   invoice                  description  quantity         invoice_date  \\\n",
       "0   581483  PAPER CRAFT , LITTLE BIRDIE     80995  2011-12-09 09:15:00   \n",
       "1  C581484  PAPER CRAFT , LITTLE BIRDIE    -80995  2011-12-09 09:27:00   \n",
       "\n",
       "   total_order_value  \n",
       "0           168469.6  \n",
       "1          -168469.6  "
      ]
     },
     "execution_count": 26,
     "metadata": {},
     "output_type": "execute_result"
    }
   ],
   "source": [
    "#Example of an original and cancelled order in the same table.\n",
    "\n",
    "sql_query_2 = pd.read_sql_query( \"\"\"\n",
    "SELECT invoice, description,quantity, invoice_date, total_order_value \n",
    "FROM online_transactions_cleaned otc \n",
    "WHERE quantity LIKE '%80995%';\n",
    "\"\"\", conn)\n",
    "\n",
    "sql_query_2"
   ]
  },
  {
   "attachments": {},
   "cell_type": "markdown",
   "id": "5ec2ac5b-d874-4894-9986-3a0eb24a47fd",
   "metadata": {},
   "source": [
    "### 2.3 How to handle the canceled orders? <a id=\"section_2_3\"></a>\n",
    "There are 8507 entries containing an 'c' in the invoices number. Together with the original order that are 17,014 entries in total. \n",
    "This are 4,25% of the whole data set.\n",
    "\n",
    "For the moment: <br>\n",
    "1) I've decided to postpone finding the solution for elimating the 4,25% of data and concentrate on the steps for data exploration and customer segmentation \n",
    "2) I'll go with the workaround by excluding all negative values in 'quantity\" and 'price' and handle the data, if no cancelation have been made.\n"
   ]
  },
  {
   "cell_type": "code",
   "execution_count": 27,
   "id": "7fc73ec9-364a-426b-abba-46cf29447eb9",
   "metadata": {},
   "outputs": [],
   "source": [
    "#Exlude the data entries with negative values in 'quantity\" and 'price'\n",
    "query_cancelled= \"\"\"SELECT * \n",
    "                    FROM online_transactions_cleaned \n",
    "                    WHERE quantity > 0\n",
    "                        ;\"\"\"\n",
    "otc_fixed = pd.read_sql(query_cancelled, conn)"
   ]
  },
  {
   "cell_type": "code",
   "execution_count": 17,
   "id": "534fd595-5627-432e-8555-fdb5bd7f06b9",
   "metadata": {},
   "outputs": [
    {
     "data": {
      "text/html": [
       "<div>\n",
       "<style scoped>\n",
       "    .dataframe tbody tr th:only-of-type {\n",
       "        vertical-align: middle;\n",
       "    }\n",
       "\n",
       "    .dataframe tbody tr th {\n",
       "        vertical-align: top;\n",
       "    }\n",
       "\n",
       "    .dataframe thead th {\n",
       "        text-align: right;\n",
       "    }\n",
       "</style>\n",
       "<table border=\"1\" class=\"dataframe\">\n",
       "  <thead>\n",
       "    <tr style=\"text-align: right;\">\n",
       "      <th></th>\n",
       "      <th>price</th>\n",
       "      <th>quantity</th>\n",
       "      <th>total_order_value</th>\n",
       "    </tr>\n",
       "  </thead>\n",
       "  <tbody>\n",
       "    <tr>\n",
       "      <th>count</th>\n",
       "      <td>391334.000000</td>\n",
       "      <td>391334.000000</td>\n",
       "      <td>391334.000000</td>\n",
       "    </tr>\n",
       "    <tr>\n",
       "      <th>mean</th>\n",
       "      <td>2.920468</td>\n",
       "      <td>13.174199</td>\n",
       "      <td>22.372879</td>\n",
       "    </tr>\n",
       "    <tr>\n",
       "      <th>std</th>\n",
       "      <td>7.267548</td>\n",
       "      <td>181.871884</td>\n",
       "      <td>310.911086</td>\n",
       "    </tr>\n",
       "    <tr>\n",
       "      <th>min</th>\n",
       "      <td>0.000000</td>\n",
       "      <td>1.000000</td>\n",
       "      <td>0.000000</td>\n",
       "    </tr>\n",
       "    <tr>\n",
       "      <th>25%</th>\n",
       "      <td>1.250000</td>\n",
       "      <td>2.000000</td>\n",
       "      <td>4.950000</td>\n",
       "    </tr>\n",
       "    <tr>\n",
       "      <th>50%</th>\n",
       "      <td>1.950000</td>\n",
       "      <td>6.000000</td>\n",
       "      <td>11.900000</td>\n",
       "    </tr>\n",
       "    <tr>\n",
       "      <th>75%</th>\n",
       "      <td>3.750000</td>\n",
       "      <td>12.000000</td>\n",
       "      <td>19.800000</td>\n",
       "    </tr>\n",
       "    <tr>\n",
       "      <th>max</th>\n",
       "      <td>1599.260000</td>\n",
       "      <td>80995.000000</td>\n",
       "      <td>168469.600000</td>\n",
       "    </tr>\n",
       "  </tbody>\n",
       "</table>\n",
       "</div>"
      ],
      "text/plain": [
       "               price       quantity  total_order_value\n",
       "count  391334.000000  391334.000000      391334.000000\n",
       "mean        2.920468      13.174199          22.372879\n",
       "std         7.267548     181.871884         310.911086\n",
       "min         0.000000       1.000000           0.000000\n",
       "25%         1.250000       2.000000           4.950000\n",
       "50%         1.950000       6.000000          11.900000\n",
       "75%         3.750000      12.000000          19.800000\n",
       "max      1599.260000   80995.000000      168469.600000"
      ]
     },
     "execution_count": 17,
     "metadata": {},
     "output_type": "execute_result"
    }
   ],
   "source": [
    "otc_fixed.describe() "
   ]
  },
  {
   "cell_type": "markdown",
   "id": "1f8d27f1-64a3-4de8-962b-ded72b3c0509",
   "metadata": {},
   "source": [
    "After excluding every entry where the quantity value lower than 0. \n",
    "We can see that \n",
    "- the average price of purchased products is around 3€\n",
    "- the average amount of products per order is 13 items\n",
    "- the average total value per ordered product type is 22,37€\n",
    "- the most expensiv ordered product costs 1599€\n",
    "- the product, which was ordered with the highest number per order, was ordered 80995 times.\n",
    "- the highest total order value for one product in one order is 168469€"
   ]
  },
  {
   "cell_type": "markdown",
   "id": "d4a97521-0794-4cd7-be0d-7a085445349f",
   "metadata": {},
   "source": [
    "##  3. Explore the dataset (with SQL queries) <a id=\"chapter3\"></a>"
   ]
  },
  {
   "cell_type": "markdown",
   "id": "97f11865-bbb8-4ce8-987f-2eebc633cf14",
   "metadata": {},
   "source": [
    "To get to know the dataset better and to show that I'm capable of SQL queries and EDA in Python"
   ]
  },
  {
   "cell_type": "markdown",
   "id": "48480556-6ead-415e-8a62-f399dc9c23c6",
   "metadata": {},
   "source": [
    "### 3.1 What are the top ten most popular geographical locations? <a id=\"section_3_1\"></a>\n"
   ]
  },
  {
   "cell_type": "code",
   "execution_count": 18,
   "id": "703a699c-03d5-4ed2-b56f-223c692fa8c6",
   "metadata": {},
   "outputs": [
    {
     "data": {
      "text/html": [
       "<div>\n",
       "<style scoped>\n",
       "    .dataframe tbody tr th:only-of-type {\n",
       "        vertical-align: middle;\n",
       "    }\n",
       "\n",
       "    .dataframe tbody tr th {\n",
       "        vertical-align: top;\n",
       "    }\n",
       "\n",
       "    .dataframe thead th {\n",
       "        text-align: right;\n",
       "    }\n",
       "</style>\n",
       "<table border=\"1\" class=\"dataframe\">\n",
       "  <thead>\n",
       "    <tr style=\"text-align: right;\">\n",
       "      <th></th>\n",
       "      <th>numbers_of_stocks</th>\n",
       "    </tr>\n",
       "  </thead>\n",
       "  <tbody>\n",
       "    <tr>\n",
       "      <th>0</th>\n",
       "      <td>3679</td>\n",
       "    </tr>\n",
       "  </tbody>\n",
       "</table>\n",
       "</div>"
      ],
      "text/plain": [
       "   numbers_of_stocks\n",
       "0               3679"
      ]
     },
     "execution_count": 18,
     "metadata": {},
     "output_type": "execute_result"
    }
   ],
   "source": [
    "#How many different types of stocks did all customers purchase?\n",
    "\n",
    "query_stocks = pd.read_sql_query( \"\"\"\n",
    "select count (DISTINCT stock_code) as numbers_of_stocks\n",
    "from online_transactions_cleaned otc;\n",
    "\"\"\", conn)\n",
    "\n",
    "query_stocks"
   ]
  },
  {
   "cell_type": "code",
   "execution_count": 19,
   "id": "43210c27-af20-4b93-885f-ad259c71962e",
   "metadata": {},
   "outputs": [
    {
     "name": "stdout",
     "output_type": "stream",
     "text": [
      "country\n",
      "United Kingdom    348940\n",
      "Germany             8644\n",
      "France              8021\n",
      "EIRE                7226\n",
      "Spain               2418\n",
      "Netherlands         2326\n",
      "Belgium             1935\n",
      "Switzerland         1811\n",
      "Portugal            1416\n",
      "Australia           1183\n",
      "Name: count, dtype: int64\n"
     ]
    }
   ],
   "source": [
    "# What are the Top 10 Locations from where customers were ordering from?\n",
    "\n",
    "country_counts = otc_fixed['country'].value_counts()\n",
    "\n",
    "top_10_countries = country_counts.head(10)\n",
    "\n",
    "print(top_10_countries)"
   ]
  },
  {
   "cell_type": "code",
   "execution_count": 20,
   "id": "f50767dc-9e19-4a26-8aea-bd3f5fa1a925",
   "metadata": {},
   "outputs": [
    {
     "data": {
      "text/plain": [
       "<Axes: xlabel='country'>"
      ]
     },
     "execution_count": 20,
     "metadata": {},
     "output_type": "execute_result"
    },
    {
     "data": {
      "image/png": "[encoded data removed]",
      "text/plain": [
       "<Figure size 640x480 with 1 Axes>"
      ]
     },
     "metadata": {},
     "output_type": "display_data"
    }
   ],
   "source": [
    "#quick&simple bar chart visualization\n",
    "top_10_countries.plot(kind='bar')"
   ]
  },
  {
   "cell_type": "markdown",
   "id": "5dc1491c-8860-4699-a34e-741f56dc79d2",
   "metadata": {},
   "source": [
    "We see very clear that the huge majority (89%) of the placed orders are made by customers who are located in the UK. "
   ]
  },
  {
   "cell_type": "markdown",
   "id": "3d267fa8-f93c-457f-9277-3b1502d169b0",
   "metadata": {},
   "source": [
    "### 3.2 Which country has spent the most...? <a id=\"section_3_2\"></a>"
   ]
  },
  {
   "cell_type": "markdown",
   "id": "abab9f41-cd54-4bc2-b277-67f49bdff174",
   "metadata": {},
   "source": [
    "#### 3.2.1 -> ... by order value  <a id=\"sub_section_3_2_1\"></a>\n"
   ]
  },
  {
   "cell_type": "code",
   "execution_count": 27,
   "id": "2fa2923d-ce45-46f0-891d-29df555d1eb8",
   "metadata": {},
   "outputs": [],
   "source": [
    "total_sales_countries = pd.read_sql_query(\n",
    "    \"\"\"SELECT country, SUM(total_order_value) AS total_sales_volume\n",
    "    FROM online_transactions_cleaned otc\n",
    "    WHERE total_order_value > 0  /*necesseary in a sql querry because the canceled orders still exist in the database*/\n",
    "    GROUP BY country\n",
    "    ORDER BY SUM (total_order_value) DESC\n",
    "    LIMIT 10;\"\"\", conn)"
   ]
  },
  {
   "cell_type": "markdown",
   "id": "4b20746c-8baa-46ba-81fb-58793021174d",
   "metadata": {},
   "source": [
    "While using a sql query it is important to use \"WHERE total_order_value > 0\", because the canceled orders still exist in the table \"online_transactions_cleaned otc\""
   ]
  },
  {
   "cell_type": "code",
   "execution_count": 28,
   "id": "e0ceaa80-a836-49ca-b582-8951c6e2d1f1",
   "metadata": {},
   "outputs": [
    {
     "data": {
      "text/html": [
       "<div>\n",
       "<style scoped>\n",
       "    .dataframe tbody tr th:only-of-type {\n",
       "        vertical-align: middle;\n",
       "    }\n",
       "\n",
       "    .dataframe tbody tr th {\n",
       "        vertical-align: top;\n",
       "    }\n",
       "\n",
       "    .dataframe thead th {\n",
       "        text-align: right;\n",
       "    }\n",
       "</style>\n",
       "<table border=\"1\" class=\"dataframe\">\n",
       "  <thead>\n",
       "    <tr style=\"text-align: right;\">\n",
       "      <th></th>\n",
       "      <th>country</th>\n",
       "      <th>total_sales_volume</th>\n",
       "    </tr>\n",
       "  </thead>\n",
       "  <tbody>\n",
       "    <tr>\n",
       "      <th>0</th>\n",
       "      <td>United Kingdom</td>\n",
       "      <td>7255684.833</td>\n",
       "    </tr>\n",
       "    <tr>\n",
       "      <th>1</th>\n",
       "      <td>Netherlands</td>\n",
       "      <td>283889.340</td>\n",
       "    </tr>\n",
       "    <tr>\n",
       "      <th>2</th>\n",
       "      <td>EIRE</td>\n",
       "      <td>261888.120</td>\n",
       "    </tr>\n",
       "    <tr>\n",
       "      <th>3</th>\n",
       "      <td>Germany</td>\n",
       "      <td>205381.150</td>\n",
       "    </tr>\n",
       "    <tr>\n",
       "      <th>4</th>\n",
       "      <td>France</td>\n",
       "      <td>183987.940</td>\n",
       "    </tr>\n",
       "    <tr>\n",
       "      <th>5</th>\n",
       "      <td>Australia</td>\n",
       "      <td>138103.810</td>\n",
       "    </tr>\n",
       "    <tr>\n",
       "      <th>6</th>\n",
       "      <td>Spain</td>\n",
       "      <td>55706.560</td>\n",
       "    </tr>\n",
       "    <tr>\n",
       "      <th>7</th>\n",
       "      <td>Switzerland</td>\n",
       "      <td>52441.950</td>\n",
       "    </tr>\n",
       "    <tr>\n",
       "      <th>8</th>\n",
       "      <td>Japan</td>\n",
       "      <td>37416.370</td>\n",
       "    </tr>\n",
       "    <tr>\n",
       "      <th>9</th>\n",
       "      <td>Belgium</td>\n",
       "      <td>36927.340</td>\n",
       "    </tr>\n",
       "  </tbody>\n",
       "</table>\n",
       "</div>"
      ],
      "text/plain": [
       "          country  total_sales_volume\n",
       "0  United Kingdom         7255684.833\n",
       "1     Netherlands          283889.340\n",
       "2            EIRE          261888.120\n",
       "3         Germany          205381.150\n",
       "4          France          183987.940\n",
       "5       Australia          138103.810\n",
       "6           Spain           55706.560\n",
       "7     Switzerland           52441.950\n",
       "8           Japan           37416.370\n",
       "9         Belgium           36927.340"
      ]
     },
     "execution_count": 28,
     "metadata": {},
     "output_type": "execute_result"
    }
   ],
   "source": [
    "total_sales_countries"
   ]
  },
  {
   "cell_type": "markdown",
   "id": "630ec2a2-90e5-4816-9ad2-3eff4c0a9ffd",
   "metadata": {},
   "source": [
    "<b>Observation:</b> Of course, the biggest sales volume is made by UK customers with 7,255,684."
   ]
  },
  {
   "cell_type": "markdown",
   "id": "4d42d1cb-fc9d-42fe-8882-e6a65823dc35",
   "metadata": {},
   "source": [
    "#### 3.2.2 -> ... by item quantity <a id=\"sub_section_3_2_2\"></a>\n"
   ]
  },
  {
   "cell_type": "markdown",
   "id": "e7bc4cba-4c1d-426a-b96f-b31aca7034d0",
   "metadata": {},
   "source": [
    "It is likely, but it does not necessarily mean, that customers from the UK are also ordering the largest quantity of products. The total sales amount is dependen on the stock price. <br>Maybe there are customers who order less items, but more expensive items.<br>\n",
    "That's why I chose to also look at how many items are ordered by customers' country."
   ]
  },
  {
   "cell_type": "code",
   "execution_count": 63,
   "id": "d0787d3c-e88c-4528-9e33-78dedc441ce8",
   "metadata": {},
   "outputs": [],
   "source": [
    "total_soldquantity_countries = pd.read_sql_query(\n",
    "    \"\"\"SELECT country, SUM(quantity) AS total_solditems\n",
    "    FROM online_transactions_cleaned otc\n",
    "     WHERE total_order_value > 0\n",
    "    GROUP BY country\n",
    "    ORDER BY  SUM(quantity) DESC\n",
    "    LIMIT 10;\"\"\", conn)"
   ]
  },
  {
   "cell_type": "code",
   "execution_count": 64,
   "id": "20e910a4-2be7-4144-afb3-fc6058e9dc9b",
   "metadata": {},
   "outputs": [
    {
     "data": {
      "text/html": [
       "<div>\n",
       "<style scoped>\n",
       "    .dataframe tbody tr th:only-of-type {\n",
       "        vertical-align: middle;\n",
       "    }\n",
       "\n",
       "    .dataframe tbody tr th {\n",
       "        vertical-align: top;\n",
       "    }\n",
       "\n",
       "    .dataframe thead th {\n",
       "        text-align: right;\n",
       "    }\n",
       "</style>\n",
       "<table border=\"1\" class=\"dataframe\">\n",
       "  <thead>\n",
       "    <tr style=\"text-align: right;\">\n",
       "      <th></th>\n",
       "      <th>country</th>\n",
       "      <th>total_solditems</th>\n",
       "    </tr>\n",
       "  </thead>\n",
       "  <tbody>\n",
       "    <tr>\n",
       "      <th>0</th>\n",
       "      <td>United Kingdom</td>\n",
       "      <td>4234058</td>\n",
       "    </tr>\n",
       "    <tr>\n",
       "      <th>1</th>\n",
       "      <td>Netherlands</td>\n",
       "      <td>200258</td>\n",
       "    </tr>\n",
       "    <tr>\n",
       "      <th>2</th>\n",
       "      <td>EIRE</td>\n",
       "      <td>140131</td>\n",
       "    </tr>\n",
       "    <tr>\n",
       "      <th>3</th>\n",
       "      <td>Germany</td>\n",
       "      <td>118032</td>\n",
       "    </tr>\n",
       "    <tr>\n",
       "      <th>4</th>\n",
       "      <td>France</td>\n",
       "      <td>110597</td>\n",
       "    </tr>\n",
       "    <tr>\n",
       "      <th>5</th>\n",
       "      <td>Australia</td>\n",
       "      <td>83890</td>\n",
       "    </tr>\n",
       "    <tr>\n",
       "      <th>6</th>\n",
       "      <td>Sweden</td>\n",
       "      <td>36037</td>\n",
       "    </tr>\n",
       "    <tr>\n",
       "      <th>7</th>\n",
       "      <td>Switzerland</td>\n",
       "      <td>29980</td>\n",
       "    </tr>\n",
       "    <tr>\n",
       "      <th>8</th>\n",
       "      <td>Spain</td>\n",
       "      <td>27724</td>\n",
       "    </tr>\n",
       "    <tr>\n",
       "      <th>9</th>\n",
       "      <td>Japan</td>\n",
       "      <td>26016</td>\n",
       "    </tr>\n",
       "  </tbody>\n",
       "</table>\n",
       "</div>"
      ],
      "text/plain": [
       "          country  total_solditems\n",
       "0  United Kingdom          4234058\n",
       "1     Netherlands           200258\n",
       "2            EIRE           140131\n",
       "3         Germany           118032\n",
       "4          France           110597\n",
       "5       Australia            83890\n",
       "6          Sweden            36037\n",
       "7     Switzerland            29980\n",
       "8           Spain            27724\n",
       "9           Japan            26016"
      ]
     },
     "execution_count": 64,
     "metadata": {},
     "output_type": "execute_result"
    }
   ],
   "source": [
    "total_soldquantity_countries"
   ]
  },
  {
   "cell_type": "markdown",
   "id": "ea9b4ad8-b9cc-44a1-844e-43ddcad14d0e",
   "metadata": {},
   "source": [
    "<b>Observation:</b>\n",
    "Maybe not a big surprise, but we see that also the order of the top ten countries remains unchanged."
   ]
  },
  {
   "cell_type": "code",
   "execution_count": 65,
   "id": "ea7d299f-3679-4768-8954-bb049ff8b0e2",
   "metadata": {},
   "outputs": [],
   "source": [
    "#Alternativ approach with groupby instead of a SQL query\n",
    "\n",
    "# Segmenting by Top 10 countries\n",
    "#country_segment_spent = customer_data.groupby('country').agg(\n",
    "   # num_orders=('invoice', 'nunique'),\n",
    "    #total_order_value=('total_order_value', 'sum')\n",
    "#).sort_values('total_order_value', ascending=False).reset_index()\n",
    "\n",
    "#country_segment_spent.head(10)"
   ]
  },
  {
   "cell_type": "markdown",
   "id": "baab56b0-a33f-409c-8746-b0fc8148aaa3",
   "metadata": {},
   "source": [
    "### 3.3 Looking at seasonality<a id=\"section_3_3\"></a>\n"
   ]
  },
  {
   "cell_type": "markdown",
   "id": "41dd8f63-a311-4176-9d48-b12f8c5f6ae4",
   "metadata": {},
   "source": [
    "I would like to look at whether the orders are consistent throughout the year or whether there are seasonal peculiarities"
   ]
  },
  {
   "cell_type": "code",
   "execution_count": 30,
   "id": "97d5d339-ce89-4985-b442-f80125ed1fa8",
   "metadata": {},
   "outputs": [
    {
     "data": {
      "text/plain": [
       "invoice               object\n",
       "stock_code            object\n",
       "description           object\n",
       "invoice_date          object\n",
       "price                float64\n",
       "quantity               int64\n",
       "total_order_value    float64\n",
       "customer_id           object\n",
       "country               object\n",
       "dtype: object"
      ]
     },
     "execution_count": 30,
     "metadata": {},
     "output_type": "execute_result"
    }
   ],
   "source": [
    "#Checking which datatype \"invoice_date\" has\n",
    "otc_fixed.dtypes"
   ]
  },
  {
   "cell_type": "code",
   "execution_count": 31,
   "id": "93668845-62be-4376-9eb2-06ad14c22dcf",
   "metadata": {
    "scrolled": true
   },
   "outputs": [],
   "source": [
    "# Convert invoice_date into datetime format\n",
    "otc_fixed['invoice_date'] = pd.to_datetime(otc_fixed['invoice_date'])"
   ]
  },
  {
   "cell_type": "code",
   "execution_count": 32,
   "id": "22410873-68bf-4c3f-9036-021569e47e33",
   "metadata": {},
   "outputs": [
    {
     "name": "stdout",
     "output_type": "stream",
     "text": [
      "0   2010-12-01 08:45:00\n",
      "1   2010-12-01 09:02:00\n",
      "2   2010-12-01 09:37:00\n",
      "3   2010-12-01 09:41:00\n",
      "4   2010-12-01 09:41:00\n",
      "Name: invoice_date, dtype: datetime64[ns]\n"
     ]
    }
   ],
   "source": [
    "#counter check for 'dtype'\n",
    "print(otc_fixed['invoice_date'].head())"
   ]
  },
  {
   "cell_type": "markdown",
   "id": "7c1c13a7-dd7d-4892-b4c6-a91f1487301b",
   "metadata": {},
   "source": [
    "#### 3.3.1 How many unique invoices per month in 2011? <a id=\"sub_section_3_3_1\"></a>"
   ]
  },
  {
   "cell_type": "markdown",
   "id": "dba563db-d9fd-4c85-8391-58af4c4ab410",
   "metadata": {},
   "source": [
    "I would like to look at whether the orders are consistent throughout the year or whether there are seasonal peculiarities.<br>\n",
    "The dataset covers the December of 2010 and the whole year 2011."
   ]
  },
  {
   "cell_type": "code",
   "execution_count": 33,
   "id": "0895f843-1300-49b2-8c76-b97965365c0c",
   "metadata": {},
   "outputs": [
    {
     "name": "stdout",
     "output_type": "stream",
     "text": [
      "       invoice\n",
      "Month         \n",
      "1          983\n",
      "2          993\n",
      "3         1312\n",
      "4         1139\n",
      "5         1544\n",
      "6         1390\n",
      "7         1321\n",
      "8         1269\n",
      "9         1740\n",
      "10        1903\n",
      "11        2643\n",
      "12         776\n"
     ]
    }
   ],
   "source": [
    "#How many unique invoices per month in 2011?\n",
    "\n",
    "#Filter year 2011\n",
    "otc_fixed_2011 = otc_fixed[otc_fixed['invoice_date'].dt.year == 2011].copy()\n",
    "\n",
    "# Create a variable to extract the month\n",
    "otc_fixed_2011['Month'] = otc_fixed_2011['invoice_date'].dt.month\n",
    "\n",
    "# Create a df while using the groupby function to count the number of unique invoices per month\n",
    "monthly_invoices_2011 = pd.DataFrame(otc_fixed_2011.groupby(['Month']).nunique()['invoice'])\n",
    "\n",
    "print(monthly_invoices_2011)"
   ]
  },
  {
   "cell_type": "code",
   "execution_count": 70,
   "id": "f20ee93e-e9f1-449f-bb70-49d5f54fec09",
   "metadata": {},
   "outputs": [
    {
     "data": {
      "image/png": "[encoded data removed]",
      "text/plain": [
       "<Figure size 640x480 with 1 Axes>"
      ]
     },
     "metadata": {},
     "output_type": "display_data"
    }
   ],
   "source": [
    "# Plotting the invoices per month in 2011 \n",
    "\n",
    "plt.bar(monthly_invoices_2011.index, monthly_invoices_2011['invoice'])\n",
    "plt.title (\"Number of invoices in 2011 by Month\")\n",
    "plt.xlabel('Months in 2011')\n",
    "plt.ylabel('Numbers of invoices')\n",
    "plt.xticks(range (1,13))\n",
    "plt.xticks(monthly_invoices_2011.index, \n",
    "           ['Jan', 'Feb', 'Mar', 'Apr', 'May', 'Jun', 'Jul', 'Aug', 'Sep', 'Oct', 'Nov', 'Dec'])\n",
    "plt.show()"
   ]
  },
  {
   "cell_type": "markdown",
   "id": "87a43139-ee3e-420f-beff-61017d820b81",
   "metadata": {},
   "source": [
    "<b>Observation:</b>\n",
    "- In the middle of the year (may, june) is a slight peak.\n",
    "- From September on the invoices rise with a peak in November. <b>Assuming:</b> preparing for the Christmas season"
   ]
  },
  {
   "cell_type": "markdown",
   "id": "c1934644-10f4-411a-adeb-81adc53e76c9",
   "metadata": {},
   "source": [
    "#### 3.3.2 Which day of the week has the highest number of transactions? <a id=\"sub_section_3_3_2\"></a>"
   ]
  },
  {
   "cell_type": "code",
   "execution_count": 41,
   "id": "d28ad7ea-9141-4daa-95f7-5c83bf712a01",
   "metadata": {},
   "outputs": [],
   "source": [
    "# Create week day name\n",
    "otc_fixed_2011['weekday_name'] = otc_fixed_2011['invoice_date'].dt.day_name()\n",
    "\n",
    "# Count invoices per week day\n",
    "weekday_counts = otc_fixed_2011['weekday_name'].value_counts().reindex(['Monday', 'Tuesday', 'Wednesday', 'Thursday', 'Friday', 'Saturday', 'Sunday'])"
   ]
  },
  {
   "cell_type": "code",
   "execution_count": 42,
   "id": "da8055c7-4a0f-4798-8b1e-716ab459396d",
   "metadata": {},
   "outputs": [
    {
     "name": "stdout",
     "output_type": "stream",
     "text": [
      "weekday_name\n",
      "Monday       60029.0\n",
      "Tuesday      62440.0\n",
      "Wednesday    62508.0\n",
      "Thursday     73293.0\n",
      "Friday       50831.0\n",
      "Saturday         NaN\n",
      "Sunday       56652.0\n",
      "Name: count, dtype: float64\n"
     ]
    }
   ],
   "source": [
    "print(weekday_counts)"
   ]
  },
  {
   "cell_type": "code",
   "execution_count": 73,
   "id": "94d0549c-02d6-4b09-a633-0132624dc289",
   "metadata": {},
   "outputs": [
    {
     "data": {
      "text/plain": [
       "<Axes: xlabel='weekday_name'>"
      ]
     },
     "execution_count": 73,
     "metadata": {},
     "output_type": "execute_result"
    },
    {
     "data": {
      "image/png": "[encoded data removed]",
      "text/plain": [
       "<Figure size 640x480 with 1 Axes>"
      ]
     },
     "metadata": {},
     "output_type": "display_data"
    }
   ],
   "source": [
    "# simple & quick visualisation\n",
    "\n",
    "weekday_counts.plot(kind='bar')"
   ]
  },
  {
   "cell_type": "markdown",
   "id": "0781b8a8-f858-4686-b0eb-4e2c030a1875",
   "metadata": {},
   "source": [
    "<b>Observation:</b> <br>\n",
    "- On Thursdays the order volume is slightly higher than the rest of the week.\n",
    "- For the rest of the weekdays the orders are distributed almost evenly, except for Saturdays.\n",
    "- It is striking that no orders were placed on Saturdays.<br>"
   ]
  },
  {
   "cell_type": "markdown",
   "id": "0d422f84-b3a4-4eb4-b411-c1660ce8f8fe",
   "metadata": {},
   "source": [
    "## 3.4 Which customers have purchased the most ? <a id=\"section_3_4\"></a>\n",
    "\n",
    "Let's try to get some insights on the customers."
   ]
  },
  {
   "cell_type": "code",
   "execution_count": 43,
   "id": "261f969f-bcd4-4a86-a26a-96b471ca5397",
   "metadata": {},
   "outputs": [
    {
     "data": {
      "text/html": [
       "<div>\n",
       "<style scoped>\n",
       "    .dataframe tbody tr th:only-of-type {\n",
       "        vertical-align: middle;\n",
       "    }\n",
       "\n",
       "    .dataframe tbody tr th {\n",
       "        vertical-align: top;\n",
       "    }\n",
       "\n",
       "    .dataframe thead th {\n",
       "        text-align: right;\n",
       "    }\n",
       "</style>\n",
       "<table border=\"1\" class=\"dataframe\">\n",
       "  <thead>\n",
       "    <tr style=\"text-align: right;\">\n",
       "      <th></th>\n",
       "      <th>total_order_value</th>\n",
       "    </tr>\n",
       "    <tr>\n",
       "      <th>customer_id</th>\n",
       "      <th></th>\n",
       "    </tr>\n",
       "  </thead>\n",
       "  <tbody>\n",
       "    <tr>\n",
       "      <th>u14646</th>\n",
       "      <td>279138.02</td>\n",
       "    </tr>\n",
       "    <tr>\n",
       "      <th>u18102</th>\n",
       "      <td>259657.30</td>\n",
       "    </tr>\n",
       "    <tr>\n",
       "      <th>u1745</th>\n",
       "      <td>194390.79</td>\n",
       "    </tr>\n",
       "    <tr>\n",
       "      <th>u16446</th>\n",
       "      <td>168472.50</td>\n",
       "    </tr>\n",
       "    <tr>\n",
       "      <th>u14911</th>\n",
       "      <td>140336.83</td>\n",
       "    </tr>\n",
       "    <tr>\n",
       "      <th>...</th>\n",
       "      <td>...</td>\n",
       "    </tr>\n",
       "    <tr>\n",
       "      <th>u17956</th>\n",
       "      <td>12.75</td>\n",
       "    </tr>\n",
       "    <tr>\n",
       "      <th>u14792</th>\n",
       "      <td>6.20</td>\n",
       "    </tr>\n",
       "    <tr>\n",
       "      <th>u16454</th>\n",
       "      <td>5.90</td>\n",
       "    </tr>\n",
       "    <tr>\n",
       "      <th>u16738</th>\n",
       "      <td>3.75</td>\n",
       "    </tr>\n",
       "    <tr>\n",
       "      <th>u13256</th>\n",
       "      <td>0.00</td>\n",
       "    </tr>\n",
       "  </tbody>\n",
       "</table>\n",
       "<p>4335 rows × 1 columns</p>\n",
       "</div>"
      ],
      "text/plain": [
       "             total_order_value\n",
       "customer_id                   \n",
       "u14646               279138.02\n",
       "u18102               259657.30\n",
       "u1745                194390.79\n",
       "u16446               168472.50\n",
       "u14911               140336.83\n",
       "...                        ...\n",
       "u17956                   12.75\n",
       "u14792                    6.20\n",
       "u16454                    5.90\n",
       "u16738                    3.75\n",
       "u13256                    0.00\n",
       "\n",
       "[4335 rows x 1 columns]"
      ]
     },
     "execution_count": 43,
     "metadata": {},
     "output_type": "execute_result"
    }
   ],
   "source": [
    "# Calculating/grouping the sum of order value per customer_id \n",
    "otc_fixed_salesbycustomer = pd.DataFrame(otc_fixed.groupby(['customer_id']).sum(numeric_only=True)['total_order_value'])\n",
    "\n",
    "# and sort them in a descending order\n",
    "otc_fixed_salesbycustomer.sort_values(by=['total_order_value'],ascending = False)"
   ]
  },
  {
   "cell_type": "code",
   "execution_count": 44,
   "id": "a4ff4608-1c0a-492b-b095-88971fc1c83f",
   "metadata": {},
   "outputs": [
    {
     "data": {
      "text/plain": [
       "2019.669700807382"
      ]
     },
     "execution_count": 44,
     "metadata": {},
     "output_type": "execute_result"
    }
   ],
   "source": [
    "# Average spending by customer\n",
    "otc_fixed_salesbycustomer['total_order_value'].mean()"
   ]
  },
  {
   "cell_type": "code",
   "execution_count": 45,
   "id": "7eb15d11-2180-4c84-be37-b78f6d36f52b",
   "metadata": {},
   "outputs": [],
   "source": [
    "# Which customers purchased above the average? (= high profile customers)\n",
    "\n",
    "high_profil_customer = otc_fixed_salesbycustomer[(otc_fixed_salesbycustomer['total_order_value']> 2019.669700807382)]\n"
   ]
  },
  {
   "cell_type": "code",
   "execution_count": 47,
   "id": "a8367ae4-b5ac-4605-a58c-a50619ecfd30",
   "metadata": {},
   "outputs": [
    {
     "data": {
      "text/html": [
       "<div>\n",
       "<style scoped>\n",
       "    .dataframe tbody tr th:only-of-type {\n",
       "        vertical-align: middle;\n",
       "    }\n",
       "\n",
       "    .dataframe tbody tr th {\n",
       "        vertical-align: top;\n",
       "    }\n",
       "\n",
       "    .dataframe thead th {\n",
       "        text-align: right;\n",
       "    }\n",
       "</style>\n",
       "<table border=\"1\" class=\"dataframe\">\n",
       "  <thead>\n",
       "    <tr style=\"text-align: right;\">\n",
       "      <th></th>\n",
       "      <th>total_order_value</th>\n",
       "    </tr>\n",
       "    <tr>\n",
       "      <th>customer_id</th>\n",
       "      <th></th>\n",
       "    </tr>\n",
       "  </thead>\n",
       "  <tbody>\n",
       "    <tr>\n",
       "      <th>u14646</th>\n",
       "      <td>279138.02</td>\n",
       "    </tr>\n",
       "    <tr>\n",
       "      <th>u18102</th>\n",
       "      <td>259657.30</td>\n",
       "    </tr>\n",
       "    <tr>\n",
       "      <th>u1745</th>\n",
       "      <td>194390.79</td>\n",
       "    </tr>\n",
       "    <tr>\n",
       "      <th>u16446</th>\n",
       "      <td>168472.50</td>\n",
       "    </tr>\n",
       "    <tr>\n",
       "      <th>u14911</th>\n",
       "      <td>140336.83</td>\n",
       "    </tr>\n",
       "    <tr>\n",
       "      <th>...</th>\n",
       "      <td>...</td>\n",
       "    </tr>\n",
       "    <tr>\n",
       "      <th>u12501</th>\n",
       "      <td>2025.39</td>\n",
       "    </tr>\n",
       "    <tr>\n",
       "      <th>u16409</th>\n",
       "      <td>2022.98</td>\n",
       "    </tr>\n",
       "    <tr>\n",
       "      <th>u14482</th>\n",
       "      <td>2022.81</td>\n",
       "    </tr>\n",
       "    <tr>\n",
       "      <th>u15341</th>\n",
       "      <td>2020.52</td>\n",
       "    </tr>\n",
       "    <tr>\n",
       "      <th>u17625</th>\n",
       "      <td>2020.40</td>\n",
       "    </tr>\n",
       "  </tbody>\n",
       "</table>\n",
       "<p>873 rows × 1 columns</p>\n",
       "</div>"
      ],
      "text/plain": [
       "             total_order_value\n",
       "customer_id                   \n",
       "u14646               279138.02\n",
       "u18102               259657.30\n",
       "u1745                194390.79\n",
       "u16446               168472.50\n",
       "u14911               140336.83\n",
       "...                        ...\n",
       "u12501                 2025.39\n",
       "u16409                 2022.98\n",
       "u14482                 2022.81\n",
       "u15341                 2020.52\n",
       "u17625                 2020.40\n",
       "\n",
       "[873 rows x 1 columns]"
      ]
     },
     "execution_count": 47,
     "metadata": {},
     "output_type": "execute_result"
    }
   ],
   "source": [
    "high_profil_customer.sort_values(by=['total_order_value'],ascending = False)\n"
   ]
  },
  {
   "cell_type": "markdown",
   "id": "f16165f8-e5d0-428b-b6ee-b37a098f194d",
   "metadata": {},
   "source": [
    "<b>Observation:</b> <br>\n",
    "873 of 4335 customers (that are 20%) have spent above the average customer per order and can be categorized as high profile customers.\n",
    "\n",
    "The section \"creating customer categories ... by sales amount\" will also cover the categorie, but by using a if-else-statments.\n"
   ]
  },
  {
   "cell_type": "markdown",
   "id": "4e7c1dc1-512c-48c9-adaf-3fe2cb0f3a43",
   "metadata": {},
   "source": [
    "## 3.5 Which customers are recurring customers ? <a id=\"section_3_5\"></a>\n",
    "\n",
    "Let's see if there are customers that ordered more than once and how often have the average customers odered items."
   ]
  },
  {
   "cell_type": "code",
   "execution_count": 51,
   "id": "948fc2db-3106-4f1a-89a9-9caf6ae46876",
   "metadata": {},
   "outputs": [
    {
     "data": {
      "text/html": [
       "<div>\n",
       "<style scoped>\n",
       "    .dataframe tbody tr th:only-of-type {\n",
       "        vertical-align: middle;\n",
       "    }\n",
       "\n",
       "    .dataframe tbody tr th {\n",
       "        vertical-align: top;\n",
       "    }\n",
       "\n",
       "    .dataframe thead th {\n",
       "        text-align: right;\n",
       "    }\n",
       "</style>\n",
       "<table border=\"1\" class=\"dataframe\">\n",
       "  <thead>\n",
       "    <tr style=\"text-align: right;\">\n",
       "      <th></th>\n",
       "      <th>customer_id</th>\n",
       "      <th>frequency</th>\n",
       "    </tr>\n",
       "  </thead>\n",
       "  <tbody>\n",
       "    <tr>\n",
       "      <th>0</th>\n",
       "      <td>u12346</td>\n",
       "      <td>1</td>\n",
       "    </tr>\n",
       "    <tr>\n",
       "      <th>1</th>\n",
       "      <td>u12347</td>\n",
       "      <td>7</td>\n",
       "    </tr>\n",
       "    <tr>\n",
       "      <th>2</th>\n",
       "      <td>u12348</td>\n",
       "      <td>4</td>\n",
       "    </tr>\n",
       "    <tr>\n",
       "      <th>3</th>\n",
       "      <td>u12349</td>\n",
       "      <td>1</td>\n",
       "    </tr>\n",
       "    <tr>\n",
       "      <th>4</th>\n",
       "      <td>u1235</td>\n",
       "      <td>1</td>\n",
       "    </tr>\n",
       "    <tr>\n",
       "      <th>...</th>\n",
       "      <td>...</td>\n",
       "      <td>...</td>\n",
       "    </tr>\n",
       "    <tr>\n",
       "      <th>4330</th>\n",
       "      <td>u1828</td>\n",
       "      <td>1</td>\n",
       "    </tr>\n",
       "    <tr>\n",
       "      <th>4331</th>\n",
       "      <td>u18281</td>\n",
       "      <td>1</td>\n",
       "    </tr>\n",
       "    <tr>\n",
       "      <th>4332</th>\n",
       "      <td>u18282</td>\n",
       "      <td>2</td>\n",
       "    </tr>\n",
       "    <tr>\n",
       "      <th>4333</th>\n",
       "      <td>u18283</td>\n",
       "      <td>16</td>\n",
       "    </tr>\n",
       "    <tr>\n",
       "      <th>4334</th>\n",
       "      <td>u18287</td>\n",
       "      <td>3</td>\n",
       "    </tr>\n",
       "  </tbody>\n",
       "</table>\n",
       "<p>4335 rows × 2 columns</p>\n",
       "</div>"
      ],
      "text/plain": [
       "     customer_id  frequency\n",
       "0         u12346          1\n",
       "1         u12347          7\n",
       "2         u12348          4\n",
       "3         u12349          1\n",
       "4          u1235          1\n",
       "...          ...        ...\n",
       "4330       u1828          1\n",
       "4331      u18281          1\n",
       "4332      u18282          2\n",
       "4333      u18283         16\n",
       "4334      u18287          3\n",
       "\n",
       "[4335 rows x 2 columns]"
      ]
     },
     "execution_count": 51,
     "metadata": {},
     "output_type": "execute_result"
    }
   ],
   "source": [
    "# How many times have each customer placed an order?\n",
    "\n",
    "otc_fixed_frequency = pd.DataFrame(otc_fixed.groupby('customer_id')['invoice'].nunique().reset_index())\n",
    "otc_fixed_frequency.columns = ['customer_id', 'frequency']\n",
    "\n",
    "otc_fixed_frequency"
   ]
  },
  {
   "cell_type": "code",
   "execution_count": 49,
   "id": "c2c788a0-a6ad-4e9b-983f-db0c5c40eb95",
   "metadata": {},
   "outputs": [
    {
     "data": {
      "text/html": [
       "<div>\n",
       "<style scoped>\n",
       "    .dataframe tbody tr th:only-of-type {\n",
       "        vertical-align: middle;\n",
       "    }\n",
       "\n",
       "    .dataframe tbody tr th {\n",
       "        vertical-align: top;\n",
       "    }\n",
       "\n",
       "    .dataframe thead th {\n",
       "        text-align: right;\n",
       "    }\n",
       "</style>\n",
       "<table border=\"1\" class=\"dataframe\">\n",
       "  <thead>\n",
       "    <tr style=\"text-align: right;\">\n",
       "      <th></th>\n",
       "      <th>customer_id</th>\n",
       "      <th>frequency</th>\n",
       "    </tr>\n",
       "  </thead>\n",
       "  <tbody>\n",
       "    <tr>\n",
       "      <th>326</th>\n",
       "      <td>u12748</td>\n",
       "      <td>206</td>\n",
       "    </tr>\n",
       "    <tr>\n",
       "      <th>1880</th>\n",
       "      <td>u14911</td>\n",
       "      <td>199</td>\n",
       "    </tr>\n",
       "    <tr>\n",
       "      <th>4008</th>\n",
       "      <td>u17841</td>\n",
       "      <td>124</td>\n",
       "    </tr>\n",
       "    <tr>\n",
       "      <th>562</th>\n",
       "      <td>u13089</td>\n",
       "      <td>97</td>\n",
       "    </tr>\n",
       "    <tr>\n",
       "      <th>2177</th>\n",
       "      <td>u15311</td>\n",
       "      <td>91</td>\n",
       "    </tr>\n",
       "    <tr>\n",
       "      <th>...</th>\n",
       "      <td>...</td>\n",
       "      <td>...</td>\n",
       "    </tr>\n",
       "    <tr>\n",
       "      <th>2015</th>\n",
       "      <td>u15101</td>\n",
       "      <td>2</td>\n",
       "    </tr>\n",
       "    <tr>\n",
       "      <th>3334</th>\n",
       "      <td>u16897</td>\n",
       "      <td>2</td>\n",
       "    </tr>\n",
       "    <tr>\n",
       "      <th>2007</th>\n",
       "      <td>u15092</td>\n",
       "      <td>2</td>\n",
       "    </tr>\n",
       "    <tr>\n",
       "      <th>2003</th>\n",
       "      <td>u15088</td>\n",
       "      <td>2</td>\n",
       "    </tr>\n",
       "    <tr>\n",
       "      <th>3510</th>\n",
       "      <td>u17144</td>\n",
       "      <td>2</td>\n",
       "    </tr>\n",
       "  </tbody>\n",
       "</table>\n",
       "<p>2829 rows × 2 columns</p>\n",
       "</div>"
      ],
      "text/plain": [
       "     customer_id  frequency\n",
       "326       u12748        206\n",
       "1880      u14911        199\n",
       "4008      u17841        124\n",
       "562       u13089         97\n",
       "2177      u15311         91\n",
       "...          ...        ...\n",
       "2015      u15101          2\n",
       "3334      u16897          2\n",
       "2007      u15092          2\n",
       "2003      u15088          2\n",
       "3510      u17144          2\n",
       "\n",
       "[2829 rows x 2 columns]"
      ]
     },
     "execution_count": 49,
     "metadata": {},
     "output_type": "execute_result"
    }
   ],
   "source": [
    "# Customers, who ordered more than 1x are \"recurring customers\" ->  = recur_custom\n",
    "recur_custom = otc_fixed_frequency[(otc_fixed_frequency['frequency']> 1)]\n",
    "\n",
    "# Sort he recur_custom by a descending order\n",
    "recur_custom.sort_values(by=['frequency'],ascending = False)    "
   ]
  },
  {
   "cell_type": "code",
   "execution_count": 147,
   "id": "e4327661-61d9-40f8-adf3-a84af7002a03",
   "metadata": {},
   "outputs": [
    {
     "data": {
      "text/html": [
       "<div>\n",
       "<style scoped>\n",
       "    .dataframe tbody tr th:only-of-type {\n",
       "        vertical-align: middle;\n",
       "    }\n",
       "\n",
       "    .dataframe tbody tr th {\n",
       "        vertical-align: top;\n",
       "    }\n",
       "\n",
       "    .dataframe thead th {\n",
       "        text-align: right;\n",
       "    }\n",
       "</style>\n",
       "<table border=\"1\" class=\"dataframe\">\n",
       "  <thead>\n",
       "    <tr style=\"text-align: right;\">\n",
       "      <th></th>\n",
       "      <th>frequency</th>\n",
       "    </tr>\n",
       "  </thead>\n",
       "  <tbody>\n",
       "    <tr>\n",
       "      <th>count</th>\n",
       "      <td>2829.000000</td>\n",
       "    </tr>\n",
       "    <tr>\n",
       "      <th>mean</th>\n",
       "      <td>5.974549</td>\n",
       "    </tr>\n",
       "    <tr>\n",
       "      <th>std</th>\n",
       "      <td>8.996899</td>\n",
       "    </tr>\n",
       "    <tr>\n",
       "      <th>min</th>\n",
       "      <td>2.000000</td>\n",
       "    </tr>\n",
       "    <tr>\n",
       "      <th>25%</th>\n",
       "      <td>2.000000</td>\n",
       "    </tr>\n",
       "    <tr>\n",
       "      <th>50%</th>\n",
       "      <td>4.000000</td>\n",
       "    </tr>\n",
       "    <tr>\n",
       "      <th>75%</th>\n",
       "      <td>6.000000</td>\n",
       "    </tr>\n",
       "    <tr>\n",
       "      <th>max</th>\n",
       "      <td>206.000000</td>\n",
       "    </tr>\n",
       "  </tbody>\n",
       "</table>\n",
       "</div>"
      ],
      "text/plain": [
       "         frequency\n",
       "count  2829.000000\n",
       "mean      5.974549\n",
       "std       8.996899\n",
       "min       2.000000\n",
       "25%       2.000000\n",
       "50%       4.000000\n",
       "75%       6.000000\n",
       "max     206.000000"
      ]
     },
     "execution_count": 147,
     "metadata": {},
     "output_type": "execute_result"
    }
   ],
   "source": [
    "#Let's have a look what we can say about the average recurring cusomter:\n",
    "recur_custom.describe()"
   ]
  },
  {
   "cell_type": "markdown",
   "id": "521b7f8b-d278-4177-a9db-5dc847ea4fdb",
   "metadata": {},
   "source": [
    "<b>Observation:</b> <br>\n",
    "- we have 2829 of 4335 customers who purchased more the once. That are 65% of the customers.\n",
    "- at least one customer ordered 206 times\n",
    "\n",
    "The <b>average customer</b> has ordered approx. 6 times and purchased an order value of 2019€ per order."
   ]
  },
  {
   "cell_type": "markdown",
   "id": "7257936b-6e26-4baf-a6cc-6701e01a96ed",
   "metadata": {},
   "source": [
    "## 4. Creating customer categories ... <a id=\"chapter4\"></a>\n",
    "### 4.1 ... by frequency <a id=\"section_4_1\"></a>\n"
   ]
  },
  {
   "cell_type": "markdown",
   "id": "3d6e8abe-9889-404f-8aac-f021b49992b0",
   "metadata": {},
   "source": [
    "Additionally I wanted to show another way of creating categories with if-else-statements.\n",
    "\n",
    "I've defined three categories.\n",
    "- Occasional customer: If the average customer has ordered 6 times, I've decided that the occasional customer is defined by 5 orders or less\n",
    "- Regular customer: between 6 and 20 orders. If a customer ordered up to 20 times in one year, means they've placed an order every second week. I considered this regular customer.\n",
    "- Loyal customer: someone who ordered more than 20 times, I've considered a loval customer"
   ]
  },
  {
   "cell_type": "code",
   "execution_count": 57,
   "id": "b98d5f45-75d3-4166-94be-e480691ad4b0",
   "metadata": {},
   "outputs": [
    {
     "data": {
      "text/html": [
       "<div>\n",
       "<style scoped>\n",
       "    .dataframe tbody tr th:only-of-type {\n",
       "        vertical-align: middle;\n",
       "    }\n",
       "\n",
       "    .dataframe tbody tr th {\n",
       "        vertical-align: top;\n",
       "    }\n",
       "\n",
       "    .dataframe thead th {\n",
       "        text-align: right;\n",
       "    }\n",
       "</style>\n",
       "<table border=\"1\" class=\"dataframe\">\n",
       "  <thead>\n",
       "    <tr style=\"text-align: right;\">\n",
       "      <th></th>\n",
       "      <th>customer_id</th>\n",
       "      <th>frequency</th>\n",
       "      <th>category</th>\n",
       "    </tr>\n",
       "  </thead>\n",
       "  <tbody>\n",
       "    <tr>\n",
       "      <th>0</th>\n",
       "      <td>u12346</td>\n",
       "      <td>1</td>\n",
       "      <td>Occasional Customers</td>\n",
       "    </tr>\n",
       "    <tr>\n",
       "      <th>1</th>\n",
       "      <td>u12347</td>\n",
       "      <td>7</td>\n",
       "      <td>Regular Customers</td>\n",
       "    </tr>\n",
       "    <tr>\n",
       "      <th>2</th>\n",
       "      <td>u12348</td>\n",
       "      <td>4</td>\n",
       "      <td>Occasional Customers</td>\n",
       "    </tr>\n",
       "    <tr>\n",
       "      <th>3</th>\n",
       "      <td>u12349</td>\n",
       "      <td>1</td>\n",
       "      <td>Occasional Customers</td>\n",
       "    </tr>\n",
       "    <tr>\n",
       "      <th>4</th>\n",
       "      <td>u1235</td>\n",
       "      <td>1</td>\n",
       "      <td>Occasional Customers</td>\n",
       "    </tr>\n",
       "    <tr>\n",
       "      <th>5</th>\n",
       "      <td>u12352</td>\n",
       "      <td>7</td>\n",
       "      <td>Regular Customers</td>\n",
       "    </tr>\n",
       "    <tr>\n",
       "      <th>6</th>\n",
       "      <td>u12353</td>\n",
       "      <td>1</td>\n",
       "      <td>Occasional Customers</td>\n",
       "    </tr>\n",
       "    <tr>\n",
       "      <th>7</th>\n",
       "      <td>u12354</td>\n",
       "      <td>1</td>\n",
       "      <td>Occasional Customers</td>\n",
       "    </tr>\n",
       "    <tr>\n",
       "      <th>8</th>\n",
       "      <td>u12355</td>\n",
       "      <td>1</td>\n",
       "      <td>Occasional Customers</td>\n",
       "    </tr>\n",
       "    <tr>\n",
       "      <th>9</th>\n",
       "      <td>u12356</td>\n",
       "      <td>3</td>\n",
       "      <td>Occasional Customers</td>\n",
       "    </tr>\n",
       "  </tbody>\n",
       "</table>\n",
       "</div>"
      ],
      "text/plain": [
       "  customer_id  frequency              category\n",
       "0      u12346          1  Occasional Customers\n",
       "1      u12347          7     Regular Customers\n",
       "2      u12348          4  Occasional Customers\n",
       "3      u12349          1  Occasional Customers\n",
       "4       u1235          1  Occasional Customers\n",
       "5      u12352          7     Regular Customers\n",
       "6      u12353          1  Occasional Customers\n",
       "7      u12354          1  Occasional Customers\n",
       "8      u12355          1  Occasional Customers\n",
       "9      u12356          3  Occasional Customers"
      ]
     },
     "execution_count": 57,
     "metadata": {},
     "output_type": "execute_result"
    }
   ],
   "source": [
    "# Creating the new column \"frequency\" with the number of orders per customer\n",
    "\n",
    "def categorize_customers(frequency):\n",
    "    if 1 <= frequency <= 5:\n",
    "        return 'Occasional Customers'\n",
    "    elif 6 <= frequency <= 20:\n",
    "        return 'Regular Customers'\n",
    "    else:\n",
    "        return 'Loyal Customers'\n",
    "\n",
    "otc_fixed_frequency['category'] = otc_fixed_frequency['frequency'].apply(categorize_customers)\n",
    "\n",
    "otc_fixed_frequency.head(10)\n"
   ]
  },
  {
   "cell_type": "code",
   "execution_count": 58,
   "id": "cf07ff04-eb6e-4420-922d-bf25aa11bf64",
   "metadata": {},
   "outputs": [
    {
     "name": "stdout",
     "output_type": "stream",
     "text": [
      "category\n",
      "Occasional Customers    3470\n",
      "Regular Customers        771\n",
      "Loyal Customers           94\n",
      "Name: count, dtype: int64\n"
     ]
    }
   ],
   "source": [
    "print(otc_fixed_frequency['category'].value_counts())"
   ]
  },
  {
   "cell_type": "code",
   "execution_count": 59,
   "id": "7faad250-1bcf-437e-9a91-b86af069ab84",
   "metadata": {},
   "outputs": [
    {
     "data": {
      "text/plain": [
       "<Axes: xlabel='category'>"
      ]
     },
     "execution_count": 59,
     "metadata": {},
     "output_type": "execute_result"
    },
    {
     "data": {
      "image/png": "[encoded data removed]",
      "text/plain": [
       "<Figure size 640x480 with 1 Axes>"
      ]
     },
     "metadata": {},
     "output_type": "display_data"
    }
   ],
   "source": [
    "(otc_fixed_frequency['category'].value_counts()).plot(kind='bar')"
   ]
  },
  {
   "cell_type": "markdown",
   "id": "09154ade-3a14-4c3d-9525-c3bff506a5bd",
   "metadata": {},
   "source": [
    "<b>Observation:</b> <br>\n",
    "- The vast majority (3470 of 4335, 80%) are ocassional customers\n",
    "- Around 18% (771 customers) can be considered as regular customers\n",
    "- 2 % can be considered as loyal customers, because they placed 20 and more orders"
   ]
  },
  {
   "cell_type": "markdown",
   "id": "3cbaeceb-3ce2-4cba-8ba6-e2e706b45341",
   "metadata": {},
   "source": [
    "### 4.2 ...by sales amount <a id=\"section_4_2\"></a>"
   ]
  },
  {
   "cell_type": "markdown",
   "id": "e56dea76-c8c1-4cff-9916-41a6e6c78c20",
   "metadata": {},
   "source": [
    "- Creating three categories of customeres based on their total sales amount. \n",
    "- The amount of 2019 Euros is the average order value. I've decided that every customer who have spent more is a high-spending customer.\n",
    "- Half of 2019 is rounded down to 500 euros. I've decided that every customer who have spent less than 500 Euro is a low-spending customer.\n",
    "- Between 500 and 2019 will be mid-spending customers.\n",
    "\n",
    "Therefore I defined a function with an if-else-statement to create a new column for the three categories."
   ]
  },
  {
   "cell_type": "code",
   "execution_count": 66,
   "id": "06bae304-7e77-47a9-a246-3af7e6d81062",
   "metadata": {},
   "outputs": [
    {
     "data": {
      "text/html": [
       "<div>\n",
       "<style scoped>\n",
       "    .dataframe tbody tr th:only-of-type {\n",
       "        vertical-align: middle;\n",
       "    }\n",
       "\n",
       "    .dataframe tbody tr th {\n",
       "        vertical-align: top;\n",
       "    }\n",
       "\n",
       "    .dataframe thead th {\n",
       "        text-align: right;\n",
       "    }\n",
       "</style>\n",
       "<table border=\"1\" class=\"dataframe\">\n",
       "  <thead>\n",
       "    <tr style=\"text-align: right;\">\n",
       "      <th></th>\n",
       "      <th>total_order_value</th>\n",
       "      <th>sales category</th>\n",
       "    </tr>\n",
       "    <tr>\n",
       "      <th>customer_id</th>\n",
       "      <th></th>\n",
       "      <th></th>\n",
       "    </tr>\n",
       "  </thead>\n",
       "  <tbody>\n",
       "    <tr>\n",
       "      <th>u12346</th>\n",
       "      <td>77183.60</td>\n",
       "      <td>High-spending Customers</td>\n",
       "    </tr>\n",
       "    <tr>\n",
       "      <th>u12347</th>\n",
       "      <td>4310.00</td>\n",
       "      <td>High-spending Customers</td>\n",
       "    </tr>\n",
       "    <tr>\n",
       "      <th>u12348</th>\n",
       "      <td>1437.24</td>\n",
       "      <td>Mid-spending Customers</td>\n",
       "    </tr>\n",
       "    <tr>\n",
       "      <th>u12349</th>\n",
       "      <td>1457.55</td>\n",
       "      <td>Mid-spending Customers</td>\n",
       "    </tr>\n",
       "    <tr>\n",
       "      <th>u1235</th>\n",
       "      <td>294.40</td>\n",
       "      <td>Low-spending Customers</td>\n",
       "    </tr>\n",
       "    <tr>\n",
       "      <th>u12352</th>\n",
       "      <td>1385.74</td>\n",
       "      <td>Mid-spending Customers</td>\n",
       "    </tr>\n",
       "    <tr>\n",
       "      <th>u12353</th>\n",
       "      <td>89.00</td>\n",
       "      <td>Low-spending Customers</td>\n",
       "    </tr>\n",
       "    <tr>\n",
       "      <th>u12354</th>\n",
       "      <td>1079.40</td>\n",
       "      <td>Mid-spending Customers</td>\n",
       "    </tr>\n",
       "    <tr>\n",
       "      <th>u12355</th>\n",
       "      <td>459.40</td>\n",
       "      <td>Low-spending Customers</td>\n",
       "    </tr>\n",
       "    <tr>\n",
       "      <th>u12356</th>\n",
       "      <td>2487.43</td>\n",
       "      <td>High-spending Customers</td>\n",
       "    </tr>\n",
       "  </tbody>\n",
       "</table>\n",
       "</div>"
      ],
      "text/plain": [
       "             total_order_value           sales category\n",
       "customer_id                                            \n",
       "u12346                77183.60  High-spending Customers\n",
       "u12347                 4310.00  High-spending Customers\n",
       "u12348                 1437.24   Mid-spending Customers\n",
       "u12349                 1457.55   Mid-spending Customers\n",
       "u1235                   294.40   Low-spending Customers\n",
       "u12352                 1385.74   Mid-spending Customers\n",
       "u12353                   89.00   Low-spending Customers\n",
       "u12354                 1079.40   Mid-spending Customers\n",
       "u12355                  459.40   Low-spending Customers\n",
       "u12356                 2487.43  High-spending Customers"
      ]
     },
     "execution_count": 66,
     "metadata": {},
     "output_type": "execute_result"
    }
   ],
   "source": [
    "def categorize_salesamount(otc_fixed_salesbycustomer):\n",
    "    if 1 <= otc_fixed_salesbycustomer <= 499:\n",
    "        return 'Low-spending Customers'\n",
    "    elif 500 <= otc_fixed_salesbycustomer <= 2019:\n",
    "        return 'Mid-spending Customers'\n",
    "    else:\n",
    "        return 'High-spending Customers'\n",
    "\n",
    "otc_fixed_salesbycustomer['sales category'] = otc_fixed_salesbycustomer['total_order_value'].apply(categorize_salesamount)\n",
    "\n",
    "otc_fixed_salesbycustomer.head(10)"
   ]
  },
  {
   "cell_type": "code",
   "execution_count": 67,
   "id": "152e16d0-c0ff-4c5b-8a5a-87a48271c913",
   "metadata": {},
   "outputs": [
    {
     "name": "stdout",
     "output_type": "stream",
     "text": [
      "sales category\n",
      "Low-spending Customers     1775\n",
      "Mid-spending Customers     1682\n",
      "High-spending Customers     878\n",
      "Name: count, dtype: int64\n"
     ]
    }
   ],
   "source": [
    "print(otc_fixed_salesbycustomer['sales category'].value_counts())"
   ]
  },
  {
   "cell_type": "code",
   "execution_count": 62,
   "id": "ed7b669d-fccc-4e6f-ae45-52d5f3834817",
   "metadata": {},
   "outputs": [
    {
     "data": {
      "text/plain": [
       "<Axes: xlabel='sales category'>"
      ]
     },
     "execution_count": 62,
     "metadata": {},
     "output_type": "execute_result"
    },
    {
     "data": {
      "image/png": "[encoded data removed]",
      "text/plain": [
       "<Figure size 640x480 with 1 Axes>"
      ]
     },
     "metadata": {},
     "output_type": "display_data"
    }
   ],
   "source": [
    "(otc_fixed_salesbycustomer['sales category'].value_counts()).plot(kind='bar')"
   ]
  },
  {
   "cell_type": "markdown",
   "id": "2441abf9-602a-473b-be17-f46907ae8902",
   "metadata": {},
   "source": [
    "<b>Observation:</b> <br>\n",
    "- The majority of customers are low-spending and mid-sepending customers. Together they are 80%. <br>\n",
    "\n",
    "<b>A few assumptions based on the created categories:</b> <br>\n",
    "- There are overlappings of the 80% of low-/mid-spending customers and the 80% of the occasional customers.\n",
    "- The occasional customers tend to spend less than the average. Maybe the occasional customers ordered a small amount of items and/or items in the lower price range.\n",
    "- Maybe they are not yet familiar with the online shop and wanted to test the qualilty of the items and the shop itself without taking a big risk.\n",
    "- Maybe they are smaller resellers who don't have a huge turnovers in generell, so they order this amount which they are capable of selling\n",
    "- In the worst case the occasional customers weren't satisfied with the so far ordered products and that is why they haven't ordered again or more often\n",
    "- Or maybe they just need a bit of an incentive to order again.\n",
    "\n"
   ]
  },
  {
   "cell_type": "markdown",
   "id": "6d1ddd92-044e-4c05-8ce6-99bfc08b541a",
   "metadata": {},
   "source": [
    "## 5. Customer segmentation with K-Means clustering <a id=\"chapter5\"></a>\n",
    "\n",
    "As a third opportunity I would like to test K-Means clustering to see which commonalities and differences the model will find throughout the customers.\n"
   ]
  },
  {
   "cell_type": "markdown",
   "id": "6e4327b3-65a6-4a7d-9edc-1bdfce6396ba",
   "metadata": {},
   "source": [
    "### 5.1 Aggregating data at customer level <a id=\"section_5_1\"></a>\n",
    "Aggregation on customer level to analyze each customer’s purchasing behavior. <br> <br>\n",
    "To do this, \n",
    "- the numbers of average days since last purchases are calculated and summarised in the new column ‘recency’  using a lambda function,\n",
    "- the numbers of invoices/transactions per customers are counted and summarised in the new column ‘frequency’,\n",
    "- and the total of all orders per customers are summarized column ‘total_order_value’."
   ]
  },
  {
   "cell_type": "code",
   "execution_count": 70,
   "id": "a3600723-7dd5-44c7-a201-1ce2770ef0f1",
   "metadata": {},
   "outputs": [],
   "source": [
    "# Aggregate data by CustomerID\n",
    "customer_data = otc_fixed.groupby('customer_id').agg({\n",
    "    'invoice_date': lambda x: (x.max() - x.min()).days,\n",
    "    'invoice': 'count',\n",
    "    'total_order_value': 'sum'\n",
    "}).rename(columns={'invoice_date': 'recency', 'invoice': 'frequency'})\n"
   ]
  },
  {
   "cell_type": "code",
   "execution_count": 71,
   "id": "92ab84fe-cbde-48ed-9f96-37d20b3b9169",
   "metadata": {},
   "outputs": [
    {
     "data": {
      "text/html": [
       "<div>\n",
       "<style scoped>\n",
       "    .dataframe tbody tr th:only-of-type {\n",
       "        vertical-align: middle;\n",
       "    }\n",
       "\n",
       "    .dataframe tbody tr th {\n",
       "        vertical-align: top;\n",
       "    }\n",
       "\n",
       "    .dataframe thead th {\n",
       "        text-align: right;\n",
       "    }\n",
       "</style>\n",
       "<table border=\"1\" class=\"dataframe\">\n",
       "  <thead>\n",
       "    <tr style=\"text-align: right;\">\n",
       "      <th></th>\n",
       "      <th>recency</th>\n",
       "      <th>frequency</th>\n",
       "      <th>total_order_value</th>\n",
       "    </tr>\n",
       "    <tr>\n",
       "      <th>customer_id</th>\n",
       "      <th></th>\n",
       "      <th></th>\n",
       "      <th></th>\n",
       "    </tr>\n",
       "  </thead>\n",
       "  <tbody>\n",
       "    <tr>\n",
       "      <th>u12346</th>\n",
       "      <td>0</td>\n",
       "      <td>1</td>\n",
       "      <td>77183.60</td>\n",
       "    </tr>\n",
       "    <tr>\n",
       "      <th>u12347</th>\n",
       "      <td>365</td>\n",
       "      <td>182</td>\n",
       "      <td>4310.00</td>\n",
       "    </tr>\n",
       "    <tr>\n",
       "      <th>u12348</th>\n",
       "      <td>282</td>\n",
       "      <td>27</td>\n",
       "      <td>1437.24</td>\n",
       "    </tr>\n",
       "    <tr>\n",
       "      <th>u12349</th>\n",
       "      <td>0</td>\n",
       "      <td>72</td>\n",
       "      <td>1457.55</td>\n",
       "    </tr>\n",
       "    <tr>\n",
       "      <th>u1235</th>\n",
       "      <td>0</td>\n",
       "      <td>16</td>\n",
       "      <td>294.40</td>\n",
       "    </tr>\n",
       "  </tbody>\n",
       "</table>\n",
       "</div>"
      ],
      "text/plain": [
       "             recency  frequency  total_order_value\n",
       "customer_id                                       \n",
       "u12346             0          1           77183.60\n",
       "u12347           365        182            4310.00\n",
       "u12348           282         27            1437.24\n",
       "u12349             0         72            1457.55\n",
       "u1235              0         16             294.40"
      ]
     },
     "execution_count": 71,
     "metadata": {},
     "output_type": "execute_result"
    }
   ],
   "source": [
    "customer_data.head()"
   ]
  },
  {
   "cell_type": "markdown",
   "id": "9702fce1-e09d-4e5f-ae0b-85f9245b2d33",
   "metadata": {},
   "source": [
    "### 5.2 Removing outliers <a id=\"section_5_2\"></a>"
   ]
  },
  {
   "cell_type": "markdown",
   "id": "c9de1392-369b-4589-a9c2-324b9feb8e9a",
   "metadata": {},
   "source": [
    "To make sure that no unwanted outliers wont't distort the upcoming result, I will remove possible outliers.\n",
    "\n",
    "First I'll check visually with the help of a boxplot chart, if there are outliers."
   ]
  },
  {
   "cell_type": "markdown",
   "id": "e9738d8a-cde6-4631-b2c0-d59840b69534",
   "metadata": {},
   "source": [
    "##### Visualise the Outliers"
   ]
  },
  {
   "cell_type": "code",
   "execution_count": 72,
   "id": "e62368d4-ee76-408c-882d-d80f46a35ce7",
   "metadata": {},
   "outputs": [
    {
     "name": "stdout",
     "output_type": "stream",
     "text": [
      "recency: \n"
     ]
    },
    {
     "data": {
      "image/png": "[encoded data removed]",
      "text/plain": [
       "<Figure size 640x480 with 1 Axes>"
      ]
     },
     "metadata": {},
     "output_type": "display_data"
    },
    {
     "name": "stdout",
     "output_type": "stream",
     "text": [
      "frequency: \n"
     ]
    },
    {
     "data": {
      "image/png": "[encoded data removed]",
      "text/plain": [
       "<Figure size 640x480 with 1 Axes>"
      ]
     },
     "metadata": {},
     "output_type": "display_data"
    },
    {
     "name": "stdout",
     "output_type": "stream",
     "text": [
      "total_order_value: \n"
     ]
    },
    {
     "data": {
      "image/png": "[encoded data removed]",
      "text/plain": [
       "<Figure size 640x480 with 1 Axes>"
      ]
     },
     "metadata": {},
     "output_type": "display_data"
    }
   ],
   "source": [
    "list1 = ['recency','frequency','total_order_value']\n",
    "for i in list1:\n",
    "    print(str(i)+': ')\n",
    "    ax = sns.boxplot(x=customer_data[str(i)])\n",
    "    plt.show()"
   ]
  },
  {
   "cell_type": "code",
   "execution_count": 78,
   "id": "1158988a-2178-4ad0-9fba-2dbc310def59",
   "metadata": {},
   "outputs": [
    {
     "data": {
      "text/html": [
       "<div>\n",
       "<style scoped>\n",
       "    .dataframe tbody tr th:only-of-type {\n",
       "        vertical-align: middle;\n",
       "    }\n",
       "\n",
       "    .dataframe tbody tr th {\n",
       "        vertical-align: top;\n",
       "    }\n",
       "\n",
       "    .dataframe thead th {\n",
       "        text-align: right;\n",
       "    }\n",
       "</style>\n",
       "<table border=\"1\" class=\"dataframe\">\n",
       "  <thead>\n",
       "    <tr style=\"text-align: right;\">\n",
       "      <th></th>\n",
       "      <th>customer_id</th>\n",
       "      <th>recency</th>\n",
       "      <th>frequency</th>\n",
       "      <th>total_order_value</th>\n",
       "    </tr>\n",
       "  </thead>\n",
       "  <tbody>\n",
       "    <tr>\n",
       "      <th>0</th>\n",
       "      <td>u12346</td>\n",
       "      <td>0</td>\n",
       "      <td>1</td>\n",
       "      <td>77183.60</td>\n",
       "    </tr>\n",
       "    <tr>\n",
       "      <th>1</th>\n",
       "      <td>u12347</td>\n",
       "      <td>365</td>\n",
       "      <td>182</td>\n",
       "      <td>4310.00</td>\n",
       "    </tr>\n",
       "    <tr>\n",
       "      <th>2</th>\n",
       "      <td>u12348</td>\n",
       "      <td>282</td>\n",
       "      <td>27</td>\n",
       "      <td>1437.24</td>\n",
       "    </tr>\n",
       "    <tr>\n",
       "      <th>3</th>\n",
       "      <td>u12349</td>\n",
       "      <td>0</td>\n",
       "      <td>72</td>\n",
       "      <td>1457.55</td>\n",
       "    </tr>\n",
       "    <tr>\n",
       "      <th>4</th>\n",
       "      <td>u1235</td>\n",
       "      <td>0</td>\n",
       "      <td>16</td>\n",
       "      <td>294.40</td>\n",
       "    </tr>\n",
       "  </tbody>\n",
       "</table>\n",
       "</div>"
      ],
      "text/plain": [
       "  customer_id  recency  frequency  total_order_value\n",
       "0      u12346        0          1           77183.60\n",
       "1      u12347      365        182            4310.00\n",
       "2      u12348      282         27            1437.24\n",
       "3      u12349        0         72            1457.55\n",
       "4       u1235        0         16             294.40"
      ]
     },
     "execution_count": 78,
     "metadata": {},
     "output_type": "execute_result"
    }
   ],
   "source": [
    "#Reindexing, so that the customer_id is not the index anymore, but rather a column, that can be filtred out\n",
    "new_df_reindexed = customer_data.reset_index()\n",
    "new_df_reindexed.head()"
   ]
  },
  {
   "cell_type": "code",
   "execution_count": 80,
   "id": "74f40c65-1285-4770-a352-22af341afb0d",
   "metadata": {},
   "outputs": [],
   "source": [
    "# Removing the customer_id column because for the following step it not needed\n",
    "new_df = new_df_reindexed[['recency','frequency','total_order_value']]\n",
    "\n",
    "# Removing the outliers\n",
    "z_scores = stats.zscore(new_df)\n",
    "abs_z_scores = np.abs(z_scores)\n",
    "filtered_entries = (abs_z_scores < 3).all(axis=1)\n",
    "customer_data_ol_removed = new_df[filtered_entries]\n",
    "\n",
    "# \"..._ol_removed\" stands for outliers_removed"
   ]
  },
  {
   "cell_type": "code",
   "execution_count": 81,
   "id": "0b11747e-9a9c-4a52-b4c1-38c744bd75bf",
   "metadata": {},
   "outputs": [
    {
     "data": {
      "text/html": [
       "<div>\n",
       "<style scoped>\n",
       "    .dataframe tbody tr th:only-of-type {\n",
       "        vertical-align: middle;\n",
       "    }\n",
       "\n",
       "    .dataframe tbody tr th {\n",
       "        vertical-align: top;\n",
       "    }\n",
       "\n",
       "    .dataframe thead th {\n",
       "        text-align: right;\n",
       "    }\n",
       "</style>\n",
       "<table border=\"1\" class=\"dataframe\">\n",
       "  <thead>\n",
       "    <tr style=\"text-align: right;\">\n",
       "      <th></th>\n",
       "      <th>recency</th>\n",
       "      <th>frequency</th>\n",
       "      <th>total_order_value</th>\n",
       "    </tr>\n",
       "  </thead>\n",
       "  <tbody>\n",
       "    <tr>\n",
       "      <th>1</th>\n",
       "      <td>365</td>\n",
       "      <td>182</td>\n",
       "      <td>4310.00</td>\n",
       "    </tr>\n",
       "    <tr>\n",
       "      <th>2</th>\n",
       "      <td>282</td>\n",
       "      <td>27</td>\n",
       "      <td>1437.24</td>\n",
       "    </tr>\n",
       "    <tr>\n",
       "      <th>3</th>\n",
       "      <td>0</td>\n",
       "      <td>72</td>\n",
       "      <td>1457.55</td>\n",
       "    </tr>\n",
       "    <tr>\n",
       "      <th>4</th>\n",
       "      <td>0</td>\n",
       "      <td>16</td>\n",
       "      <td>294.40</td>\n",
       "    </tr>\n",
       "    <tr>\n",
       "      <th>5</th>\n",
       "      <td>260</td>\n",
       "      <td>77</td>\n",
       "      <td>1385.74</td>\n",
       "    </tr>\n",
       "  </tbody>\n",
       "</table>\n",
       "</div>"
      ],
      "text/plain": [
       "   recency  frequency  total_order_value\n",
       "1      365        182            4310.00\n",
       "2      282         27            1437.24\n",
       "3        0         72            1457.55\n",
       "4        0         16             294.40\n",
       "5      260         77            1385.74"
      ]
     },
     "execution_count": 81,
     "metadata": {},
     "output_type": "execute_result"
    }
   ],
   "source": [
    "customer_data_ol_removed.head()"
   ]
  },
  {
   "cell_type": "code",
   "execution_count": 143,
   "id": "67044a10-0008-423b-9512-f4c8772b8214",
   "metadata": {},
   "outputs": [
    {
     "data": {
      "text/plain": [
       "(4284, 3)"
      ]
     },
     "execution_count": 143,
     "metadata": {},
     "output_type": "execute_result"
    }
   ],
   "source": [
    "customer_data_ol_removed.shape"
   ]
  },
  {
   "cell_type": "markdown",
   "id": "b136fe5e-ca40-489b-9449-d9ec3c814dd1",
   "metadata": {},
   "source": [
    " 51 outliers has been removed from 4335 customers' data."
   ]
  },
  {
   "cell_type": "markdown",
   "id": "a634a034-fa47-4d2f-8698-01f9c45730a6",
   "metadata": {},
   "source": [
    "### 5.3 Applying the Elbow Method <a id=\"section_5_3\"></a>\n",
    "To determine the optimal number of clusters for KMeans"
   ]
  },
  {
   "cell_type": "code",
   "execution_count": 82,
   "id": "865d9595-14ab-4a61-ad13-bb8331a07145",
   "metadata": {},
   "outputs": [
    {
     "data": {
      "image/png": "[encoded data removed]",
      "text/plain": [
       "<Figure size 640x480 with 1 Axes>"
      ]
     },
     "metadata": {},
     "output_type": "display_data"
    }
   ],
   "source": [
    "# Scale the features\n",
    "scaler = StandardScaler()\n",
    "scaled_features = scaler.fit_transform(customer_data_ol_removed[['recency', 'frequency', 'total_order_value']])\n",
    "\n",
    "# Determine the optimal number of clusters using the Elbow Method\n",
    "inertia = []\n",
    "for i in range(1, 11):\n",
    "    kmeans = KMeans(n_clusters=i, init='k-means++', random_state=42)\n",
    "    kmeans.fit(scaled_features)\n",
    "    inertia.append(kmeans.inertia_)\n",
    "\n",
    "# Plot the inertia for each number of clusters\n",
    "plt.plot(range(1, 11), inertia, marker='o')\n",
    "plt.title('Elbow Method')\n",
    "plt.xlabel('Number of Clusters')\n",
    "plt.ylabel('inertia')\n",
    "plt.show()"
   ]
  },
  {
   "cell_type": "markdown",
   "id": "bd5069d1-797d-4b66-bc63-c9703a38bca6",
   "metadata": {},
   "source": [
    "<b>Observation:</b> <br>\n",
    "The elbow method indicates that the optimal number of clusters lies around 3, 4 and 5. The elbow is quit flat and doesn't give a very precise indication."
   ]
  },
  {
   "cell_type": "markdown",
   "id": "99c06ca6-6366-454b-ba60-e7fa07b920d6",
   "metadata": {},
   "source": [
    "### 5.4 Implementing K-means clustering <a id=\"section_5_4\"></a>"
   ]
  },
  {
   "cell_type": "code",
   "execution_count": 88,
   "id": "aedb49da-17fa-4b99-aefe-a9ae68569415",
   "metadata": {},
   "outputs": [],
   "source": [
    "# Create an instance of KMeans with the optimal number of clusters and fit it to the scaled data\n",
    "optimal_clusters = 4\n",
    "kmeans = KMeans(n_clusters= optimal_clusters, init=\"k-means++\",n_init='auto', random_state=42)\n",
    "\n",
    "# Fit the model to the scaled data\n",
    "new_df_ol_removed = new_df_ol_removed.copy()\n",
    "new_df_ol_removed[\"cluster\"] = kmeans.fit_predict(scaled_features)\n",
    "#(X, y=None, sample_weight=None)"
   ]
  },
  {
   "cell_type": "code",
   "execution_count": 89,
   "id": "0ae20436-a8c6-4c2f-a86d-ff8c2e673296",
   "metadata": {},
   "outputs": [
    {
     "name": "stdout",
     "output_type": "stream",
     "text": [
      "Silhouette Score: 0.544070080446038\n"
     ]
    }
   ],
   "source": [
    "# Calculate the silhouette score for the model.\n",
    "silhouette_avg = silhouette_score(scaled_features, new_df_ol_removed[\"cluster\"])\n",
    "\n",
    "print(f'Silhouette Score: {silhouette_avg}')\n",
    "\n",
    "#Reminder: Values closer to 1 are ideal\n",
    "                              "
   ]
  },
  {
   "cell_type": "markdown",
   "id": "21fee7c7-2a46-4324-93d9-b0a14be97dbc",
   "metadata": {},
   "source": [
    "<b>Interim result:</b> <br>\n",
    "I have also calculated the silhouette scores for the cluster number 3 and 5. But their silhouette score was smaller and therefore closer to 0.\n",
    "\n",
    "So proceed with the cluster number 4, which has the most closest score to 1.\n"
   ]
  },
  {
   "cell_type": "markdown",
   "id": "b4fee966-3a1f-4cc2-81a5-1494a4a0a5d0",
   "metadata": {},
   "source": [
    "### 5.5 Visualize the clusters <a id=\"section_5_5\"></a>"
   ]
  },
  {
   "cell_type": "code",
   "execution_count": 100,
   "id": "0be61c50-8344-40fc-9453-7059ec73a711",
   "metadata": {},
   "outputs": [
    {
     "data": {
      "image/png": "[encoded data removed]",
      "text/plain": [
       "<Figure size 640x480 with 1 Axes>"
      ]
     },
     "metadata": {},
     "output_type": "display_data"
    }
   ],
   "source": [
    "# Create a scatter plot for each clusters\n",
    "clusters = new_df_ol_removed[\"cluster\"].unique()\n",
    "\n",
    "for cluster in clusters:\n",
    "    cluster_data = new_df_ol_removed[new_df_ol_removed[\"cluster\"] == cluster]\n",
    "    plt.scatter(cluster_data['total_order_value'], \n",
    "                cluster_data['frequency'], \n",
    "                label=f'Cluster {cluster}') \n",
    "\n",
    "# Axes and title\n",
    "plt.xlabel('Total Order Value')\n",
    "plt.ylabel('Frequency')\n",
    "plt.title('K-means Clustering of customer data: Frequency vs Total Order Value')\n",
    "\n",
    "plt.legend()\n",
    "plt.show()"
   ]
  },
  {
   "cell_type": "markdown",
   "id": "235ef553-84a8-4f86-bcd8-0f6d19836139",
   "metadata": {},
   "source": [
    "<b>First observations:</b> <br>\n",
    "The Plot shows, that \n",
    "- Cluster 0 and 3 share some similarities when it comes to smaller order values. They are mostly identical.\n",
    "- Cluster 1 and 2 differ more clearly from each other and to Cluster 0 and 3."
   ]
  },
  {
   "cell_type": "code",
   "execution_count": 104,
   "id": "16ffffc3-77f7-4a70-84a7-2628b96186e8",
   "metadata": {},
   "outputs": [
    {
     "data": {
      "image/png": "[encoded data removed]",
      "text/plain": [
       "<Figure size 640x480 with 1 Axes>"
      ]
     },
     "metadata": {},
     "output_type": "display_data"
    }
   ],
   "source": [
    "# Create a scatter plot for each clusters\n",
    "clusters = new_df_ol_removed[\"cluster\"].unique()\n",
    "\n",
    "for cluster in clusters:\n",
    "    cluster_data = new_df_ol_removed[new_df_ol_removed[\"cluster\"] == cluster]\n",
    "    plt.scatter(cluster_data['total_order_value'], \n",
    "                cluster_data['recency'], \n",
    "                label=f'Cluster {cluster}') \n",
    "\n",
    "plt.xlabel('Total Order Value')\n",
    "plt.ylabel('Recency')\n",
    "plt.title('K-means Clustering of customer data: Recency vs Total Order Value')\n",
    "plt.legend()\n",
    "plt.show()"
   ]
  },
  {
   "cell_type": "markdown",
   "id": "a2f4b4f9-9c8b-4c12-a184-08303f7ed5ea",
   "metadata": {},
   "source": [
    "<b>First observations:</b> <br>\n",
    "The Plot shows, that \n",
    "- Cluster 0 and 3 differ more obvious from each other when it comes to their recency.\n",
    "- Cluster 1 and 3 are overlapping and share more similarities in their recency. \n",
    "- Cluster 1 and 2 differ more clearly from each other.\n",
    "\n",
    "  "
   ]
  },
  {
   "cell_type": "code",
   "execution_count": 132,
   "id": "1a4eae41-c618-419b-a7c5-6eef2f8516f7",
   "metadata": {},
   "outputs": [
    {
     "data": {
      "image/png": "[encoded data removed]",
      "text/plain": [
       "<Figure size 640x480 with 1 Axes>"
      ]
     },
     "metadata": {},
     "output_type": "display_data"
    }
   ],
   "source": [
    "# Create a scatter plot for each clusters\n",
    "clusters = new_df_ol_removed[\"cluster\"].unique()\n",
    "\n",
    "for cluster in clusters:\n",
    "    cluster_data = new_df_ol_removed[new_df_ol_removed[\"cluster\"] == cluster]\n",
    "    plt.scatter(cluster_data['recency'], \n",
    "                cluster_data['frequency'], \n",
    "                label=f'Cluster {cluster}') \n",
    "\n",
    "# Axes and title\n",
    "plt.xlabel('Recency')\n",
    "plt.ylabel('Frequency')\n",
    "plt.title('K-means Clustering of customer data: Frequency vs Recency')\n",
    "\n",
    "plt.legend()\n",
    "plt.show()"
   ]
  },
  {
   "cell_type": "markdown",
   "id": "78aaeec3-5233-4aff-863b-c50eb08441f6",
   "metadata": {},
   "source": [
    "<b>First observations:</b> <br>\n",
    "The Plot shows, that \n",
    "- Cluster 0 and 3 differ more obvious from each other when it comes to their recency.\n",
    "- Cluster 1 and 3 are overlapping and share more similarities in their recency. \n",
    "- Cluster 1 and 2 differ more clearly from each other."
   ]
  },
  {
   "cell_type": "code",
   "execution_count": 138,
   "id": "f2ab67ad-3530-4b18-aed5-b073ddb57465",
   "metadata": {},
   "outputs": [],
   "source": [
    "# Cluster characteristics in numbers by aggregating the means per cluster\n",
    "\n",
    "cluster_analysis = new_df_ol_removed.groupby('cluster').agg({\n",
    "    'recency': 'mean',\n",
    "    'frequency': 'mean',\n",
    "    'total_order_value': 'mean'\n",
    "})"
   ]
  },
  {
   "cell_type": "code",
   "execution_count": 105,
   "id": "9cf492cf-7ba3-45e2-9e2e-c66532b654d0",
   "metadata": {},
   "outputs": [
    {
     "data": {
      "text/html": [
       "<div>\n",
       "<style scoped>\n",
       "    .dataframe tbody tr th:only-of-type {\n",
       "        vertical-align: middle;\n",
       "    }\n",
       "\n",
       "    .dataframe tbody tr th {\n",
       "        vertical-align: top;\n",
       "    }\n",
       "\n",
       "    .dataframe thead th {\n",
       "        text-align: right;\n",
       "    }\n",
       "</style>\n",
       "<table border=\"1\" class=\"dataframe\">\n",
       "  <thead>\n",
       "    <tr style=\"text-align: right;\">\n",
       "      <th></th>\n",
       "      <th>recency</th>\n",
       "      <th>frequency</th>\n",
       "      <th>total_order_value</th>\n",
       "    </tr>\n",
       "    <tr>\n",
       "      <th>cluster</th>\n",
       "      <th></th>\n",
       "      <th></th>\n",
       "      <th></th>\n",
       "    </tr>\n",
       "  </thead>\n",
       "  <tbody>\n",
       "    <tr>\n",
       "      <th>0</th>\n",
       "      <td>22.876897</td>\n",
       "      <td>31.082631</td>\n",
       "      <td>509.998349</td>\n",
       "    </tr>\n",
       "    <tr>\n",
       "      <th>1</th>\n",
       "      <td>290.534177</td>\n",
       "      <td>300.055696</td>\n",
       "      <td>4100.324557</td>\n",
       "    </tr>\n",
       "    <tr>\n",
       "      <th>2</th>\n",
       "      <td>326.753247</td>\n",
       "      <td>318.844156</td>\n",
       "      <td>13962.683377</td>\n",
       "    </tr>\n",
       "    <tr>\n",
       "      <th>3</th>\n",
       "      <td>245.934028</td>\n",
       "      <td>78.916667</td>\n",
       "      <td>1488.128799</td>\n",
       "    </tr>\n",
       "  </tbody>\n",
       "</table>\n",
       "</div>"
      ],
      "text/plain": [
       "            recency   frequency  total_order_value\n",
       "cluster                                           \n",
       "0         22.876897   31.082631         509.998349\n",
       "1        290.534177  300.055696        4100.324557\n",
       "2        326.753247  318.844156       13962.683377\n",
       "3        245.934028   78.916667        1488.128799"
      ]
     },
     "execution_count": 105,
     "metadata": {},
     "output_type": "execute_result"
    }
   ],
   "source": [
    "cluster_analysis"
   ]
  },
  {
   "cell_type": "code",
   "execution_count": 140,
   "id": "fce90304-3c19-4682-a738-684cebda20dc",
   "metadata": {},
   "outputs": [
    {
     "name": "stdout",
     "output_type": "stream",
     "text": [
      "cluster\n",
      "0    2372\n",
      "3    1440\n",
      "1     395\n",
      "2      77\n",
      "Name: count, dtype: int64\n"
     ]
    }
   ],
   "source": [
    "# How many customers belong to which cluster? \n",
    "clusters_sizes = new_df_ol_removed[\"cluster\"].value_counts()\n",
    "print (clusters_sizes)"
   ]
  },
  {
   "cell_type": "code",
   "execution_count": 146,
   "id": "5763d45e-b625-4bf0-b842-d567777ce80b",
   "metadata": {},
   "outputs": [
    {
     "data": {
      "text/plain": [
       "<Axes: ylabel='count'>"
      ]
     },
     "execution_count": 146,
     "metadata": {},
     "output_type": "execute_result"
    },
    {
     "data": {
      "image/png": "[encoded data removed]",
      "text/plain": [
       "<Figure size 640x480 with 1 Axes>"
      ]
     },
     "metadata": {},
     "output_type": "display_data"
    }
   ],
   "source": [
    "#Let's visualize this numbers quick&easy\n",
    "clusters_sizes.plot(kind='pie')"
   ]
  },
  {
   "cell_type": "code",
   "execution_count": 139,
   "id": "9108c0f8-54f4-447f-a0ab-19d547a8d5e8",
   "metadata": {},
   "outputs": [
    {
     "data": {
      "image/png": "[encoded data removed]",
      "text/plain": [
       "<Figure size 640x480 with 1 Axes>"
      ]
     },
     "metadata": {},
     "output_type": "display_data"
    },
    {
     "data": {
      "image/png": "[encoded data removed]",
      "text/plain": [
       "<Figure size 640x480 with 1 Axes>"
      ]
     },
     "metadata": {},
     "output_type": "display_data"
    },
    {
     "data": {
      "image/png": "[encoded data removed]",
      "text/plain": [
       "<Figure size 640x480 with 1 Axes>"
      ]
     },
     "metadata": {},
     "output_type": "display_data"
    }
   ],
   "source": [
    "# Calculation the mean for each cluster\n",
    "avg_df = new_df_ol_removed.groupby(['cluster'], as_index=False).mean()\n",
    "\n",
    "# Converting into a string \n",
    "avg_df['cluster'] = avg_df['cluster'].astype(str)\n",
    "\n",
    "# Identifying the number of cluster\n",
    "clusters = avg_df['cluster'].unique()\n",
    "\n",
    "# Creating a color palette based on the number of clusters\n",
    "#cmap = plt.get_cmap() \n",
    "#colors = cmap(np.linspace(0, 1, len(clusters)))\n",
    "\n",
    "#wenns auskommentiert ist, hat das keinen Einfluss auf die Darstellung, \"palette\" wird im nä Schritt aber nochmal heranzgezogen\n",
    "# Assign colours to the clusters (as strings)\n",
    "#palette = dict(zip(clusters, colors))\n",
    "\n",
    "# Creating barplots for each aggregated category by cluster. so we can visualize the size of a cluster by category \n",
    "\n",
    "#### Barplot erstellen mit den extrahierten Farben und dem hue-Parameter\n",
    "\n",
    "for i in list1:\n",
    "    sns.barplot(x='cluster', y=str(i), data=avg_df, hue='cluster', dodge=False, legend=True)\n",
    "    plt.show()\n",
    "    #sns.barplot(x='cluster', y=str(i), data=avg_df, palette=palette, hue='cluster', dodge=False, legend=False)\n",
    "    \n",
    "\n",
    "\n",
    "\n"
   ]
  },
  {
   "cell_type": "markdown",
   "id": "148a860d-ddaf-4382-ac69-5dc0df576c01",
   "metadata": {},
   "source": [
    "### 5.6. Analysis of the customer clusters <a id=\"section_5_6\"></a>"
   ]
  },
  {
   "cell_type": "markdown",
   "id": "d3026b1b-7a07-4fd2-8742-de3cb52ce7c1",
   "metadata": {},
   "source": [
    "<b>OBERVATIONS IN CLUSTER 0</b>\n",
    "- Recency: 22.88 (average days since last purchase)\n",
    "- Frequency: 31.08 (average number of transactions)\n",
    "- Total Order Value: 509.99 (average total spend)\n",
    "- <b>Insights</b>: Customers of cluster 0 have shopped recently, made relatively few transactions and have the lowest average spend. This could indicate new or occasional shoppers who are testing or sporadically purchasing from the store.\n",
    "- <b>Marketing Strategy</b>: To encourage repeat visits, consider implementing a first-time buyer or a loyalty program, providing welcome discounts, or recommending popular products to increase their purchase frequency and amount.\n",
    "\n",
    "\n",
    "<b>OBERVATIONS IN CLUSTER 1</b>\n",
    "- Recency: 290.53 (average days since last purchase)\n",
    "- Frequency: 300.06 (average number of transactions)\n",
    "- Total Order Value: 4100.32 (average total spend)\n",
    "- <b>Insights</b>: These customers haven’t shopped recently but, on average, have made almost the highest number of transactions (in average) with a considerable amount of order value in total in the past. They could be former regular customers who have churned or seasonal shoppers.\n",
    "- <b>Marketing Strategy</b>: To encourage repeat visits, it could be considered setting up a loyalty program or one for first-time buyers, which offers welcome discounts, or recommends very popular products to increase their purchase in frequency and in amount.\n",
    "\n",
    "\n",
    "<b>OBERVATIONS IN CLUSTER 2</b>\n",
    "- Recency: 326.75 (average days since last purchase)\n",
    "- Frequency: 318.84 (average number of transactions)\n",
    "- Total Order Value: 13962.68 (average total spend)\n",
    "- <b>Insights</b>: The average customer of cluster 2 hasn't ordered for the longest time (compared to the other clusters). They have ordered most often in the past and have purchased the hightest amount of order value. This could indicate that these are bulk buyers who rarely buy in large quantities because they have larger storage facilities and the stock has not yet been used up (which may be why they have not yet ordered again) or who have made one-off purchases because they have ordered for a specific project or event.      \n",
    "- <b>Marketing Strategy</b>: Since three customer clusters, which make up almost half of the customers, order infrequently, a customer survey on ordering behaviour and satisfaction would be conceivable and helpful in gaining further insights. Maybe more personalised disount offers for bulked purchases could reactivate this cluster.\n",
    "\n",
    "<b>OBERVATIONS IN CLUSTER 3</b>\n",
    "- Recency: 245.93 (average days since last purchase)\n",
    "- Frequency: 78.92 (average number of transactions)\n",
    "- Total Order Value: 1488.13 (average total spend)\n",
    "- <b>Insights</b>: This customer cluster has also not shopped recently and generated relatively few transactions, but still twice as many as cluster 0 and ordered around three times as much (in terms of order value) as cluster 0.\n",
    "This behaviour could indicate that, like Cluster 0, the customers are occasional shoppers or first-time buyers, but are willing to take more risks in terms of order volume. Or maybe they were happy to order in the beginning, but then found another source of supply, with which they are more satisfied and this is why they have been ordering elsewhere for some time now.\n",
    "- <b>Marketing Strategy</b>: This cluster could also be considered for a customer survey in order to find out the exact reasons for the latest reluctance to buy and/or if they are missing specific services or product ranges they find elsewhere.\n",
    "\n",
    "<b>OVERALL STRATEGY</b><br>\n",
    "Each cluster offers insights and points of reference that can be leveraged to inform marketing strategies. The objective is to transition customers from a higher frequency of purchases (fewer recent purchases) to a lower frequency (less day inbetween purchases) while increasing the frequency (number of transactions) and overall order value across all customer segments. Personalisation, targeted offers and an understanding of the needs and behaviours of each customer segment are essential for optimising customer value and business growth.\n",
    "\n",
    "<b>CONCLUSION</b><br>\n",
    "Customer segmentation using K-Means clustering opens up helpful opportunities to understand and target the different customer groups in retail. Segmenting customers based on their purchasing behaviour enables retailers to develop targeted marketing strategies and optimise the customer experience, which ultimately boosts sales and business growth."
   ]
  }
 ],
 "metadata": {
  "kernelspec": {
   "display_name": "Python 3 (ipykernel)",
   "language": "python",
   "name": "python3"
  },
  "language_info": {
   "codemirror_mode": {
    "name": "ipython",
    "version": 3
   },
   "file_extension": ".py",
   "mimetype": "text/x-python",
   "name": "python",
   "nbconvert_exporter": "python",
   "pygments_lexer": "ipython3",
   "version": "3.12.4"
  }
 },
 "nbformat": 4,
 "nbformat_minor": 5
}
