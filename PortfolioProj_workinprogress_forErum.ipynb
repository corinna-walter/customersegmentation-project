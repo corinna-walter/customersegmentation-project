{
 "cells": [
  {
   "cell_type": "markdown",
   "id": "1515994b-296f-420d-914e-08d5cb705aff",
   "metadata": {},
   "source": [
    "# Customer Segmentation With A Online Transaction Dataset"
   ]
  },
  {
   "cell_type": "markdown",
   "id": "cfcffa8b-2b97-4d1d-a83a-7d390e3ff815",
   "metadata": {},
   "source": [
    "Content: <br>\n",
    "Step 1: Import Necessary Libraries and Modules<br>\n",
    "Step 2: Load the Dataset<br>\n",
    "Step 3: Explore and Clean the Dataset<br>\n",
    "Step 4: Explore the dataset with SQL queries<br>\n",
    "Step 5: Identifying the probably high profile customers?<br>\n",
    "Step 6: Creating Customer Categories<br> \n",
    "Step 7: Customer Segmentation with KMeans Clustering (inkl Remove Outliers)<br>\n"
   ]
  },
  {
   "cell_type": "markdown",
   "id": "3a8c2e0f-ac10-482c-9342-6445b263b116",
   "metadata": {},
   "source": [
    "## Import Necessary Libraries and Modules"
   ]
  },
  {
   "cell_type": "code",
   "execution_count": 14,
   "id": "2acb70b0-efee-4d0a-80d1-d2593b740182",
   "metadata": {},
   "outputs": [],
   "source": [
    "import pandas as pd\n",
    "import numpy as np\n",
    "import sqlite3"
   ]
  },
  {
   "cell_type": "code",
   "execution_count": 15,
   "id": "a10d2e3d-7fbf-4c59-bd00-fd07fddf0b88",
   "metadata": {},
   "outputs": [],
   "source": [
    "from datetime import datetime\n",
    "import matplotlib.pyplot as plt\n",
    "import seaborn as sns\n",
    "\n",
    "from sklearn.cluster import KMeans\n",
    "from sklearn.preprocessing import StandardScaler\n",
    "from sklearn.metrics import silhouette_score"
   ]
  },
  {
   "cell_type": "code",
   "execution_count": 16,
   "id": "0281b171-4c6b-4106-a948-16b0940b1e23",
   "metadata": {},
   "outputs": [],
   "source": [
    "from scipy import stats"
   ]
  },
  {
   "cell_type": "code",
   "execution_count": 17,
   "id": "0cc9ec78-dfa0-4157-b679-5846d08c9bd5",
   "metadata": {},
   "outputs": [],
   "source": [
    "import os\n",
    "os.environ['OMP_NUM_THREADS'] = '1'"
   ]
  },
  {
   "cell_type": "markdown",
   "id": "c1aadaa5-a445-4fb1-ab06-c44c6717b972",
   "metadata": {},
   "source": [
    "## Load the Databse \"bootcamp_db\""
   ]
  },
  {
   "cell_type": "code",
   "execution_count": 18,
   "id": "49788f4f-2609-4b12-9557-abc71d850f1b",
   "metadata": {},
   "outputs": [],
   "source": [
    "# connect to db (cleaned w/ 3 tables)\n",
    "conn = sqlite3.connect(\"../data/bootcamp_db\")"
   ]
  },
  {
   "cell_type": "code",
   "execution_count": 19,
   "id": "bb9f4b35-dede-4420-9f10-eefcf8bea050",
   "metadata": {},
   "outputs": [
    {
     "data": {
      "text/plain": [
       "<sqlite3.Connection at 0x236b54b05e0>"
      ]
     },
     "execution_count": 19,
     "metadata": {},
     "output_type": "execute_result"
    }
   ],
   "source": [
    "conn"
   ]
  },
  {
   "cell_type": "code",
   "execution_count": 20,
   "id": "15b24c4f-8def-4ce3-b03a-7c642f21f24d",
   "metadata": {},
   "outputs": [
    {
     "name": "stdout",
     "output_type": "stream",
     "text": [
      "List of tables in the database:\n",
      "[('online_transactions',), ('stock_description',), ('online_transactions_cleaned',)]\n"
     ]
    }
   ],
   "source": [
    "# Doublecheck of the db contains 3tables\n",
    "sql_query = \"\"\"SELECT name \n",
    "               FROM sqlite_master \n",
    "               WHERE type='table';\"\"\"\n",
    "\n",
    "cursor = conn.cursor()\n",
    "\n",
    "# executing our sql query\n",
    "cursor.execute(sql_query)\n",
    "\n",
    " \n",
    "# printing all tables list\n",
    "print(f\"List of tables in the database:\\n{cursor.fetchall()}\")"
   ]
  },
  {
   "cell_type": "markdown",
   "id": "0086b75e-82fc-45a7-ad0e-6ebfeb3a5ad5",
   "metadata": {},
   "source": [
    "### Characteristics of online_transactions_cleaned'"
   ]
  },
  {
   "cell_type": "markdown",
   "id": "ca0ed19d-0982-4690-b3fe-b7755b6975d3",
   "metadata": {},
   "source": [
    "In an previous version of \"bootcamp_db\" the following steps were performed on the tables 'online_transactions' and 'stock_description'. \n",
    "\n",
    "- Left JOIN query to add the description from 'stock_description' to the 'online_transactions' table<br>\n",
    "\n",
    "The join query considers:\n",
    "- Filling in UNKNOWN' when description is null \n",
    "- Creating a the column total_amount_spent by price*quantity \n",
    "- Removing rows where the col. stock_code is '?'\n",
    "- Removing rows where the col. stock_code is BANK CHARGES', 'POST', 'D', 'M', 'CRUK'\n",
    "- Removing rows where customer_id is blank\n",
    "\n",
    "The result is the table 'online_transactions_cleaned'<br>\n",
    "In 'online_transactions_cleaned' the duplicates have been already removed"
   ]
  },
  {
   "cell_type": "code",
   "execution_count": 21,
   "id": "d725dffd-ac68-48d5-8dc4-72355f9acfcb",
   "metadata": {},
   "outputs": [],
   "source": [
    "#Create a dataframe from the table online_transactions_cleaned\n",
    "ot_cleaned = pd.read_sql_query(\"\"\"SELECT * FROM online_transactions_cleaned\"\"\", conn)"
   ]
  },
  {
   "cell_type": "code",
   "execution_count": 22,
   "id": "eb52c11c-83fd-4b83-ad25-3d58b67bf35c",
   "metadata": {},
   "outputs": [
    {
     "data": {
      "text/plain": [
       "pandas.core.frame.DataFrame"
      ]
     },
     "execution_count": 22,
     "metadata": {},
     "output_type": "execute_result"
    }
   ],
   "source": [
    "type(ot_cleaned)"
   ]
  },
  {
   "cell_type": "code",
   "execution_count": 23,
   "id": "85554b36-5226-445c-b3cb-6f3dc8f6b8b3",
   "metadata": {},
   "outputs": [
    {
     "data": {
      "text/html": [
       "<div>\n",
       "<style scoped>\n",
       "    .dataframe tbody tr th:only-of-type {\n",
       "        vertical-align: middle;\n",
       "    }\n",
       "\n",
       "    .dataframe tbody tr th {\n",
       "        vertical-align: top;\n",
       "    }\n",
       "\n",
       "    .dataframe thead th {\n",
       "        text-align: right;\n",
       "    }\n",
       "</style>\n",
       "<table border=\"1\" class=\"dataframe\">\n",
       "  <thead>\n",
       "    <tr style=\"text-align: right;\">\n",
       "      <th></th>\n",
       "      <th>invoice</th>\n",
       "      <th>stock_code</th>\n",
       "      <th>description</th>\n",
       "      <th>invoice_date</th>\n",
       "      <th>price</th>\n",
       "      <th>quantity</th>\n",
       "      <th>total_order_value</th>\n",
       "      <th>customer_id</th>\n",
       "      <th>country</th>\n",
       "    </tr>\n",
       "  </thead>\n",
       "  <tbody>\n",
       "    <tr>\n",
       "      <th>0</th>\n",
       "      <td>536370</td>\n",
       "      <td>21791</td>\n",
       "      <td>VINTAGE HEADS AND TAILS CARD GAME</td>\n",
       "      <td>2010-12-01 08:45:00</td>\n",
       "      <td>1.25</td>\n",
       "      <td>24</td>\n",
       "      <td>30.00</td>\n",
       "      <td>u12583</td>\n",
       "      <td>France</td>\n",
       "    </tr>\n",
       "    <tr>\n",
       "      <th>1</th>\n",
       "      <td>536373</td>\n",
       "      <td>82494L</td>\n",
       "      <td>WOODEN FRAME ANTIQUE WHITE</td>\n",
       "      <td>2010-12-01 09:02:00</td>\n",
       "      <td>2.55</td>\n",
       "      <td>6</td>\n",
       "      <td>15.30</td>\n",
       "      <td>u1785</td>\n",
       "      <td>United Kingdom</td>\n",
       "    </tr>\n",
       "    <tr>\n",
       "      <th>2</th>\n",
       "      <td>536378</td>\n",
       "      <td>21929</td>\n",
       "      <td>JUMBO BAG PINK VINTAGE PAISLEY</td>\n",
       "      <td>2010-12-01 09:37:00</td>\n",
       "      <td>1.95</td>\n",
       "      <td>10</td>\n",
       "      <td>19.50</td>\n",
       "      <td>u14688</td>\n",
       "      <td>United Kingdom</td>\n",
       "    </tr>\n",
       "    <tr>\n",
       "      <th>3</th>\n",
       "      <td>536381</td>\n",
       "      <td>37444A</td>\n",
       "      <td>YELLOW BREAKFAST CUP AND SAUCER</td>\n",
       "      <td>2010-12-01 09:41:00</td>\n",
       "      <td>2.95</td>\n",
       "      <td>1</td>\n",
       "      <td>2.95</td>\n",
       "      <td>u15311</td>\n",
       "      <td>United Kingdom</td>\n",
       "    </tr>\n",
       "    <tr>\n",
       "      <th>4</th>\n",
       "      <td>536381</td>\n",
       "      <td>15056BL</td>\n",
       "      <td>EDWARDIAN PARASOL BLACK</td>\n",
       "      <td>2010-12-01 09:41:00</td>\n",
       "      <td>5.95</td>\n",
       "      <td>2</td>\n",
       "      <td>11.90</td>\n",
       "      <td>u15311</td>\n",
       "      <td>United Kingdom</td>\n",
       "    </tr>\n",
       "  </tbody>\n",
       "</table>\n",
       "</div>"
      ],
      "text/plain": [
       "  invoice stock_code                         description         invoice_date  \\\n",
       "0  536370      21791  VINTAGE HEADS AND TAILS CARD GAME   2010-12-01 08:45:00   \n",
       "1  536373     82494L         WOODEN FRAME ANTIQUE WHITE   2010-12-01 09:02:00   \n",
       "2  536378      21929      JUMBO BAG PINK VINTAGE PAISLEY  2010-12-01 09:37:00   \n",
       "3  536381     37444A     YELLOW BREAKFAST CUP AND SAUCER  2010-12-01 09:41:00   \n",
       "4  536381    15056BL             EDWARDIAN PARASOL BLACK  2010-12-01 09:41:00   \n",
       "\n",
       "   price  quantity  total_order_value customer_id         country  \n",
       "0   1.25        24              30.00      u12583          France  \n",
       "1   2.55         6              15.30       u1785  United Kingdom  \n",
       "2   1.95        10              19.50      u14688  United Kingdom  \n",
       "3   2.95         1               2.95      u15311  United Kingdom  \n",
       "4   5.95         2              11.90      u15311  United Kingdom  "
      ]
     },
     "execution_count": 23,
     "metadata": {},
     "output_type": "execute_result"
    }
   ],
   "source": [
    "ot_cleaned.head()"
   ]
  },
  {
   "cell_type": "code",
   "execution_count": 24,
   "id": "9a3b9f95-d96d-4b1c-95dc-053665a2174f",
   "metadata": {},
   "outputs": [
    {
     "data": {
      "text/plain": [
       "(399841, 9)"
      ]
     },
     "execution_count": 24,
     "metadata": {},
     "output_type": "execute_result"
    }
   ],
   "source": [
    "ot_cleaned.shape "
   ]
  },
  {
   "cell_type": "code",
   "execution_count": 25,
   "id": "855ee57e-929d-4795-b29b-e6f0bd200871",
   "metadata": {},
   "outputs": [
    {
     "data": {
      "text/html": [
       "<div>\n",
       "<style scoped>\n",
       "    .dataframe tbody tr th:only-of-type {\n",
       "        vertical-align: middle;\n",
       "    }\n",
       "\n",
       "    .dataframe tbody tr th {\n",
       "        vertical-align: top;\n",
       "    }\n",
       "\n",
       "    .dataframe thead th {\n",
       "        text-align: right;\n",
       "    }\n",
       "</style>\n",
       "<table border=\"1\" class=\"dataframe\">\n",
       "  <thead>\n",
       "    <tr style=\"text-align: right;\">\n",
       "      <th></th>\n",
       "      <th>price</th>\n",
       "      <th>quantity</th>\n",
       "      <th>total_order_value</th>\n",
       "    </tr>\n",
       "  </thead>\n",
       "  <tbody>\n",
       "    <tr>\n",
       "      <th>count</th>\n",
       "      <td>399841.000000</td>\n",
       "      <td>399841.000000</td>\n",
       "      <td>399841.000000</td>\n",
       "    </tr>\n",
       "    <tr>\n",
       "      <th>mean</th>\n",
       "      <td>2.952914</td>\n",
       "      <td>12.224359</td>\n",
       "      <td>20.716904</td>\n",
       "    </tr>\n",
       "    <tr>\n",
       "      <th>std</th>\n",
       "      <td>7.317593</td>\n",
       "      <td>250.788860</td>\n",
       "      <td>425.471765</td>\n",
       "    </tr>\n",
       "    <tr>\n",
       "      <th>min</th>\n",
       "      <td>0.000000</td>\n",
       "      <td>-80995.000000</td>\n",
       "      <td>-168469.600000</td>\n",
       "    </tr>\n",
       "    <tr>\n",
       "      <th>25%</th>\n",
       "      <td>1.250000</td>\n",
       "      <td>2.000000</td>\n",
       "      <td>4.250000</td>\n",
       "    </tr>\n",
       "    <tr>\n",
       "      <th>50%</th>\n",
       "      <td>1.950000</td>\n",
       "      <td>5.000000</td>\n",
       "      <td>11.580000</td>\n",
       "    </tr>\n",
       "    <tr>\n",
       "      <th>75%</th>\n",
       "      <td>3.750000</td>\n",
       "      <td>12.000000</td>\n",
       "      <td>19.500000</td>\n",
       "    </tr>\n",
       "    <tr>\n",
       "      <th>max</th>\n",
       "      <td>1599.260000</td>\n",
       "      <td>80995.000000</td>\n",
       "      <td>168469.600000</td>\n",
       "    </tr>\n",
       "  </tbody>\n",
       "</table>\n",
       "</div>"
      ],
      "text/plain": [
       "               price       quantity  total_order_value\n",
       "count  399841.000000  399841.000000      399841.000000\n",
       "mean        2.952914      12.224359          20.716904\n",
       "std         7.317593     250.788860         425.471765\n",
       "min         0.000000  -80995.000000     -168469.600000\n",
       "25%         1.250000       2.000000           4.250000\n",
       "50%         1.950000       5.000000          11.580000\n",
       "75%         3.750000      12.000000          19.500000\n",
       "max      1599.260000   80995.000000      168469.600000"
      ]
     },
     "execution_count": 25,
     "metadata": {},
     "output_type": "execute_result"
    }
   ],
   "source": [
    "ot_cleaned.describe()"
   ]
  },
  {
   "cell_type": "markdown",
   "id": "7ffa2ac9-371a-44bd-a640-62fded4e90a5",
   "metadata": {},
   "source": [
    "#### How to handle the canceled orders?\n",
    "Cancelation lead to negative values in 'quantity' and 'price'.\n",
    "The cancealtion entries contain a \"C\" in the invoice number. The orginial orders are still in the table.\n",
    "This effects acround 4,2% of the data set (original and cancelled orders).\n",
    "\n",
    "For the moment: <br>\n",
    "1) I've decided to postpone finding the solution and concentrate on the steps for data exploration and customer segmentation and\n",
    "2) I'll go with the workaround by excluding all negative values in 'quantity\" and 'price'\n"
   ]
  },
  {
   "cell_type": "code",
   "execution_count": 26,
   "id": "7fc73ec9-364a-426b-abba-46cf29447eb9",
   "metadata": {},
   "outputs": [],
   "source": [
    "#Exlude the data entries with negative values in 'quantity\" and 'price'\n",
    "query_cancelled= \"\"\"SELECT * \n",
    "                    FROM online_transactions_cleaned \n",
    "                    WHERE quantity > 0\n",
    "                        ;\"\"\"\n",
    "otc_fixed = pd.read_sql(query_cancelled, conn)"
   ]
  },
  {
   "cell_type": "code",
   "execution_count": 27,
   "id": "534fd595-5627-432e-8555-fdb5bd7f06b9",
   "metadata": {},
   "outputs": [
    {
     "data": {
      "text/html": [
       "<div>\n",
       "<style scoped>\n",
       "    .dataframe tbody tr th:only-of-type {\n",
       "        vertical-align: middle;\n",
       "    }\n",
       "\n",
       "    .dataframe tbody tr th {\n",
       "        vertical-align: top;\n",
       "    }\n",
       "\n",
       "    .dataframe thead th {\n",
       "        text-align: right;\n",
       "    }\n",
       "</style>\n",
       "<table border=\"1\" class=\"dataframe\">\n",
       "  <thead>\n",
       "    <tr style=\"text-align: right;\">\n",
       "      <th></th>\n",
       "      <th>price</th>\n",
       "      <th>quantity</th>\n",
       "      <th>total_order_value</th>\n",
       "    </tr>\n",
       "  </thead>\n",
       "  <tbody>\n",
       "    <tr>\n",
       "      <th>count</th>\n",
       "      <td>391334.000000</td>\n",
       "      <td>391334.000000</td>\n",
       "      <td>391334.000000</td>\n",
       "    </tr>\n",
       "    <tr>\n",
       "      <th>mean</th>\n",
       "      <td>2.920468</td>\n",
       "      <td>13.174199</td>\n",
       "      <td>22.372879</td>\n",
       "    </tr>\n",
       "    <tr>\n",
       "      <th>std</th>\n",
       "      <td>7.267548</td>\n",
       "      <td>181.871884</td>\n",
       "      <td>310.911086</td>\n",
       "    </tr>\n",
       "    <tr>\n",
       "      <th>min</th>\n",
       "      <td>0.000000</td>\n",
       "      <td>1.000000</td>\n",
       "      <td>0.000000</td>\n",
       "    </tr>\n",
       "    <tr>\n",
       "      <th>25%</th>\n",
       "      <td>1.250000</td>\n",
       "      <td>2.000000</td>\n",
       "      <td>4.950000</td>\n",
       "    </tr>\n",
       "    <tr>\n",
       "      <th>50%</th>\n",
       "      <td>1.950000</td>\n",
       "      <td>6.000000</td>\n",
       "      <td>11.900000</td>\n",
       "    </tr>\n",
       "    <tr>\n",
       "      <th>75%</th>\n",
       "      <td>3.750000</td>\n",
       "      <td>12.000000</td>\n",
       "      <td>19.800000</td>\n",
       "    </tr>\n",
       "    <tr>\n",
       "      <th>max</th>\n",
       "      <td>1599.260000</td>\n",
       "      <td>80995.000000</td>\n",
       "      <td>168469.600000</td>\n",
       "    </tr>\n",
       "  </tbody>\n",
       "</table>\n",
       "</div>"
      ],
      "text/plain": [
       "               price       quantity  total_order_value\n",
       "count  391334.000000  391334.000000      391334.000000\n",
       "mean        2.920468      13.174199          22.372879\n",
       "std         7.267548     181.871884         310.911086\n",
       "min         0.000000       1.000000           0.000000\n",
       "25%         1.250000       2.000000           4.950000\n",
       "50%         1.950000       6.000000          11.900000\n",
       "75%         3.750000      12.000000          19.800000\n",
       "max      1599.260000   80995.000000      168469.600000"
      ]
     },
     "execution_count": 27,
     "metadata": {},
     "output_type": "execute_result"
    }
   ],
   "source": [
    "otc_fixed.describe() "
   ]
  },
  {
   "cell_type": "markdown",
   "id": "d4a97521-0794-4cd7-be0d-7a085445349f",
   "metadata": {},
   "source": [
    "##  Explore the Dataset "
   ]
  },
  {
   "cell_type": "markdown",
   "id": "bec81f89-ef34-4349-a734-6f9b73332906",
   "metadata": {},
   "source": [
    "### How many different types of stocks did the customers purchase?\n"
   ]
  },
  {
   "cell_type": "code",
   "execution_count": 28,
   "id": "703a699c-03d5-4ed2-b56f-223c692fa8c6",
   "metadata": {},
   "outputs": [
    {
     "data": {
      "text/html": [
       "<div>\n",
       "<style scoped>\n",
       "    .dataframe tbody tr th:only-of-type {\n",
       "        vertical-align: middle;\n",
       "    }\n",
       "\n",
       "    .dataframe tbody tr th {\n",
       "        vertical-align: top;\n",
       "    }\n",
       "\n",
       "    .dataframe thead th {\n",
       "        text-align: right;\n",
       "    }\n",
       "</style>\n",
       "<table border=\"1\" class=\"dataframe\">\n",
       "  <thead>\n",
       "    <tr style=\"text-align: right;\">\n",
       "      <th></th>\n",
       "      <th>numbers_of_stocks</th>\n",
       "    </tr>\n",
       "  </thead>\n",
       "  <tbody>\n",
       "    <tr>\n",
       "      <th>0</th>\n",
       "      <td>3679</td>\n",
       "    </tr>\n",
       "  </tbody>\n",
       "</table>\n",
       "</div>"
      ],
      "text/plain": [
       "   numbers_of_stocks\n",
       "0               3679"
      ]
     },
     "execution_count": 28,
     "metadata": {},
     "output_type": "execute_result"
    }
   ],
   "source": [
    "query_stocks = pd.read_sql_query( \"\"\"\n",
    "select count (DISTINCT stock_code) as numbers_of_stocks\n",
    "from online_transactions_cleaned otc;\n",
    "\"\"\", conn)\n",
    "\n",
    "query_stocks"
   ]
  },
  {
   "cell_type": "markdown",
   "id": "48480556-6ead-415e-8a62-f399dc9c23c6",
   "metadata": {},
   "source": [
    "### What are the top ten most popular geographical locations?\n"
   ]
  },
  {
   "cell_type": "code",
   "execution_count": 29,
   "id": "4ac44030-2de5-4ae2-80ae-8705bc71081b",
   "metadata": {},
   "outputs": [],
   "source": [
    "country_counts = otc_fixed['country'].value_counts()"
   ]
  },
  {
   "cell_type": "code",
   "execution_count": 30,
   "id": "43210c27-af20-4b93-885f-ad259c71962e",
   "metadata": {},
   "outputs": [
    {
     "data": {
      "text/plain": [
       "country\n",
       "United Kingdom    348940\n",
       "Germany             8644\n",
       "France              8021\n",
       "EIRE                7226\n",
       "Spain               2418\n",
       "Netherlands         2326\n",
       "Belgium             1935\n",
       "Switzerland         1811\n",
       "Portugal            1416\n",
       "Australia           1183\n",
       "Name: count, dtype: int64"
      ]
     },
     "execution_count": 30,
     "metadata": {},
     "output_type": "execute_result"
    }
   ],
   "source": [
    "# Top 10 Locations\n",
    "top_10_countries = country_counts.head(10)\n",
    "\n",
    "top_10_countries"
   ]
  },
  {
   "cell_type": "markdown",
   "id": "3d267fa8-f93c-457f-9277-3b1502d169b0",
   "metadata": {},
   "source": [
    "### Which country spends the most?"
   ]
  },
  {
   "cell_type": "markdown",
   "id": "abab9f41-cd54-4bc2-b277-67f49bdff174",
   "metadata": {},
   "source": [
    "#### by Order value\n"
   ]
  },
  {
   "cell_type": "code",
   "execution_count": 40,
   "id": "2fa2923d-ce45-46f0-891d-29df555d1eb8",
   "metadata": {},
   "outputs": [],
   "source": [
    "total_sales_countries = pd.read_sql_query(\n",
    "    \"\"\"SELECT country, SUM(total_order_value) AS total_sales_volume\n",
    "    FROM online_transactions_cleaned otc\n",
    "    WHERE total_order_value > 0\n",
    "    GROUP BY country\n",
    "    ORDER BY SUM (total_order_value) DESC\n",
    "    LIMIT 10;\"\"\", conn)"
   ]
  },
  {
   "cell_type": "code",
   "execution_count": 41,
   "id": "e0ceaa80-a836-49ca-b582-8951c6e2d1f1",
   "metadata": {},
   "outputs": [
    {
     "data": {
      "text/html": [
       "<div>\n",
       "<style scoped>\n",
       "    .dataframe tbody tr th:only-of-type {\n",
       "        vertical-align: middle;\n",
       "    }\n",
       "\n",
       "    .dataframe tbody tr th {\n",
       "        vertical-align: top;\n",
       "    }\n",
       "\n",
       "    .dataframe thead th {\n",
       "        text-align: right;\n",
       "    }\n",
       "</style>\n",
       "<table border=\"1\" class=\"dataframe\">\n",
       "  <thead>\n",
       "    <tr style=\"text-align: right;\">\n",
       "      <th></th>\n",
       "      <th>country</th>\n",
       "      <th>total_sales_volume</th>\n",
       "    </tr>\n",
       "  </thead>\n",
       "  <tbody>\n",
       "    <tr>\n",
       "      <th>0</th>\n",
       "      <td>United Kingdom</td>\n",
       "      <td>7255684.833</td>\n",
       "    </tr>\n",
       "    <tr>\n",
       "      <th>1</th>\n",
       "      <td>Netherlands</td>\n",
       "      <td>283889.340</td>\n",
       "    </tr>\n",
       "    <tr>\n",
       "      <th>2</th>\n",
       "      <td>EIRE</td>\n",
       "      <td>261888.120</td>\n",
       "    </tr>\n",
       "    <tr>\n",
       "      <th>3</th>\n",
       "      <td>Germany</td>\n",
       "      <td>205381.150</td>\n",
       "    </tr>\n",
       "    <tr>\n",
       "      <th>4</th>\n",
       "      <td>France</td>\n",
       "      <td>183987.940</td>\n",
       "    </tr>\n",
       "    <tr>\n",
       "      <th>5</th>\n",
       "      <td>Australia</td>\n",
       "      <td>138103.810</td>\n",
       "    </tr>\n",
       "    <tr>\n",
       "      <th>6</th>\n",
       "      <td>Spain</td>\n",
       "      <td>55706.560</td>\n",
       "    </tr>\n",
       "    <tr>\n",
       "      <th>7</th>\n",
       "      <td>Switzerland</td>\n",
       "      <td>52441.950</td>\n",
       "    </tr>\n",
       "    <tr>\n",
       "      <th>8</th>\n",
       "      <td>Japan</td>\n",
       "      <td>37416.370</td>\n",
       "    </tr>\n",
       "    <tr>\n",
       "      <th>9</th>\n",
       "      <td>Belgium</td>\n",
       "      <td>36927.340</td>\n",
       "    </tr>\n",
       "  </tbody>\n",
       "</table>\n",
       "</div>"
      ],
      "text/plain": [
       "          country  total_sales_volume\n",
       "0  United Kingdom         7255684.833\n",
       "1     Netherlands          283889.340\n",
       "2            EIRE          261888.120\n",
       "3         Germany          205381.150\n",
       "4          France          183987.940\n",
       "5       Australia          138103.810\n",
       "6           Spain           55706.560\n",
       "7     Switzerland           52441.950\n",
       "8           Japan           37416.370\n",
       "9         Belgium           36927.340"
      ]
     },
     "execution_count": 41,
     "metadata": {},
     "output_type": "execute_result"
    }
   ],
   "source": [
    "total_sales_countries"
   ]
  },
  {
   "cell_type": "markdown",
   "id": "4d42d1cb-fc9d-42fe-8882-e6a65823dc35",
   "metadata": {},
   "source": [
    "#### by item quantity\n"
   ]
  },
  {
   "cell_type": "code",
   "execution_count": 42,
   "id": "d0787d3c-e88c-4528-9e33-78dedc441ce8",
   "metadata": {},
   "outputs": [],
   "source": [
    "total_soldquantity_countries = pd.read_sql_query(\n",
    "    \"\"\"SELECT country, SUM(quantity) AS total_solditems\n",
    "    FROM online_transactions_cleaned otc\n",
    "     WHERE total_order_value > 0\n",
    "    GROUP BY country\n",
    "    ORDER BY  SUM(quantity) DESC\n",
    "    LIMIT 10;\"\"\", conn)"
   ]
  },
  {
   "cell_type": "code",
   "execution_count": 43,
   "id": "20e910a4-2be7-4144-afb3-fc6058e9dc9b",
   "metadata": {},
   "outputs": [
    {
     "data": {
      "text/html": [
       "<div>\n",
       "<style scoped>\n",
       "    .dataframe tbody tr th:only-of-type {\n",
       "        vertical-align: middle;\n",
       "    }\n",
       "\n",
       "    .dataframe tbody tr th {\n",
       "        vertical-align: top;\n",
       "    }\n",
       "\n",
       "    .dataframe thead th {\n",
       "        text-align: right;\n",
       "    }\n",
       "</style>\n",
       "<table border=\"1\" class=\"dataframe\">\n",
       "  <thead>\n",
       "    <tr style=\"text-align: right;\">\n",
       "      <th></th>\n",
       "      <th>country</th>\n",
       "      <th>total_solditems</th>\n",
       "    </tr>\n",
       "  </thead>\n",
       "  <tbody>\n",
       "    <tr>\n",
       "      <th>0</th>\n",
       "      <td>United Kingdom</td>\n",
       "      <td>4234058</td>\n",
       "    </tr>\n",
       "    <tr>\n",
       "      <th>1</th>\n",
       "      <td>Netherlands</td>\n",
       "      <td>200258</td>\n",
       "    </tr>\n",
       "    <tr>\n",
       "      <th>2</th>\n",
       "      <td>EIRE</td>\n",
       "      <td>140131</td>\n",
       "    </tr>\n",
       "    <tr>\n",
       "      <th>3</th>\n",
       "      <td>Germany</td>\n",
       "      <td>118032</td>\n",
       "    </tr>\n",
       "    <tr>\n",
       "      <th>4</th>\n",
       "      <td>France</td>\n",
       "      <td>110597</td>\n",
       "    </tr>\n",
       "    <tr>\n",
       "      <th>5</th>\n",
       "      <td>Australia</td>\n",
       "      <td>83890</td>\n",
       "    </tr>\n",
       "    <tr>\n",
       "      <th>6</th>\n",
       "      <td>Sweden</td>\n",
       "      <td>36037</td>\n",
       "    </tr>\n",
       "    <tr>\n",
       "      <th>7</th>\n",
       "      <td>Switzerland</td>\n",
       "      <td>29980</td>\n",
       "    </tr>\n",
       "    <tr>\n",
       "      <th>8</th>\n",
       "      <td>Spain</td>\n",
       "      <td>27724</td>\n",
       "    </tr>\n",
       "    <tr>\n",
       "      <th>9</th>\n",
       "      <td>Japan</td>\n",
       "      <td>26016</td>\n",
       "    </tr>\n",
       "  </tbody>\n",
       "</table>\n",
       "</div>"
      ],
      "text/plain": [
       "          country  total_solditems\n",
       "0  United Kingdom          4234058\n",
       "1     Netherlands           200258\n",
       "2            EIRE           140131\n",
       "3         Germany           118032\n",
       "4          France           110597\n",
       "5       Australia            83890\n",
       "6          Sweden            36037\n",
       "7     Switzerland            29980\n",
       "8           Spain            27724\n",
       "9           Japan            26016"
      ]
     },
     "execution_count": 43,
     "metadata": {},
     "output_type": "execute_result"
    }
   ],
   "source": [
    "total_soldquantity_countries"
   ]
  },
  {
   "cell_type": "markdown",
   "id": "baab56b0-a33f-409c-8746-b0fc8148aaa3",
   "metadata": {},
   "source": [
    "### Looking at seasonality\n"
   ]
  },
  {
   "cell_type": "code",
   "execution_count": 44,
   "id": "97d5d339-ce89-4985-b442-f80125ed1fa8",
   "metadata": {},
   "outputs": [
    {
     "data": {
      "text/plain": [
       "invoice               object\n",
       "stock_code            object\n",
       "description           object\n",
       "invoice_date          object\n",
       "price                float64\n",
       "quantity               int64\n",
       "total_order_value    float64\n",
       "customer_id           object\n",
       "country               object\n",
       "dtype: object"
      ]
     },
     "execution_count": 44,
     "metadata": {},
     "output_type": "execute_result"
    }
   ],
   "source": [
    "#checking which datatype \"invoice_date\" has\n",
    "otc_fixed.dtypes"
   ]
  },
  {
   "cell_type": "code",
   "execution_count": 45,
   "id": "93668845-62be-4376-9eb2-06ad14c22dcf",
   "metadata": {
    "scrolled": true
   },
   "outputs": [],
   "source": [
    "# Convert invoice_date into datetime format\n",
    "otc_fixed['invoice_date'] = pd.to_datetime(otc_fixed['invoice_date'])"
   ]
  },
  {
   "cell_type": "code",
   "execution_count": 46,
   "id": "22410873-68bf-4c3f-9036-021569e47e33",
   "metadata": {},
   "outputs": [
    {
     "name": "stdout",
     "output_type": "stream",
     "text": [
      "0   2010-12-01 08:45:00\n",
      "1   2010-12-01 09:02:00\n",
      "2   2010-12-01 09:37:00\n",
      "3   2010-12-01 09:41:00\n",
      "4   2010-12-01 09:41:00\n",
      "Name: invoice_date, dtype: datetime64[ns]\n"
     ]
    }
   ],
   "source": [
    "#counter check the data type\n",
    "print(otc_fixed['invoice_date'].head())"
   ]
  },
  {
   "cell_type": "markdown",
   "id": "7c1c13a7-dd7d-4892-b4c6-a91f1487301b",
   "metadata": {},
   "source": [
    "#### How many unique invoices per month in 2011?"
   ]
  },
  {
   "cell_type": "code",
   "execution_count": 47,
   "id": "0895f843-1300-49b2-8c76-b97965365c0c",
   "metadata": {},
   "outputs": [
    {
     "name": "stdout",
     "output_type": "stream",
     "text": [
      "       invoice\n",
      "Month         \n",
      "1          983\n",
      "2          993\n",
      "3         1312\n",
      "4         1139\n",
      "5         1544\n",
      "6         1390\n",
      "7         1321\n",
      "8         1269\n",
      "9         1740\n",
      "10        1903\n",
      "11        2643\n",
      "12         776\n"
     ]
    }
   ],
   "source": [
    "#How many unique invoices per month in 2011?\n",
    "\n",
    "#Filter year 2011\n",
    "otc_fixed_2011 = otc_fixed[otc_fixed['invoice_date'].dt.year == 2011].copy()\n",
    "\n",
    "# Create a variable to extract the month\n",
    "otc_fixed_2011['Month'] = otc_fixed_2011['invoice_date'].dt.month\n",
    "\n",
    "# Create a df while using the groupby function to count the number of unique invoices per month\n",
    "monthly_invoices_2011 = pd.DataFrame(otc_fixed_2011.groupby(['Month']).nunique()['invoice'])\n",
    "\n",
    "print(monthly_invoices_2011)"
   ]
  },
  {
   "cell_type": "code",
   "execution_count": 48,
   "id": "f20ee93e-e9f1-449f-bb70-49d5f54fec09",
   "metadata": {},
   "outputs": [
    {
     "data": {
      "image/png": "[encoded data removed]",
      "text/plain": [
       "<Figure size 640x480 with 1 Axes>"
      ]
     },
     "metadata": {},
     "output_type": "display_data"
    }
   ],
   "source": [
    "# Plotting the invoices per month in 2011 \n",
    "\n",
    "plt.bar(monthly_invoices_2011.index, monthly_invoices_2011['invoice'])\n",
    "plt.title (\"Number of invoices in 2011 by Month\")\n",
    "plt.xlabel('Months in 2011')\n",
    "plt.ylabel('Numbers of invoices')\n",
    "plt.xticks(range (1,13))\n",
    "plt.xticks(monthly_invoices_2011.index, \n",
    "           ['Jan', 'Feb', 'Mar', 'Apr', 'May', 'Jun', 'Jul', 'Aug', 'Sep', 'Oct', 'Nov', 'Dec'])\n",
    "plt.show()"
   ]
  },
  {
   "cell_type": "markdown",
   "id": "87a43139-ee3e-420f-beff-61017d820b81",
   "metadata": {},
   "source": [
    "<b>Result:</b>\n",
    "- In the middle of the year (may, june) is a slight peak.\n",
    "- From September on the invoices rise with a peak in November. Assumption: Preparing for the Christmas season"
   ]
  },
  {
   "cell_type": "markdown",
   "id": "c1934644-10f4-411a-adeb-81adc53e76c9",
   "metadata": {},
   "source": [
    "#### Which day of the week has the highest number of transactions?"
   ]
  },
  {
   "cell_type": "code",
   "execution_count": 49,
   "id": "d28ad7ea-9141-4daa-95f7-5c83bf712a01",
   "metadata": {},
   "outputs": [],
   "source": [
    "# Create week day name\n",
    "otc_fixed_2011['weekday_name'] = otc_fixed_2011['invoice_date'].dt.day_name()\n",
    "\n",
    "# Count invoices per week day\n",
    "weekday_counts = otc_fixed_2011['weekday_name'].value_counts().reindex([\n",
    "    'Monday', 'Tuesday', 'Wednesday', 'Thursday', 'Friday', 'Saturday', 'Sunday'\n",
    "])"
   ]
  },
  {
   "cell_type": "code",
   "execution_count": 50,
   "id": "da8055c7-4a0f-4798-8b1e-716ab459396d",
   "metadata": {},
   "outputs": [
    {
     "name": "stdout",
     "output_type": "stream",
     "text": [
      "weekday_name\n",
      "Monday       60029.0\n",
      "Tuesday      62440.0\n",
      "Wednesday    62508.0\n",
      "Thursday     73293.0\n",
      "Friday       50831.0\n",
      "Saturday         NaN\n",
      "Sunday       56652.0\n",
      "Name: count, dtype: float64\n"
     ]
    }
   ],
   "source": [
    "print(weekday_counts)"
   ]
  },
  {
   "cell_type": "code",
   "execution_count": 51,
   "id": "94d0549c-02d6-4b09-a633-0132624dc289",
   "metadata": {},
   "outputs": [
    {
     "data": {
      "text/plain": [
       "<Axes: xlabel='weekday_name'>"
      ]
     },
     "execution_count": 51,
     "metadata": {},
     "output_type": "execute_result"
    },
    {
     "data": {
      "image/png": "[encoded data removed]",
      "text/plain": [
       "<Figure size 640x480 with 1 Axes>"
      ]
     },
     "metadata": {},
     "output_type": "display_data"
    }
   ],
   "source": [
    "# simple & quick visualisation\n",
    "weekday_counts.plot(kind='bar')"
   ]
  },
  {
   "cell_type": "markdown",
   "id": "0781b8a8-f858-4686-b0eb-4e2c030a1875",
   "metadata": {},
   "source": [
    "##### Conclusion: \n",
    "On Thursday, the order volume is slightly higher than the rest of the week. For the rest of the weekdays the orders are distributed almost evenly, except for saturday. on saturdays are not orders placed <br>\n",
    "\n",
    "Note to myself:\n",
    "<b>tod<b>o:\n",
    "give a summary in words about the findings and dimenions of the database and numbers"
   ]
  },
  {
   "cell_type": "markdown",
   "id": "0d422f84-b3a4-4eb4-b411-c1660ce8f8fe",
   "metadata": {},
   "source": [
    "### Which customers have purchased the most ?"
   ]
  },
  {
   "cell_type": "code",
   "execution_count": 52,
   "id": "261f969f-bcd4-4a86-a26a-96b471ca5397",
   "metadata": {},
   "outputs": [],
   "source": [
    "# Calculating the sum of order value per customer_id \n",
    "\n",
    "otc_fixed_salesbycustomer = pd.DataFrame(otc_fixed.groupby(['customer_id']).sum(numeric_only=True)['total_order_value'])"
   ]
  },
  {
   "cell_type": "code",
   "execution_count": 53,
   "id": "00ec03c0-07f6-409f-b664-38313659b5eb",
   "metadata": {
    "scrolled": true
   },
   "outputs": [
    {
     "data": {
      "text/html": [
       "<div>\n",
       "<style scoped>\n",
       "    .dataframe tbody tr th:only-of-type {\n",
       "        vertical-align: middle;\n",
       "    }\n",
       "\n",
       "    .dataframe tbody tr th {\n",
       "        vertical-align: top;\n",
       "    }\n",
       "\n",
       "    .dataframe thead th {\n",
       "        text-align: right;\n",
       "    }\n",
       "</style>\n",
       "<table border=\"1\" class=\"dataframe\">\n",
       "  <thead>\n",
       "    <tr style=\"text-align: right;\">\n",
       "      <th></th>\n",
       "      <th>total_order_value</th>\n",
       "    </tr>\n",
       "    <tr>\n",
       "      <th>customer_id</th>\n",
       "      <th></th>\n",
       "    </tr>\n",
       "  </thead>\n",
       "  <tbody>\n",
       "    <tr>\n",
       "      <th>u14646</th>\n",
       "      <td>279138.02</td>\n",
       "    </tr>\n",
       "    <tr>\n",
       "      <th>u18102</th>\n",
       "      <td>259657.30</td>\n",
       "    </tr>\n",
       "    <tr>\n",
       "      <th>u1745</th>\n",
       "      <td>194390.79</td>\n",
       "    </tr>\n",
       "    <tr>\n",
       "      <th>u16446</th>\n",
       "      <td>168472.50</td>\n",
       "    </tr>\n",
       "    <tr>\n",
       "      <th>u14911</th>\n",
       "      <td>140336.83</td>\n",
       "    </tr>\n",
       "    <tr>\n",
       "      <th>...</th>\n",
       "      <td>...</td>\n",
       "    </tr>\n",
       "    <tr>\n",
       "      <th>u17956</th>\n",
       "      <td>12.75</td>\n",
       "    </tr>\n",
       "    <tr>\n",
       "      <th>u14792</th>\n",
       "      <td>6.20</td>\n",
       "    </tr>\n",
       "    <tr>\n",
       "      <th>u16454</th>\n",
       "      <td>5.90</td>\n",
       "    </tr>\n",
       "    <tr>\n",
       "      <th>u16738</th>\n",
       "      <td>3.75</td>\n",
       "    </tr>\n",
       "    <tr>\n",
       "      <th>u13256</th>\n",
       "      <td>0.00</td>\n",
       "    </tr>\n",
       "  </tbody>\n",
       "</table>\n",
       "<p>4335 rows × 1 columns</p>\n",
       "</div>"
      ],
      "text/plain": [
       "             total_order_value\n",
       "customer_id                   \n",
       "u14646               279138.02\n",
       "u18102               259657.30\n",
       "u1745                194390.79\n",
       "u16446               168472.50\n",
       "u14911               140336.83\n",
       "...                        ...\n",
       "u17956                   12.75\n",
       "u14792                    6.20\n",
       "u16454                    5.90\n",
       "u16738                    3.75\n",
       "u13256                    0.00\n",
       "\n",
       "[4335 rows x 1 columns]"
      ]
     },
     "execution_count": 53,
     "metadata": {},
     "output_type": "execute_result"
    }
   ],
   "source": [
    "#just trying out the sort.value\n",
    "otc_fixed_salesbycustomer.sort_values(by=['total_order_value'],ascending = False)"
   ]
  },
  {
   "cell_type": "code",
   "execution_count": 54,
   "id": "a4ff4608-1c0a-492b-b095-88971fc1c83f",
   "metadata": {},
   "outputs": [
    {
     "data": {
      "text/plain": [
       "2019.669700807382"
      ]
     },
     "execution_count": 54,
     "metadata": {},
     "output_type": "execute_result"
    }
   ],
   "source": [
    "# Average spending by customer\n",
    "otc_fixed_salesbycustomer['total_order_value'].mean()"
   ]
  },
  {
   "cell_type": "code",
   "execution_count": 55,
   "id": "7eb15d11-2180-4c84-be37-b78f6d36f52b",
   "metadata": {},
   "outputs": [],
   "source": [
    "#Which customers purchased above the average (= high profile customers)?\n",
    "high_profil_customer = otc_fixed_salesbycustomer[(otc_fixed_salesbycustomer['total_order_value']> 2019.669700807382)]\n"
   ]
  },
  {
   "cell_type": "code",
   "execution_count": 56,
   "id": "a8367ae4-b5ac-4605-a58c-a50619ecfd30",
   "metadata": {},
   "outputs": [
    {
     "data": {
      "text/html": [
       "<div>\n",
       "<style scoped>\n",
       "    .dataframe tbody tr th:only-of-type {\n",
       "        vertical-align: middle;\n",
       "    }\n",
       "\n",
       "    .dataframe tbody tr th {\n",
       "        vertical-align: top;\n",
       "    }\n",
       "\n",
       "    .dataframe thead th {\n",
       "        text-align: right;\n",
       "    }\n",
       "</style>\n",
       "<table border=\"1\" class=\"dataframe\">\n",
       "  <thead>\n",
       "    <tr style=\"text-align: right;\">\n",
       "      <th></th>\n",
       "      <th>total_order_value</th>\n",
       "    </tr>\n",
       "    <tr>\n",
       "      <th>customer_id</th>\n",
       "      <th></th>\n",
       "    </tr>\n",
       "  </thead>\n",
       "  <tbody>\n",
       "    <tr>\n",
       "      <th>u14646</th>\n",
       "      <td>279138.02</td>\n",
       "    </tr>\n",
       "    <tr>\n",
       "      <th>u18102</th>\n",
       "      <td>259657.30</td>\n",
       "    </tr>\n",
       "    <tr>\n",
       "      <th>u1745</th>\n",
       "      <td>194390.79</td>\n",
       "    </tr>\n",
       "    <tr>\n",
       "      <th>u16446</th>\n",
       "      <td>168472.50</td>\n",
       "    </tr>\n",
       "    <tr>\n",
       "      <th>u14911</th>\n",
       "      <td>140336.83</td>\n",
       "    </tr>\n",
       "    <tr>\n",
       "      <th>...</th>\n",
       "      <td>...</td>\n",
       "    </tr>\n",
       "    <tr>\n",
       "      <th>u12501</th>\n",
       "      <td>2025.39</td>\n",
       "    </tr>\n",
       "    <tr>\n",
       "      <th>u16409</th>\n",
       "      <td>2022.98</td>\n",
       "    </tr>\n",
       "    <tr>\n",
       "      <th>u14482</th>\n",
       "      <td>2022.81</td>\n",
       "    </tr>\n",
       "    <tr>\n",
       "      <th>u15341</th>\n",
       "      <td>2020.52</td>\n",
       "    </tr>\n",
       "    <tr>\n",
       "      <th>u17625</th>\n",
       "      <td>2020.40</td>\n",
       "    </tr>\n",
       "  </tbody>\n",
       "</table>\n",
       "<p>873 rows × 1 columns</p>\n",
       "</div>"
      ],
      "text/plain": [
       "             total_order_value\n",
       "customer_id                   \n",
       "u14646               279138.02\n",
       "u18102               259657.30\n",
       "u1745                194390.79\n",
       "u16446               168472.50\n",
       "u14911               140336.83\n",
       "...                        ...\n",
       "u12501                 2025.39\n",
       "u16409                 2022.98\n",
       "u14482                 2022.81\n",
       "u15341                 2020.52\n",
       "u17625                 2020.40\n",
       "\n",
       "[873 rows x 1 columns]"
      ]
     },
     "execution_count": 56,
     "metadata": {},
     "output_type": "execute_result"
    }
   ],
   "source": [
    "high_profil_customer.sort_values(by=['total_order_value'],ascending = False)\n"
   ]
  },
  {
   "cell_type": "markdown",
   "id": "f16165f8-e5d0-428b-b6ee-b37a098f194d",
   "metadata": {},
   "source": [
    "Note to myself: To create \"high_profil_customer\" is not really necessary. This will be covered by the segmentation by Sales Amount. see below\n"
   ]
  },
  {
   "cell_type": "code",
   "execution_count": 57,
   "id": "948fc2db-3106-4f1a-89a9-9caf6ae46876",
   "metadata": {},
   "outputs": [],
   "source": [
    "# Which customers have ordered more than once?\n",
    "otc_fixed_frequency = pd.DataFrame(otc_fixed.groupby('customer_id')['invoice'].nunique().reset_index())\n",
    "otc_fixed_frequency.columns = ['customer_id', 'frequency']"
   ]
  },
  {
   "cell_type": "code",
   "execution_count": 58,
   "id": "f8d66cac-d67a-4232-8df4-52a8f809032a",
   "metadata": {},
   "outputs": [
    {
     "data": {
      "text/html": [
       "<div>\n",
       "<style scoped>\n",
       "    .dataframe tbody tr th:only-of-type {\n",
       "        vertical-align: middle;\n",
       "    }\n",
       "\n",
       "    .dataframe tbody tr th {\n",
       "        vertical-align: top;\n",
       "    }\n",
       "\n",
       "    .dataframe thead th {\n",
       "        text-align: right;\n",
       "    }\n",
       "</style>\n",
       "<table border=\"1\" class=\"dataframe\">\n",
       "  <thead>\n",
       "    <tr style=\"text-align: right;\">\n",
       "      <th></th>\n",
       "      <th>customer_id</th>\n",
       "      <th>frequency</th>\n",
       "    </tr>\n",
       "  </thead>\n",
       "  <tbody>\n",
       "    <tr>\n",
       "      <th>0</th>\n",
       "      <td>u12346</td>\n",
       "      <td>1</td>\n",
       "    </tr>\n",
       "    <tr>\n",
       "      <th>1</th>\n",
       "      <td>u12347</td>\n",
       "      <td>7</td>\n",
       "    </tr>\n",
       "    <tr>\n",
       "      <th>2</th>\n",
       "      <td>u12348</td>\n",
       "      <td>4</td>\n",
       "    </tr>\n",
       "    <tr>\n",
       "      <th>3</th>\n",
       "      <td>u12349</td>\n",
       "      <td>1</td>\n",
       "    </tr>\n",
       "    <tr>\n",
       "      <th>4</th>\n",
       "      <td>u1235</td>\n",
       "      <td>1</td>\n",
       "    </tr>\n",
       "    <tr>\n",
       "      <th>...</th>\n",
       "      <td>...</td>\n",
       "      <td>...</td>\n",
       "    </tr>\n",
       "    <tr>\n",
       "      <th>4330</th>\n",
       "      <td>u1828</td>\n",
       "      <td>1</td>\n",
       "    </tr>\n",
       "    <tr>\n",
       "      <th>4331</th>\n",
       "      <td>u18281</td>\n",
       "      <td>1</td>\n",
       "    </tr>\n",
       "    <tr>\n",
       "      <th>4332</th>\n",
       "      <td>u18282</td>\n",
       "      <td>2</td>\n",
       "    </tr>\n",
       "    <tr>\n",
       "      <th>4333</th>\n",
       "      <td>u18283</td>\n",
       "      <td>16</td>\n",
       "    </tr>\n",
       "    <tr>\n",
       "      <th>4334</th>\n",
       "      <td>u18287</td>\n",
       "      <td>3</td>\n",
       "    </tr>\n",
       "  </tbody>\n",
       "</table>\n",
       "<p>4335 rows × 2 columns</p>\n",
       "</div>"
      ],
      "text/plain": [
       "     customer_id  frequency\n",
       "0         u12346          1\n",
       "1         u12347          7\n",
       "2         u12348          4\n",
       "3         u12349          1\n",
       "4          u1235          1\n",
       "...          ...        ...\n",
       "4330       u1828          1\n",
       "4331      u18281          1\n",
       "4332      u18282          2\n",
       "4333      u18283         16\n",
       "4334      u18287          3\n",
       "\n",
       "[4335 rows x 2 columns]"
      ]
     },
     "execution_count": 58,
     "metadata": {},
     "output_type": "execute_result"
    }
   ],
   "source": [
    "otc_fixed_frequency"
   ]
  },
  {
   "cell_type": "code",
   "execution_count": 59,
   "id": "c2c788a0-a6ad-4e9b-983f-db0c5c40eb95",
   "metadata": {},
   "outputs": [],
   "source": [
    "#Customers, who ordered more than 1x are \"recurring customers\" ->  = recur_custom\n",
    "\n",
    "recur_custom = otc_fixed_frequency[(otc_fixed_frequency['frequency']> 1)]"
   ]
  },
  {
   "cell_type": "code",
   "execution_count": 60,
   "id": "0eb9f527-b958-4d7c-ba18-968631a5dc35",
   "metadata": {},
   "outputs": [
    {
     "data": {
      "text/html": [
       "<div>\n",
       "<style scoped>\n",
       "    .dataframe tbody tr th:only-of-type {\n",
       "        vertical-align: middle;\n",
       "    }\n",
       "\n",
       "    .dataframe tbody tr th {\n",
       "        vertical-align: top;\n",
       "    }\n",
       "\n",
       "    .dataframe thead th {\n",
       "        text-align: right;\n",
       "    }\n",
       "</style>\n",
       "<table border=\"1\" class=\"dataframe\">\n",
       "  <thead>\n",
       "    <tr style=\"text-align: right;\">\n",
       "      <th></th>\n",
       "      <th>customer_id</th>\n",
       "      <th>frequency</th>\n",
       "    </tr>\n",
       "  </thead>\n",
       "  <tbody>\n",
       "    <tr>\n",
       "      <th>326</th>\n",
       "      <td>u12748</td>\n",
       "      <td>206</td>\n",
       "    </tr>\n",
       "    <tr>\n",
       "      <th>1880</th>\n",
       "      <td>u14911</td>\n",
       "      <td>199</td>\n",
       "    </tr>\n",
       "    <tr>\n",
       "      <th>4008</th>\n",
       "      <td>u17841</td>\n",
       "      <td>124</td>\n",
       "    </tr>\n",
       "    <tr>\n",
       "      <th>562</th>\n",
       "      <td>u13089</td>\n",
       "      <td>97</td>\n",
       "    </tr>\n",
       "    <tr>\n",
       "      <th>2177</th>\n",
       "      <td>u15311</td>\n",
       "      <td>91</td>\n",
       "    </tr>\n",
       "    <tr>\n",
       "      <th>...</th>\n",
       "      <td>...</td>\n",
       "      <td>...</td>\n",
       "    </tr>\n",
       "    <tr>\n",
       "      <th>2015</th>\n",
       "      <td>u15101</td>\n",
       "      <td>2</td>\n",
       "    </tr>\n",
       "    <tr>\n",
       "      <th>3334</th>\n",
       "      <td>u16897</td>\n",
       "      <td>2</td>\n",
       "    </tr>\n",
       "    <tr>\n",
       "      <th>2007</th>\n",
       "      <td>u15092</td>\n",
       "      <td>2</td>\n",
       "    </tr>\n",
       "    <tr>\n",
       "      <th>2003</th>\n",
       "      <td>u15088</td>\n",
       "      <td>2</td>\n",
       "    </tr>\n",
       "    <tr>\n",
       "      <th>3510</th>\n",
       "      <td>u17144</td>\n",
       "      <td>2</td>\n",
       "    </tr>\n",
       "  </tbody>\n",
       "</table>\n",
       "<p>2829 rows × 2 columns</p>\n",
       "</div>"
      ],
      "text/plain": [
       "     customer_id  frequency\n",
       "326       u12748        206\n",
       "1880      u14911        199\n",
       "4008      u17841        124\n",
       "562       u13089         97\n",
       "2177      u15311         91\n",
       "...          ...        ...\n",
       "2015      u15101          2\n",
       "3334      u16897          2\n",
       "2007      u15092          2\n",
       "2003      u15088          2\n",
       "3510      u17144          2\n",
       "\n",
       "[2829 rows x 2 columns]"
      ]
     },
     "execution_count": 60,
     "metadata": {},
     "output_type": "execute_result"
    }
   ],
   "source": [
    "recur_custom.sort_values(by=['frequency'],ascending = False)                       "
   ]
  },
  {
   "cell_type": "code",
   "execution_count": 61,
   "id": "e4327661-61d9-40f8-adf3-a84af7002a03",
   "metadata": {},
   "outputs": [
    {
     "data": {
      "text/html": [
       "<div>\n",
       "<style scoped>\n",
       "    .dataframe tbody tr th:only-of-type {\n",
       "        vertical-align: middle;\n",
       "    }\n",
       "\n",
       "    .dataframe tbody tr th {\n",
       "        vertical-align: top;\n",
       "    }\n",
       "\n",
       "    .dataframe thead th {\n",
       "        text-align: right;\n",
       "    }\n",
       "</style>\n",
       "<table border=\"1\" class=\"dataframe\">\n",
       "  <thead>\n",
       "    <tr style=\"text-align: right;\">\n",
       "      <th></th>\n",
       "      <th>frequency</th>\n",
       "    </tr>\n",
       "  </thead>\n",
       "  <tbody>\n",
       "    <tr>\n",
       "      <th>count</th>\n",
       "      <td>2829.000000</td>\n",
       "    </tr>\n",
       "    <tr>\n",
       "      <th>mean</th>\n",
       "      <td>5.974549</td>\n",
       "    </tr>\n",
       "    <tr>\n",
       "      <th>std</th>\n",
       "      <td>8.996899</td>\n",
       "    </tr>\n",
       "    <tr>\n",
       "      <th>min</th>\n",
       "      <td>2.000000</td>\n",
       "    </tr>\n",
       "    <tr>\n",
       "      <th>25%</th>\n",
       "      <td>2.000000</td>\n",
       "    </tr>\n",
       "    <tr>\n",
       "      <th>50%</th>\n",
       "      <td>4.000000</td>\n",
       "    </tr>\n",
       "    <tr>\n",
       "      <th>75%</th>\n",
       "      <td>6.000000</td>\n",
       "    </tr>\n",
       "    <tr>\n",
       "      <th>max</th>\n",
       "      <td>206.000000</td>\n",
       "    </tr>\n",
       "  </tbody>\n",
       "</table>\n",
       "</div>"
      ],
      "text/plain": [
       "         frequency\n",
       "count  2829.000000\n",
       "mean      5.974549\n",
       "std       8.996899\n",
       "min       2.000000\n",
       "25%       2.000000\n",
       "50%       4.000000\n",
       "75%       6.000000\n",
       "max     206.000000"
      ]
     },
     "execution_count": 61,
     "metadata": {},
     "output_type": "execute_result"
    }
   ],
   "source": [
    "recur_custom.describe()"
   ]
  },
  {
   "cell_type": "markdown",
   "id": "521b7f8b-d278-4177-a9db-5dc847ea4fdb",
   "metadata": {},
   "source": [
    "-> The <b>average customer</b>: <br>\n",
    "- has ordered ca. 6 times and\n",
    "- purchased an order value of 2019€."
   ]
  },
  {
   "cell_type": "markdown",
   "id": "7257936b-6e26-4baf-a6cc-6701e01a96ed",
   "metadata": {},
   "source": [
    "## Creating Customer Categories \n",
    "### By Frequency\n"
   ]
  },
  {
   "cell_type": "code",
   "execution_count": 62,
   "id": "b98d5f45-75d3-4166-94be-e480691ad4b0",
   "metadata": {},
   "outputs": [],
   "source": [
    "# creating new column with the number of orders per customer = \"frequency\"\n",
    "\n",
    "def categorize_customers(frequency):\n",
    "    if 1 <= frequency <= 5:\n",
    "        return 'Occasional Customers'\n",
    "    elif 6 <= frequency <=100:\n",
    "        return 'Regular Customers'\n",
    "    else:\n",
    "        return 'Loyal Customers'\n",
    "\n",
    "otc_fixed_frequency['category'] = otc_fixed_frequency['frequency'].apply(categorize_customers)\n"
   ]
  },
  {
   "cell_type": "code",
   "execution_count": 63,
   "id": "db1bce2f-2e53-4cd4-9f78-e5f5186fe2c8",
   "metadata": {},
   "outputs": [
    {
     "data": {
      "text/html": [
       "<div>\n",
       "<style scoped>\n",
       "    .dataframe tbody tr th:only-of-type {\n",
       "        vertical-align: middle;\n",
       "    }\n",
       "\n",
       "    .dataframe tbody tr th {\n",
       "        vertical-align: top;\n",
       "    }\n",
       "\n",
       "    .dataframe thead th {\n",
       "        text-align: right;\n",
       "    }\n",
       "</style>\n",
       "<table border=\"1\" class=\"dataframe\">\n",
       "  <thead>\n",
       "    <tr style=\"text-align: right;\">\n",
       "      <th></th>\n",
       "      <th>customer_id</th>\n",
       "      <th>frequency</th>\n",
       "      <th>category</th>\n",
       "    </tr>\n",
       "  </thead>\n",
       "  <tbody>\n",
       "    <tr>\n",
       "      <th>0</th>\n",
       "      <td>u12346</td>\n",
       "      <td>1</td>\n",
       "      <td>Occasional Customers</td>\n",
       "    </tr>\n",
       "    <tr>\n",
       "      <th>1</th>\n",
       "      <td>u12347</td>\n",
       "      <td>7</td>\n",
       "      <td>Regular Customers</td>\n",
       "    </tr>\n",
       "    <tr>\n",
       "      <th>2</th>\n",
       "      <td>u12348</td>\n",
       "      <td>4</td>\n",
       "      <td>Occasional Customers</td>\n",
       "    </tr>\n",
       "    <tr>\n",
       "      <th>3</th>\n",
       "      <td>u12349</td>\n",
       "      <td>1</td>\n",
       "      <td>Occasional Customers</td>\n",
       "    </tr>\n",
       "    <tr>\n",
       "      <th>4</th>\n",
       "      <td>u1235</td>\n",
       "      <td>1</td>\n",
       "      <td>Occasional Customers</td>\n",
       "    </tr>\n",
       "    <tr>\n",
       "      <th>5</th>\n",
       "      <td>u12352</td>\n",
       "      <td>7</td>\n",
       "      <td>Regular Customers</td>\n",
       "    </tr>\n",
       "    <tr>\n",
       "      <th>6</th>\n",
       "      <td>u12353</td>\n",
       "      <td>1</td>\n",
       "      <td>Occasional Customers</td>\n",
       "    </tr>\n",
       "    <tr>\n",
       "      <th>7</th>\n",
       "      <td>u12354</td>\n",
       "      <td>1</td>\n",
       "      <td>Occasional Customers</td>\n",
       "    </tr>\n",
       "    <tr>\n",
       "      <th>8</th>\n",
       "      <td>u12355</td>\n",
       "      <td>1</td>\n",
       "      <td>Occasional Customers</td>\n",
       "    </tr>\n",
       "    <tr>\n",
       "      <th>9</th>\n",
       "      <td>u12356</td>\n",
       "      <td>3</td>\n",
       "      <td>Occasional Customers</td>\n",
       "    </tr>\n",
       "  </tbody>\n",
       "</table>\n",
       "</div>"
      ],
      "text/plain": [
       "  customer_id  frequency              category\n",
       "0      u12346          1  Occasional Customers\n",
       "1      u12347          7     Regular Customers\n",
       "2      u12348          4  Occasional Customers\n",
       "3      u12349          1  Occasional Customers\n",
       "4       u1235          1  Occasional Customers\n",
       "5      u12352          7     Regular Customers\n",
       "6      u12353          1  Occasional Customers\n",
       "7      u12354          1  Occasional Customers\n",
       "8      u12355          1  Occasional Customers\n",
       "9      u12356          3  Occasional Customers"
      ]
     },
     "execution_count": 63,
     "metadata": {},
     "output_type": "execute_result"
    }
   ],
   "source": [
    "otc_fixed_frequency.head(10)"
   ]
  },
  {
   "cell_type": "code",
   "execution_count": 64,
   "id": "cf07ff04-eb6e-4420-922d-bf25aa11bf64",
   "metadata": {},
   "outputs": [
    {
     "name": "stdout",
     "output_type": "stream",
     "text": [
      "category\n",
      "Occasional Customers    3470\n",
      "Regular Customers        862\n",
      "Loyal Customers            3\n",
      "Name: count, dtype: int64\n"
     ]
    }
   ],
   "source": [
    "print(otc_fixed_frequency['category'].value_counts())"
   ]
  },
  {
   "cell_type": "code",
   "execution_count": 65,
   "id": "7faad250-1bcf-437e-9a91-b86af069ab84",
   "metadata": {},
   "outputs": [
    {
     "data": {
      "text/plain": [
       "<Axes: xlabel='category'>"
      ]
     },
     "execution_count": 65,
     "metadata": {},
     "output_type": "execute_result"
    },
    {
     "data": {
      "image/png": "[encoded data removed]",
      "text/plain": [
       "<Figure size 640x480 with 1 Axes>"
      ]
     },
     "metadata": {},
     "output_type": "display_data"
    }
   ],
   "source": [
    "(otc_fixed_frequency['category'].value_counts()).plot(kind='bar')"
   ]
  },
  {
   "cell_type": "markdown",
   "id": "3cbaeceb-3ce2-4cba-8ba6-e2e706b45341",
   "metadata": {},
   "source": [
    "### By Sales Amount"
   ]
  },
  {
   "cell_type": "code",
   "execution_count": 66,
   "id": "d5575481-75e1-45c5-ae37-08227cbb02a5",
   "metadata": {},
   "outputs": [
    {
     "data": {
      "text/html": [
       "<div>\n",
       "<style scoped>\n",
       "    .dataframe tbody tr th:only-of-type {\n",
       "        vertical-align: middle;\n",
       "    }\n",
       "\n",
       "    .dataframe tbody tr th {\n",
       "        vertical-align: top;\n",
       "    }\n",
       "\n",
       "    .dataframe thead th {\n",
       "        text-align: right;\n",
       "    }\n",
       "</style>\n",
       "<table border=\"1\" class=\"dataframe\">\n",
       "  <thead>\n",
       "    <tr style=\"text-align: right;\">\n",
       "      <th></th>\n",
       "      <th>total_order_value</th>\n",
       "      <th>sales category</th>\n",
       "    </tr>\n",
       "    <tr>\n",
       "      <th>customer_id</th>\n",
       "      <th></th>\n",
       "      <th></th>\n",
       "    </tr>\n",
       "  </thead>\n",
       "  <tbody>\n",
       "    <tr>\n",
       "      <th>u12346</th>\n",
       "      <td>77183.60</td>\n",
       "      <td>High-spending Customers</td>\n",
       "    </tr>\n",
       "    <tr>\n",
       "      <th>u12347</th>\n",
       "      <td>4310.00</td>\n",
       "      <td>High-spending Customers</td>\n",
       "    </tr>\n",
       "    <tr>\n",
       "      <th>u12348</th>\n",
       "      <td>1437.24</td>\n",
       "      <td>Mid-spending Customers</td>\n",
       "    </tr>\n",
       "    <tr>\n",
       "      <th>u12349</th>\n",
       "      <td>1457.55</td>\n",
       "      <td>Mid-spending Customers</td>\n",
       "    </tr>\n",
       "    <tr>\n",
       "      <th>u1235</th>\n",
       "      <td>294.40</td>\n",
       "      <td>Low-spending Customers</td>\n",
       "    </tr>\n",
       "  </tbody>\n",
       "</table>\n",
       "</div>"
      ],
      "text/plain": [
       "             total_order_value           sales category\n",
       "customer_id                                            \n",
       "u12346                77183.60  High-spending Customers\n",
       "u12347                 4310.00  High-spending Customers\n",
       "u12348                 1437.24   Mid-spending Customers\n",
       "u12349                 1457.55   Mid-spending Customers\n",
       "u1235                   294.40   Low-spending Customers"
      ]
     },
     "execution_count": 66,
     "metadata": {},
     "output_type": "execute_result"
    }
   ],
   "source": [
    "def categorize_salesamount(total_order_value):\n",
    "    if 1 <= total_order_value <= 499:\n",
    "        return 'Low-spending Customers'\n",
    "    elif 500 <= total_order_value <= 2020:\n",
    "        return 'Mid-spending Customers'\n",
    "    else:\n",
    "        return 'High-spending Customers'\n",
    "\n",
    "otc_fixed_salesbycustomer['sales category'] = otc_fixed_salesbycustomer['total_order_value'].apply(categorize_salesamount)\n",
    "\n",
    "otc_fixed_salesbycustomer.head()"
   ]
  },
  {
   "cell_type": "code",
   "execution_count": 67,
   "id": "152e16d0-c0ff-4c5b-8a5a-87a48271c913",
   "metadata": {},
   "outputs": [
    {
     "name": "stdout",
     "output_type": "stream",
     "text": [
      "sales category\n",
      "Low-spending Customers     1775\n",
      "Mid-spending Customers     1682\n",
      "High-spending Customers     878\n",
      "Name: count, dtype: int64\n"
     ]
    }
   ],
   "source": [
    "print(otc_fixed_salesbycustomer['sales category'].value_counts())"
   ]
  },
  {
   "cell_type": "code",
   "execution_count": 68,
   "id": "ed7b669d-fccc-4e6f-ae45-52d5f3834817",
   "metadata": {},
   "outputs": [
    {
     "data": {
      "text/plain": [
       "<Axes: xlabel='sales category'>"
      ]
     },
     "execution_count": 68,
     "metadata": {},
     "output_type": "execute_result"
    },
    {
     "data": {
      "image/png": "[encoded data removed]",
      "text/plain": [
       "<Figure size 640x480 with 1 Axes>"
      ]
     },
     "metadata": {},
     "output_type": "display_data"
    }
   ],
   "source": [
    "(otc_fixed_salesbycustomer['sales category'].value_counts()).plot(kind='bar')"
   ]
  },
  {
   "cell_type": "markdown",
   "id": "9000e6bd-19bc-4784-9e92-361c3e86fc86",
   "metadata": {},
   "source": [
    "##### Next Questions/Tasks for later:\n",
    "- do a RFM segementation maybe\n",
    "- do some analysis based on the  segments.\n",
    "- what should the company do with these segments?!\n"
   ]
  },
  {
   "cell_type": "markdown",
   "id": "6d1ddd92-044e-4c05-8ce6-99bfc08b541a",
   "metadata": {},
   "source": [
    "## Customer Segmentation with KMeans Clustering "
   ]
  },
  {
   "cell_type": "markdown",
   "id": "6e4327b3-65a6-4a7d-9edc-1bdfce6396ba",
   "metadata": {},
   "source": [
    "### Aggregating Data at Customer Level\n",
    "aggregation on customer level to analyze each customer’s purchasing behavior."
   ]
  },
  {
   "cell_type": "code",
   "execution_count": 69,
   "id": "a3600723-7dd5-44c7-a201-1ce2770ef0f1",
   "metadata": {},
   "outputs": [],
   "source": [
    "# Aggregate data by CustomerID\n",
    "customer_data = otc_fixed.groupby('customer_id').agg({\n",
    "    'invoice_date': lambda x: (x.max() - x.min()).days,\n",
    "    'invoice': 'count',\n",
    "    'total_order_value': 'sum'\n",
    "}).rename(columns={'invoice_date': 'recency', 'invoice': 'frequency'})\n"
   ]
  },
  {
   "cell_type": "code",
   "execution_count": 70,
   "id": "92ab84fe-cbde-48ed-9f96-37d20b3b9169",
   "metadata": {},
   "outputs": [
    {
     "data": {
      "text/html": [
       "<div>\n",
       "<style scoped>\n",
       "    .dataframe tbody tr th:only-of-type {\n",
       "        vertical-align: middle;\n",
       "    }\n",
       "\n",
       "    .dataframe tbody tr th {\n",
       "        vertical-align: top;\n",
       "    }\n",
       "\n",
       "    .dataframe thead th {\n",
       "        text-align: right;\n",
       "    }\n",
       "</style>\n",
       "<table border=\"1\" class=\"dataframe\">\n",
       "  <thead>\n",
       "    <tr style=\"text-align: right;\">\n",
       "      <th></th>\n",
       "      <th>recency</th>\n",
       "      <th>frequency</th>\n",
       "      <th>total_order_value</th>\n",
       "    </tr>\n",
       "    <tr>\n",
       "      <th>customer_id</th>\n",
       "      <th></th>\n",
       "      <th></th>\n",
       "      <th></th>\n",
       "    </tr>\n",
       "  </thead>\n",
       "  <tbody>\n",
       "    <tr>\n",
       "      <th>u12346</th>\n",
       "      <td>0</td>\n",
       "      <td>1</td>\n",
       "      <td>77183.60</td>\n",
       "    </tr>\n",
       "    <tr>\n",
       "      <th>u12347</th>\n",
       "      <td>365</td>\n",
       "      <td>182</td>\n",
       "      <td>4310.00</td>\n",
       "    </tr>\n",
       "    <tr>\n",
       "      <th>u12348</th>\n",
       "      <td>282</td>\n",
       "      <td>27</td>\n",
       "      <td>1437.24</td>\n",
       "    </tr>\n",
       "    <tr>\n",
       "      <th>u12349</th>\n",
       "      <td>0</td>\n",
       "      <td>72</td>\n",
       "      <td>1457.55</td>\n",
       "    </tr>\n",
       "    <tr>\n",
       "      <th>u1235</th>\n",
       "      <td>0</td>\n",
       "      <td>16</td>\n",
       "      <td>294.40</td>\n",
       "    </tr>\n",
       "  </tbody>\n",
       "</table>\n",
       "</div>"
      ],
      "text/plain": [
       "             recency  frequency  total_order_value\n",
       "customer_id                                       \n",
       "u12346             0          1           77183.60\n",
       "u12347           365        182            4310.00\n",
       "u12348           282         27            1437.24\n",
       "u12349             0         72            1457.55\n",
       "u1235              0         16             294.40"
      ]
     },
     "execution_count": 70,
     "metadata": {},
     "output_type": "execute_result"
    }
   ],
   "source": [
    "customer_data.head()"
   ]
  },
  {
   "cell_type": "markdown",
   "id": "9702fce1-e09d-4e5f-ae0b-85f9245b2d33",
   "metadata": {},
   "source": [
    "### Removing Outliers"
   ]
  },
  {
   "cell_type": "code",
   "execution_count": 71,
   "id": "e62368d4-ee76-408c-882d-d80f46a35ce7",
   "metadata": {},
   "outputs": [
    {
     "name": "stdout",
     "output_type": "stream",
     "text": [
      "recency: \n"
     ]
    },
    {
     "data": {
      "image/png": "[encoded data removed]",
      "text/plain": [
       "<Figure size 640x480 with 1 Axes>"
      ]
     },
     "metadata": {},
     "output_type": "display_data"
    },
    {
     "name": "stdout",
     "output_type": "stream",
     "text": [
      "frequency: \n"
     ]
    },
    {
     "data": {
      "image/png": "[encoded data removed]",
      "text/plain": [
       "<Figure size 640x480 with 1 Axes>"
      ]
     },
     "metadata": {},
     "output_type": "display_data"
    },
    {
     "name": "stdout",
     "output_type": "stream",
     "text": [
      "total_order_value: \n"
     ]
    },
    {
     "data": {
      "image/png": "[encoded data removed]",
      "text/plain": [
       "<Figure size 640x480 with 1 Axes>"
      ]
     },
     "metadata": {},
     "output_type": "display_data"
    }
   ],
   "source": [
    "# Visualise the Outliers\n",
    "list = ['recency','frequency','total_order_value']\n",
    "for i in list:\n",
    "    print(str(i)+': ')\n",
    "    ax = sns.boxplot(x=customer_data[str(i)])\n",
    "    plt.show()"
   ]
  },
  {
   "cell_type": "markdown",
   "id": "ef107672-7c49-43a1-866b-3e8f1f1a3fc7",
   "metadata": {},
   "source": [
    "Note to myself:\n",
    "z score\n",
    "\"remove outliers in every column of our dataframe (We are going to remove every data point with a Z-Score>=3):\""
   ]
  },
  {
   "cell_type": "code",
   "execution_count": 72,
   "id": "1158988a-2178-4ad0-9fba-2dbc310def59",
   "metadata": {},
   "outputs": [],
   "source": [
    "#Reindex so that the customer_id is not the index anymore, but a column, that can be filtred out\n",
    "new_df_reindexed = customer_data.reset_index()"
   ]
  },
  {
   "cell_type": "code",
   "execution_count": 73,
   "id": "3880a210-f22d-498e-91ae-740cc1c16eed",
   "metadata": {},
   "outputs": [
    {
     "data": {
      "text/html": [
       "<div>\n",
       "<style scoped>\n",
       "    .dataframe tbody tr th:only-of-type {\n",
       "        vertical-align: middle;\n",
       "    }\n",
       "\n",
       "    .dataframe tbody tr th {\n",
       "        vertical-align: top;\n",
       "    }\n",
       "\n",
       "    .dataframe thead th {\n",
       "        text-align: right;\n",
       "    }\n",
       "</style>\n",
       "<table border=\"1\" class=\"dataframe\">\n",
       "  <thead>\n",
       "    <tr style=\"text-align: right;\">\n",
       "      <th></th>\n",
       "      <th>customer_id</th>\n",
       "      <th>recency</th>\n",
       "      <th>frequency</th>\n",
       "      <th>total_order_value</th>\n",
       "    </tr>\n",
       "  </thead>\n",
       "  <tbody>\n",
       "    <tr>\n",
       "      <th>0</th>\n",
       "      <td>u12346</td>\n",
       "      <td>0</td>\n",
       "      <td>1</td>\n",
       "      <td>77183.60</td>\n",
       "    </tr>\n",
       "    <tr>\n",
       "      <th>1</th>\n",
       "      <td>u12347</td>\n",
       "      <td>365</td>\n",
       "      <td>182</td>\n",
       "      <td>4310.00</td>\n",
       "    </tr>\n",
       "    <tr>\n",
       "      <th>2</th>\n",
       "      <td>u12348</td>\n",
       "      <td>282</td>\n",
       "      <td>27</td>\n",
       "      <td>1437.24</td>\n",
       "    </tr>\n",
       "    <tr>\n",
       "      <th>3</th>\n",
       "      <td>u12349</td>\n",
       "      <td>0</td>\n",
       "      <td>72</td>\n",
       "      <td>1457.55</td>\n",
       "    </tr>\n",
       "    <tr>\n",
       "      <th>4</th>\n",
       "      <td>u1235</td>\n",
       "      <td>0</td>\n",
       "      <td>16</td>\n",
       "      <td>294.40</td>\n",
       "    </tr>\n",
       "  </tbody>\n",
       "</table>\n",
       "</div>"
      ],
      "text/plain": [
       "  customer_id  recency  frequency  total_order_value\n",
       "0      u12346        0          1           77183.60\n",
       "1      u12347      365        182            4310.00\n",
       "2      u12348      282         27            1437.24\n",
       "3      u12349        0         72            1457.55\n",
       "4       u1235        0         16             294.40"
      ]
     },
     "execution_count": 73,
     "metadata": {},
     "output_type": "execute_result"
    }
   ],
   "source": [
    "new_df_reindexed.head()"
   ]
  },
  {
   "cell_type": "code",
   "execution_count": 74,
   "id": "74f40c65-1285-4770-a352-22af341afb0d",
   "metadata": {},
   "outputs": [],
   "source": [
    "# remove the customer_id column\n",
    "new_df = new_df_reindexed[['recency','frequency','total_order_value']]\n",
    "\n",
    "# Remove outliers\n",
    "z_scores = stats.zscore(new_df)\n",
    "abs_z_scores = np.abs(z_scores)\n",
    "filtered_entries = (abs_z_scores < 3).all(axis=1)\n",
    "new_df_ol_removed = new_df[filtered_entries]"
   ]
  },
  {
   "cell_type": "code",
   "execution_count": 75,
   "id": "0b11747e-9a9c-4a52-b4c1-38c744bd75bf",
   "metadata": {},
   "outputs": [
    {
     "data": {
      "text/html": [
       "<div>\n",
       "<style scoped>\n",
       "    .dataframe tbody tr th:only-of-type {\n",
       "        vertical-align: middle;\n",
       "    }\n",
       "\n",
       "    .dataframe tbody tr th {\n",
       "        vertical-align: top;\n",
       "    }\n",
       "\n",
       "    .dataframe thead th {\n",
       "        text-align: right;\n",
       "    }\n",
       "</style>\n",
       "<table border=\"1\" class=\"dataframe\">\n",
       "  <thead>\n",
       "    <tr style=\"text-align: right;\">\n",
       "      <th></th>\n",
       "      <th>recency</th>\n",
       "      <th>frequency</th>\n",
       "      <th>total_order_value</th>\n",
       "    </tr>\n",
       "  </thead>\n",
       "  <tbody>\n",
       "    <tr>\n",
       "      <th>1</th>\n",
       "      <td>365</td>\n",
       "      <td>182</td>\n",
       "      <td>4310.00</td>\n",
       "    </tr>\n",
       "    <tr>\n",
       "      <th>2</th>\n",
       "      <td>282</td>\n",
       "      <td>27</td>\n",
       "      <td>1437.24</td>\n",
       "    </tr>\n",
       "    <tr>\n",
       "      <th>3</th>\n",
       "      <td>0</td>\n",
       "      <td>72</td>\n",
       "      <td>1457.55</td>\n",
       "    </tr>\n",
       "    <tr>\n",
       "      <th>4</th>\n",
       "      <td>0</td>\n",
       "      <td>16</td>\n",
       "      <td>294.40</td>\n",
       "    </tr>\n",
       "    <tr>\n",
       "      <th>5</th>\n",
       "      <td>260</td>\n",
       "      <td>77</td>\n",
       "      <td>1385.74</td>\n",
       "    </tr>\n",
       "  </tbody>\n",
       "</table>\n",
       "</div>"
      ],
      "text/plain": [
       "   recency  frequency  total_order_value\n",
       "1      365        182            4310.00\n",
       "2      282         27            1437.24\n",
       "3        0         72            1457.55\n",
       "4        0         16             294.40\n",
       "5      260         77            1385.74"
      ]
     },
     "execution_count": 75,
     "metadata": {},
     "output_type": "execute_result"
    }
   ],
   "source": [
    "new_df_ol_removed.head()"
   ]
  },
  {
   "cell_type": "markdown",
   "id": "a634a034-fa47-4d2f-8698-01f9c45730a6",
   "metadata": {},
   "source": [
    "### Applying the Elbow Method\n",
    "To determine the optimal number of clusters for KMeans"
   ]
  },
  {
   "cell_type": "code",
   "execution_count": 76,
   "id": "865d9595-14ab-4a61-ad13-bb8331a07145",
   "metadata": {},
   "outputs": [
    {
     "data": {
      "image/png": "[encoded data removed]",
      "text/plain": [
       "<Figure size 640x480 with 1 Axes>"
      ]
     },
     "metadata": {},
     "output_type": "display_data"
    }
   ],
   "source": [
    "# Scale the features\n",
    "scaler = StandardScaler()\n",
    "scaled_features = scaler.fit_transform(new_df_ol_removed[['recency', 'frequency', 'total_order_value']])\n",
    "\n",
    "# Determine the optimal number of clusters using the Elbow Method\n",
    "inertia = []\n",
    "for i in range(1, 11):\n",
    "    kmeans = KMeans(n_clusters=i, init='k-means++', random_state=42)\n",
    "    kmeans.fit(scaled_features)\n",
    "    inertia.append(kmeans.inertia_)\n",
    "\n",
    "# Plot the inertia for each number of clusters\n",
    "plt.plot(range(1, 11), inertia, marker='o')\n",
    "plt.title('Elbow Method')\n",
    "plt.xlabel('Number of Clusters')\n",
    "plt.ylabel('inertia')\n",
    "plt.show()"
   ]
  },
  {
   "cell_type": "code",
   "execution_count": 77,
   "id": "a856dfb6-4480-4d98-835f-53567848d322",
   "metadata": {},
   "outputs": [
    {
     "data": {
      "text/plain": [
       "numpy.ndarray"
      ]
     },
     "execution_count": 77,
     "metadata": {},
     "output_type": "execute_result"
    }
   ],
   "source": [
    "type(scaled_features)"
   ]
  },
  {
   "cell_type": "markdown",
   "id": "99c06ca6-6366-454b-ba60-e7fa07b920d6",
   "metadata": {},
   "source": [
    "### Implementing K-means Clustering"
   ]
  },
  {
   "cell_type": "code",
   "execution_count": 78,
   "id": "aedb49da-17fa-4b99-aefe-a9ae68569415",
   "metadata": {},
   "outputs": [],
   "source": [
    "# TODO: Create an instance of KMeans with the optimal number of clusters and fit it to the scaled data\n",
    "\n",
    "optimal_clusters = 4\n",
    "kmeans = KMeans(n_clusters= optimal_clusters, init=\"k-means++\",n_init='auto', random_state=42)\n",
    "\n",
    "# Fit the model to the scaled data\n",
    "\n",
    "new_df_ol_removed = new_df_ol_removed.copy()\n",
    "new_df_ol_removed[\"cluster\"] = kmeans.fit_predict(scaled_features)\n",
    "#(X, y=None, sample_weight=None)"
   ]
  },
  {
   "cell_type": "code",
   "execution_count": 79,
   "id": "0ae20436-a8c6-4c2f-a86d-ff8c2e673296",
   "metadata": {},
   "outputs": [
    {
     "name": "stdout",
     "output_type": "stream",
     "text": [
      "Silhouette Score: 0.544070080446038\n"
     ]
    }
   ],
   "source": [
    "# Calculate the silhouette score for the model.\n",
    "\n",
    "silhouette_avg = silhouette_score(scaled_features, new_df_ol_removed[\"cluster\"])\n",
    "\n",
    "print(f'Silhouette Score: {silhouette_avg}')\n",
    "\n",
    "#Reminder: Values closer to 1 are ideal\n",
    "                              "
   ]
  },
  {
   "cell_type": "markdown",
   "id": "b4fee966-3a1f-4cc2-81a5-1494a4a0a5d0",
   "metadata": {},
   "source": [
    "### Visualize the clusters"
   ]
  },
  {
   "cell_type": "code",
   "execution_count": 80,
   "id": "0be61c50-8344-40fc-9453-7059ec73a711",
   "metadata": {},
   "outputs": [
    {
     "data": {
      "image/png": "[encoded data removed]",
      "text/plain": [
       "<Figure size 640x480 with 1 Axes>"
      ]
     },
     "metadata": {},
     "output_type": "display_data"
    }
   ],
   "source": [
    "# Erstellen Sie den Scatter-Plot für jeden Cluster einzeln\n",
    "clusters = new_df_ol_removed[\"cluster\"].unique()\n",
    "\n",
    "for cluster in clusters:\n",
    "    cluster_data = new_df_ol_removed[new_df_ol_removed[\"cluster\"] == cluster]\n",
    "    plt.scatter(cluster_data['total_order_value'], \n",
    "                cluster_data['frequency'], \n",
    "                label=f'Cluster {cluster}')  # Label für die Legende\n",
    "\n",
    "# Achsen und Titel\n",
    "plt.xlabel('total_order_value')\n",
    "plt.ylabel('frequency')\n",
    "plt.title('K-means Clustering of customer data')\n",
    "\n",
    "plt.legend()\n",
    "plt.show()"
   ]
  },
  {
   "cell_type": "code",
   "execution_count": 81,
   "id": "f2ab67ad-3530-4b18-aed5-b073ddb57465",
   "metadata": {},
   "outputs": [],
   "source": [
    "# Analyzing cluster characteristics\n",
    "cluster_analysis = new_df_ol_removed.groupby('cluster').agg({\n",
    "    'recency': 'mean',\n",
    "    'frequency': 'mean',\n",
    "    'total_order_value': 'mean'\n",
    "})"
   ]
  },
  {
   "cell_type": "code",
   "execution_count": 82,
   "id": "9cf492cf-7ba3-45e2-9e2e-c66532b654d0",
   "metadata": {},
   "outputs": [
    {
     "data": {
      "text/html": [
       "<div>\n",
       "<style scoped>\n",
       "    .dataframe tbody tr th:only-of-type {\n",
       "        vertical-align: middle;\n",
       "    }\n",
       "\n",
       "    .dataframe tbody tr th {\n",
       "        vertical-align: top;\n",
       "    }\n",
       "\n",
       "    .dataframe thead th {\n",
       "        text-align: right;\n",
       "    }\n",
       "</style>\n",
       "<table border=\"1\" class=\"dataframe\">\n",
       "  <thead>\n",
       "    <tr style=\"text-align: right;\">\n",
       "      <th></th>\n",
       "      <th>recency</th>\n",
       "      <th>frequency</th>\n",
       "      <th>total_order_value</th>\n",
       "    </tr>\n",
       "    <tr>\n",
       "      <th>cluster</th>\n",
       "      <th></th>\n",
       "      <th></th>\n",
       "      <th></th>\n",
       "    </tr>\n",
       "  </thead>\n",
       "  <tbody>\n",
       "    <tr>\n",
       "      <th>0</th>\n",
       "      <td>22.876897</td>\n",
       "      <td>31.082631</td>\n",
       "      <td>509.998349</td>\n",
       "    </tr>\n",
       "    <tr>\n",
       "      <th>1</th>\n",
       "      <td>290.534177</td>\n",
       "      <td>300.055696</td>\n",
       "      <td>4100.324557</td>\n",
       "    </tr>\n",
       "    <tr>\n",
       "      <th>2</th>\n",
       "      <td>326.753247</td>\n",
       "      <td>318.844156</td>\n",
       "      <td>13962.683377</td>\n",
       "    </tr>\n",
       "    <tr>\n",
       "      <th>3</th>\n",
       "      <td>245.934028</td>\n",
       "      <td>78.916667</td>\n",
       "      <td>1488.128799</td>\n",
       "    </tr>\n",
       "  </tbody>\n",
       "</table>\n",
       "</div>"
      ],
      "text/plain": [
       "            recency   frequency  total_order_value\n",
       "cluster                                           \n",
       "0         22.876897   31.082631         509.998349\n",
       "1        290.534177  300.055696        4100.324557\n",
       "2        326.753247  318.844156       13962.683377\n",
       "3        245.934028   78.916667        1488.128799"
      ]
     },
     "execution_count": 82,
     "metadata": {},
     "output_type": "execute_result"
    }
   ],
   "source": [
    "cluster_analysis"
   ]
  },
  {
   "cell_type": "code",
   "execution_count": 83,
   "id": "fce90304-3c19-4682-a738-684cebda20dc",
   "metadata": {},
   "outputs": [
    {
     "data": {
      "text/plain": [
       "cluster\n",
       "0    2372\n",
       "3    1440\n",
       "1     395\n",
       "2      77\n",
       "Name: count, dtype: int64"
      ]
     },
     "execution_count": 83,
     "metadata": {},
     "output_type": "execute_result"
    }
   ],
   "source": [
    "new_df_ol_removed[\"cluster\"].value_counts()"
   ]
  },
  {
   "cell_type": "code",
   "execution_count": 90,
   "id": "9108c0f8-54f4-447f-a0ab-19d547a8d5e8",
   "metadata": {},
   "outputs": [
    {
     "data": {
      "image/png": "[encoded data removed]",
      "text/plain": [
       "<Figure size 640x480 with 1 Axes>"
      ]
     },
     "metadata": {},
     "output_type": "display_data"
    },
    {
     "data": {
      "image/png": "[encoded data removed]",
      "text/plain": [
       "<Figure size 640x480 with 1 Axes>"
      ]
     },
     "metadata": {},
     "output_type": "display_data"
    },
    {
     "data": {
      "image/png": "[encoded data removed]",
      "text/plain": [
       "<Figure size 640x480 with 1 Axes>"
      ]
     },
     "metadata": {},
     "output_type": "display_data"
    }
   ],
   "source": [
    "# Calculation the mean for each cluster\n",
    "avg_df = new_df_ol_removed.groupby(['cluster'], as_index=False).mean()\n",
    "\n",
    "# Convert into a string \n",
    "avg_df['cluster'] = avg_df['cluster'].astype(str)\n",
    "\n",
    "# Anzahl der Cluster ermitteln\n",
    "clusters = avg_df['cluster'].unique()\n",
    "\n",
    "# colour palette based on the number of clusters\n",
    "cmap = plt.get_cmap('viridis') \n",
    "colors = cmap(np.linspace(0, 1, len(clusters)))\n",
    "\n",
    "# Assign colour palette to the clusters \n",
    "palette = dict(zip(clusters, colors))\n",
    "\n",
    "# Create barplots für recency, frequncy and total_order_value \n",
    "for i in list:\n",
    "    sns.barplot(x='cluster', y=str(i), data=avg_df, palette=palette, hue='cluster',dodge=False, legend=False)\n",
    "    plt.show()\n",
    "\n"
   ]
  },
  {
   "cell_type": "markdown",
   "id": "17091d11-1e24-4820-9f19-e01bb5a55f1b",
   "metadata": {},
   "source": [
    "## Status of Work In Progress"
   ]
  },
  {
   "cell_type": "markdown",
   "id": "2c9154a5-2b5e-462a-be39-b57f2918ce11",
   "metadata": {},
   "source": [
    "Didnt make a conclusion yet, because the scatter plot looked odd to me. And their is still open how to handle the canceled orders properly. And would like to compare how others get their results and if their steps and results are very different to mine. Or try to make a RFM segmenation instead.\n"
   ]
  },
  {
   "cell_type": "code",
   "execution_count": null,
   "id": "892ede7c-11b4-470a-b626-3e170a318dd6",
   "metadata": {},
   "outputs": [],
   "source": []
  }
 ],
 "metadata": {
  "kernelspec": {
   "display_name": "Python 3 (ipykernel)",
   "language": "python",
   "name": "python3"
  },
  "language_info": {
   "codemirror_mode": {
    "name": "ipython",
    "version": 3
   },
   "file_extension": ".py",
   "mimetype": "text/x-python",
   "name": "python",
   "nbconvert_exporter": "python",
   "pygments_lexer": "ipython3",
   "version": "3.12.3"
  }
 },
 "nbformat": 4,
 "nbformat_minor": 5
}
